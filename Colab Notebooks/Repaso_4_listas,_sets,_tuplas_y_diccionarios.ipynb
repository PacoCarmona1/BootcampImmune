{
  "nbformat": 4,
  "nbformat_minor": 0,
  "metadata": {
    "colab": {
      "provenance": [],
      "collapsed_sections": [
        "kM8SzKIXaXC4",
        "wkZGMWl4aOkS",
        "x9m5VmYkabaO"
      ]
    },
    "kernelspec": {
      "name": "python3",
      "display_name": "Python 3"
    },
    "language_info": {
      "name": "python"
    }
  },
  "cells": [
    {
      "cell_type": "markdown",
      "source": [
        "# Listas, sets, tuplas y diccionarios"
      ],
      "metadata": {
        "id": "Z9KvKmIFZeI7"
      }
    },
    {
      "cell_type": "markdown",
      "source": [
        "### Listas (Lists)"
      ],
      "metadata": {
        "id": "OHzGzoVfm4qT"
      }
    },
    {
      "cell_type": "markdown",
      "source": [
        "Una lista puede tener una coleccion de cualquier tipo de variables. Incluso listas."
      ],
      "metadata": {
        "id": "c4KnwxPoZhfX"
      }
    },
    {
      "cell_type": "code",
      "execution_count": 1,
      "metadata": {
        "colab": {
          "base_uri": "https://localhost:8080/"
        },
        "id": "EfTuseSHZUT-",
        "outputId": "b9eb7ca5-7bc7-44b5-f25f-6f88f98c9b20"
      },
      "outputs": [
        {
          "output_type": "stream",
          "name": "stdout",
          "text": [
            "[[1, 2, 3], [4, 5, 6]]\n"
          ]
        }
      ],
      "source": [
        "a1 = [1,2,3]\n",
        "a2 = [4,5,6]\n",
        "A = [a1, a2]\n",
        "print(A)"
      ]
    },
    {
      "cell_type": "code",
      "source": [
        "B = [[10,20,30],\n",
        "     [40,50,60],\n",
        "     [70,80,90]]\n",
        "\n",
        "print(B[1][1])"
      ],
      "metadata": {
        "colab": {
          "base_uri": "https://localhost:8080/"
        },
        "id": "4PI5FbYmZ9Tf",
        "outputId": "97dfe0e3-41c1-4ed3-bcaa-cc548640bf08"
      },
      "execution_count": 3,
      "outputs": [
        {
          "output_type": "stream",
          "name": "stdout",
          "text": [
            "50\n"
          ]
        }
      ]
    },
    {
      "cell_type": "markdown",
      "source": [
        "### Tuplas (Tuples)"
      ],
      "metadata": {
        "id": "kM8SzKIXaXC4"
      }
    },
    {
      "cell_type": "code",
      "source": [
        "#Crear una tupla vacia\n",
        "tupla0 = ()\n",
        "print(tupla0)\n",
        "\n",
        "tupla00 = tuple()\n",
        "print(tupla00)"
      ],
      "metadata": {
        "colab": {
          "base_uri": "https://localhost:8080/"
        },
        "id": "oc_7hQ5Na0Dj",
        "outputId": "eed473be-992f-41db-ca8a-9798d4cd16ca"
      },
      "execution_count": 5,
      "outputs": [
        {
          "output_type": "stream",
          "name": "stdout",
          "text": [
            "()\n",
            "()\n"
          ]
        }
      ]
    },
    {
      "cell_type": "code",
      "source": [
        "#Crear una tupla con elementos\n",
        "tupla1 = (1, 2, 3)\n",
        "print(tupla1)"
      ],
      "metadata": {
        "colab": {
          "base_uri": "https://localhost:8080/"
        },
        "id": "BiMG5f2Naaot",
        "outputId": "eb62ee22-a97e-4516-ca59-d1867cae4a47"
      },
      "execution_count": 6,
      "outputs": [
        {
          "output_type": "stream",
          "name": "stdout",
          "text": [
            "(1, 2, 3)\n"
          ]
        }
      ]
    },
    {
      "cell_type": "code",
      "source": [
        "#Crear una tupla con variables de distintos tipos\n",
        "tupla_animal = (\"Zebra\",4,[\"rayas\",\"blanco\",\"negro\"])\n",
        "print(tupla_animal)"
      ],
      "metadata": {
        "colab": {
          "base_uri": "https://localhost:8080/"
        },
        "id": "R5YBzAEqaavY",
        "outputId": "d5945af0-bd53-462e-c32c-d9f6f0435f72"
      },
      "execution_count": 8,
      "outputs": [
        {
          "output_type": "stream",
          "name": "stdout",
          "text": [
            "('Zebra', 4, ['rayas', 'blanco', 'negro'])\n"
          ]
        }
      ]
    },
    {
      "cell_type": "code",
      "source": [
        "#Mostrar el valor que se encuentra en la posicion indicada por el indice\n",
        "#funciona igual que en las listas\n",
        "colores = (\"azul\",\"verde\",\"rojo\",\"amarillo\")\n",
        "print(colores[2])\n",
        "print(colores[-1])"
      ],
      "metadata": {
        "colab": {
          "base_uri": "https://localhost:8080/"
        },
        "id": "9FUVz1XWbsmp",
        "outputId": "ce8dd5c1-06f2-44c5-fd83-8a80b0a8ee6b"
      },
      "execution_count": 14,
      "outputs": [
        {
          "output_type": "stream",
          "name": "stdout",
          "text": [
            "rojo\n",
            "amarillo\n"
          ]
        }
      ]
    },
    {
      "cell_type": "code",
      "source": [
        "#Saber la cantidad de elementos de una tupla\n",
        "colores = (\"azul\",\"verde\",\"rojo\",\"amarillo\")\n",
        "print(len(colores))"
      ],
      "metadata": {
        "colab": {
          "base_uri": "https://localhost:8080/"
        },
        "id": "ZMVq9Z0Het7r",
        "outputId": "a2dd8d4f-17b8-477b-d366-220f581b679f"
      },
      "execution_count": 25,
      "outputs": [
        {
          "output_type": "stream",
          "name": "stdout",
          "text": [
            "4\n"
          ]
        }
      ]
    },
    {
      "cell_type": "code",
      "source": [
        "#Obtener el indice de un elemento de la tupla\n",
        "colores = (\"azul\",\"verde\",\"rojo\",\"amarillo\")\n",
        "print(colores.index(\"rojo\"))"
      ],
      "metadata": {
        "colab": {
          "base_uri": "https://localhost:8080/"
        },
        "id": "Grh1dfIubWmm",
        "outputId": "98411b3b-8595-456e-e643-5574d195647b"
      },
      "execution_count": 9,
      "outputs": [
        {
          "output_type": "stream",
          "name": "stdout",
          "text": [
            "2\n"
          ]
        }
      ]
    },
    {
      "cell_type": "code",
      "source": [
        "#Contar cuantos elementos hay con un determinado valor\n",
        "numeros = (1,2,2,2,3,4,4,4,4,5)\n",
        "print(numeros.count(2))"
      ],
      "metadata": {
        "colab": {
          "base_uri": "https://localhost:8080/"
        },
        "id": "2JtJGw19b2y7",
        "outputId": "61191fea-2c67-4663-abbb-a844d973639b"
      },
      "execution_count": 12,
      "outputs": [
        {
          "output_type": "stream",
          "name": "stdout",
          "text": [
            "3\n"
          ]
        }
      ]
    },
    {
      "cell_type": "code",
      "source": [
        "#Concatenar tuplas\n",
        "numeros = (1,2,2,2,3,4,4,4,4,5)\n",
        "colores = (\"azul\",\"verde\",\"rojo\",\"amarillo\")\n",
        "print(numeros + colores) # Output: (1, 2, \"Hey\", \"there\")"
      ],
      "metadata": {
        "colab": {
          "base_uri": "https://localhost:8080/"
        },
        "id": "Xy_fqEficG7J",
        "outputId": "056e5298-6a02-42ec-b8a9-5e93d86773b3"
      },
      "execution_count": 15,
      "outputs": [
        {
          "output_type": "stream",
          "name": "stdout",
          "text": [
            "(1, 2, 2, 2, 3, 4, 4, 4, 4, 5, 'azul', 'verde', 'rojo', 'amarillo')\n"
          ]
        }
      ]
    },
    {
      "cell_type": "code",
      "source": [
        "#Iterar una tupla\n",
        "colores = (\"azul\",\"verde\",\"rojo\",\"amarillo\")\n",
        "for color in colores:\n",
        "  print(color)"
      ],
      "metadata": {
        "colab": {
          "base_uri": "https://localhost:8080/"
        },
        "id": "kIWYhhsVcfWM",
        "outputId": "709c4e75-4e0d-4c39-a5b4-5bd35bac339b"
      },
      "execution_count": 16,
      "outputs": [
        {
          "output_type": "stream",
          "name": "stdout",
          "text": [
            "azul\n",
            "verde\n",
            "rojo\n",
            "amarillo\n"
          ]
        }
      ]
    },
    {
      "cell_type": "code",
      "source": [
        "#Verificar si un valor esta o no en una lista\n",
        "numeros = (1,2,2,2,3,4,4,4,4,5)\n",
        "resultado = 0 in numeros\n",
        "print(resultado)\n",
        "resultado = 5 in numeros\n",
        "print(resultado)\n",
        "resultado = 5 not in numeros\n",
        "print(resultado)"
      ],
      "metadata": {
        "colab": {
          "base_uri": "https://localhost:8080/"
        },
        "id": "uE_vrPn7dOMz",
        "outputId": "6ada62dc-0862-47e5-d150-46c117bcdfa5"
      },
      "execution_count": 26,
      "outputs": [
        {
          "output_type": "stream",
          "name": "stdout",
          "text": [
            "False\n",
            "True\n",
            "False\n"
          ]
        }
      ]
    },
    {
      "cell_type": "code",
      "source": [
        "#Comparacion\n",
        "resultado = (1,2,3) == (1,2,3)\n",
        "print(resultado)\n",
        "resultado = (3,2,1) == (1,2,3)\n",
        "print(resultado)"
      ],
      "metadata": {
        "colab": {
          "base_uri": "https://localhost:8080/"
        },
        "id": "DoiFqyy0drGG",
        "outputId": "e0579524-b5a0-4d5f-81a2-9501d71c1dd3"
      },
      "execution_count": 20,
      "outputs": [
        {
          "output_type": "stream",
          "name": "stdout",
          "text": [
            "True\n",
            "False\n"
          ]
        }
      ]
    },
    {
      "cell_type": "code",
      "source": [
        "#Packing and Unpacking\n",
        "tupla = 5,6,7 #Sin poner parentesis tambien funciona\n",
        "a,b,c = tupla\n",
        "print(c)\n",
        "print(a)\n",
        "print(b)"
      ],
      "metadata": {
        "colab": {
          "base_uri": "https://localhost:8080/"
        },
        "id": "jztgrYmlcpED",
        "outputId": "2d82b339-5343-430a-cc5b-6ac1b6eb9731"
      },
      "execution_count": 18,
      "outputs": [
        {
          "output_type": "stream",
          "name": "stdout",
          "text": [
            "7\n",
            "5\n",
            "6\n"
          ]
        }
      ]
    },
    {
      "cell_type": "markdown",
      "source": [
        "### Conjuntos (Sets)"
      ],
      "metadata": {
        "id": "wkZGMWl4aOkS"
      }
    },
    {
      "cell_type": "code",
      "source": [
        "#Crear un conjunto vacio\n",
        "s1 = set()\n",
        "print(s1)"
      ],
      "metadata": {
        "colab": {
          "base_uri": "https://localhost:8080/"
        },
        "id": "FfJTr1m2aSDL",
        "outputId": "d8c959ca-e4f9-4315-fe5a-4b6f08405c99"
      },
      "execution_count": 21,
      "outputs": [
        {
          "output_type": "stream",
          "name": "stdout",
          "text": [
            "set()\n"
          ]
        }
      ]
    },
    {
      "cell_type": "code",
      "source": [
        "#Crear un conjunto con valores\n",
        "s2 = {1,2,3,4,5}\n",
        "print(s2)\n",
        "\n",
        "#Un conjunto no tiene valores repetidos\n",
        "s3 = {1,1,1,1,1,1,1,1,2,2,2,2,2,2,2,3,3}\n",
        "print(s3)\n",
        "\n",
        "#Un conjunto puede contener valores de distintos tipos\n",
        "s4 = {1,\"a\",\"b\",\"a\",1,1,2}\n",
        "print(s4)"
      ],
      "metadata": {
        "colab": {
          "base_uri": "https://localhost:8080/"
        },
        "id": "-0E315SzajKT",
        "outputId": "66da2507-e855-402c-bceb-a34d13068653"
      },
      "execution_count": 24,
      "outputs": [
        {
          "output_type": "stream",
          "name": "stdout",
          "text": [
            "{1, 2, 3, 4, 5}\n",
            "{1, 2, 3}\n",
            "{1, 'b', 2, 'a'}\n"
          ]
        }
      ]
    },
    {
      "cell_type": "code",
      "source": [
        "#Saber el numero de elementos de un conjunto\n",
        "s2 = {1,2,3,4,5}\n",
        "print(len(s2))\n",
        "s4 = {1,\"a\",\"b\",\"a\",1,1,2}\n",
        "print(len(s4))"
      ],
      "metadata": {
        "colab": {
          "base_uri": "https://localhost:8080/"
        },
        "id": "r5FBqX9neG7e",
        "outputId": "c9aa7005-4b0a-4d4e-aa07-567dfd1d63d8"
      },
      "execution_count": 28,
      "outputs": [
        {
          "output_type": "stream",
          "name": "stdout",
          "text": [
            "5\n",
            "4\n"
          ]
        }
      ]
    },
    {
      "cell_type": "code",
      "source": [
        "# Agregar un elemento\n",
        "s5 = {1, 2, 3}\n",
        "s5.add(4)\n",
        "print(s5)"
      ],
      "metadata": {
        "colab": {
          "base_uri": "https://localhost:8080/"
        },
        "id": "vYAS7FY4fNaJ",
        "outputId": "241a10b7-afc5-408c-fe85-2ed486caad09"
      },
      "execution_count": 29,
      "outputs": [
        {
          "output_type": "stream",
          "name": "stdout",
          "text": [
            "{1, 2, 3, 4}\n"
          ]
        }
      ]
    },
    {
      "cell_type": "code",
      "source": [
        "# Agregar varios elementos\n",
        "s6 = {1, 2, 3}\n",
        "s6.update([4,5])\n",
        "print(s6)"
      ],
      "metadata": {
        "colab": {
          "base_uri": "https://localhost:8080/"
        },
        "id": "En-gP32sfsu5",
        "outputId": "16a99af0-3b80-48c9-ea22-802205b09c42"
      },
      "execution_count": 30,
      "outputs": [
        {
          "output_type": "stream",
          "name": "stdout",
          "text": [
            "{1, 2, 3, 4, 5}\n"
          ]
        }
      ]
    },
    {
      "cell_type": "code",
      "source": [
        "# Eliminar elementos usando remove(elemento)\n",
        "#Si elemento no se encuentra en el set la funcion remove da error\n",
        "s6 = {1, 2, 3}\n",
        "s6.remove(1)\n",
        "print(s6)"
      ],
      "metadata": {
        "colab": {
          "base_uri": "https://localhost:8080/"
        },
        "id": "L-0qegyaf2GI",
        "outputId": "bc402ccd-a44d-4181-d522-6896f62c78c9"
      },
      "execution_count": 31,
      "outputs": [
        {
          "output_type": "stream",
          "name": "stdout",
          "text": [
            "{2, 3}\n"
          ]
        }
      ]
    },
    {
      "cell_type": "code",
      "source": [
        "# Eliminar elementos usando discard(elemento)\n",
        "#Si elemento no se encuentra en el set la funcion discard no da error\n",
        "s6 = {1, 2, 3}\n",
        "s6.discard(5)\n",
        "s6.discard(1)\n",
        "print(s6)"
      ],
      "metadata": {
        "colab": {
          "base_uri": "https://localhost:8080/"
        },
        "id": "0ZOJPUU8ggq8",
        "outputId": "94afa2fa-8a2f-404e-f325-d17aa38b4c25"
      },
      "execution_count": 33,
      "outputs": [
        {
          "output_type": "stream",
          "name": "stdout",
          "text": [
            "{2, 3}\n"
          ]
        }
      ]
    },
    {
      "cell_type": "code",
      "source": [
        "#Vaciar un conjunto\n",
        "s7 = {1,2,3,4,5,6,7}\n",
        "s7.clear()\n",
        "print(s7)"
      ],
      "metadata": {
        "colab": {
          "base_uri": "https://localhost:8080/"
        },
        "id": "1oHvT6Zai3bN",
        "outputId": "56ba5377-9ee6-4369-cbc4-7b11d05c8eea"
      },
      "execution_count": 41,
      "outputs": [
        {
          "output_type": "stream",
          "name": "stdout",
          "text": [
            "set()\n"
          ]
        }
      ]
    },
    {
      "cell_type": "markdown",
      "source": [
        "Operaciones de conjuntos"
      ],
      "metadata": {
        "id": "y7Y_YajchEVm"
      }
    },
    {
      "cell_type": "code",
      "source": [
        "# Union: el resultado es la suma de los elementos de ambos conjuntos\n",
        "set_1 = {1, 2, 3, 4}\n",
        "set_2 = {3, 4, 5, 6}\n",
        "print(set_1.union(set_2))\n",
        "print(set_1 | set_2)"
      ],
      "metadata": {
        "colab": {
          "base_uri": "https://localhost:8080/"
        },
        "id": "EDSv0JaQg_uT",
        "outputId": "3fc8e9df-45b6-4366-db70-f113f2a7ce70"
      },
      "execution_count": 35,
      "outputs": [
        {
          "output_type": "stream",
          "name": "stdout",
          "text": [
            "{1, 2, 3, 4, 5, 6}\n",
            "{1, 2, 3, 4, 5, 6}\n"
          ]
        }
      ]
    },
    {
      "cell_type": "code",
      "source": [
        "# Interseccion: el resultado son los elementos que se encuentran\n",
        "# en los dos conjuntos\n",
        "set_1 = {1, 2, 3, 4}\n",
        "set_2 = {3, 4, 5, 6}\n",
        "print(set_1.intersection(set_2))\n",
        "print(set_1 & set_2)"
      ],
      "metadata": {
        "colab": {
          "base_uri": "https://localhost:8080/"
        },
        "id": "AGNjWumUhIXZ",
        "outputId": "49f0596c-d41c-4607-c17e-8267c80f0d56"
      },
      "execution_count": 36,
      "outputs": [
        {
          "output_type": "stream",
          "name": "stdout",
          "text": [
            "{3, 4}\n",
            "{3, 4}\n"
          ]
        }
      ]
    },
    {
      "cell_type": "code",
      "source": [
        "# Diferencia: el resultado son los elementos del conjunto1 menos\n",
        "# los elementos del conjunto2\n",
        "set_1 = {1, 2, 3, 4}\n",
        "set_2 = {3, 4, 5, 6}\n",
        "print(set_1.difference(set_2))\n",
        "print(set_1 - set_2)"
      ],
      "metadata": {
        "colab": {
          "base_uri": "https://localhost:8080/"
        },
        "id": "FQBgK_w0hKPH",
        "outputId": "6ca03ac2-5295-4d33-a3eb-966d6ae99780"
      },
      "execution_count": 37,
      "outputs": [
        {
          "output_type": "stream",
          "name": "stdout",
          "text": [
            "{1, 2}\n",
            "{1, 2}\n"
          ]
        }
      ]
    },
    {
      "cell_type": "code",
      "source": [
        "# Diferencia simetrica: el resultado son los elementos que no se encuentran en ambos\n",
        "# cojunto1 - conjunto2 UNION conjunto2 - conjunto1\n",
        "set_1 = {1, 2, 3, 4}\n",
        "set_2 = {3, 4, 5, 6}\n",
        "print(set_1.symmetric_difference(set_2))\n",
        "print(set_1 ^ set_2)"
      ],
      "metadata": {
        "colab": {
          "base_uri": "https://localhost:8080/"
        },
        "id": "T56iy1QvhMCe",
        "outputId": "81c24981-2c24-4cf6-c98d-d45993bceec0"
      },
      "execution_count": 38,
      "outputs": [
        {
          "output_type": "stream",
          "name": "stdout",
          "text": [
            "{1, 2, 5, 6}\n",
            "{1, 2, 5, 6}\n"
          ]
        }
      ]
    },
    {
      "cell_type": "code",
      "source": [
        "# Subconjunto: verdadero si el conjunto1 es un subconjunto del conjunto2\n",
        "set_1 = {1, 2}\n",
        "set_2 = {1, 2, 3}\n",
        "print(set_1.issubset(set_2))\n",
        "print(set_2.issubset(set_1))"
      ],
      "metadata": {
        "colab": {
          "base_uri": "https://localhost:8080/"
        },
        "id": "Kwaod3fthNVo",
        "outputId": "920d9011-a70a-4eb2-ce18-8b7ccf8d80cd"
      },
      "execution_count": 39,
      "outputs": [
        {
          "output_type": "stream",
          "name": "stdout",
          "text": [
            "True\n",
            "False\n"
          ]
        }
      ]
    },
    {
      "cell_type": "code",
      "source": [
        "# Superset: verdadero si el conjunto2 es un subconjunto del conjunto1\n",
        "set_1 = {1, 2}\n",
        "set_2 = {1, 2, 3}\n",
        "print(set_1.issuperset(set_2))\n",
        "print(set_2.issuperset(set_1))"
      ],
      "metadata": {
        "colab": {
          "base_uri": "https://localhost:8080/"
        },
        "id": "4KEkKOGOhOtp",
        "outputId": "5ffddd4b-5166-4692-f10a-15e4cdf7174d"
      },
      "execution_count": 40,
      "outputs": [
        {
          "output_type": "stream",
          "name": "stdout",
          "text": [
            "False\n",
            "True\n"
          ]
        }
      ]
    },
    {
      "cell_type": "markdown",
      "source": [
        "### Diccionarios (Dictionaries)"
      ],
      "metadata": {
        "id": "x9m5VmYkabaO"
      }
    },
    {
      "cell_type": "code",
      "source": [
        "#Crear un diccionario vacio\n",
        "d1 = {}\n",
        "print(d1)\n",
        "\n",
        "d2 = dict()\n",
        "print(d2)"
      ],
      "metadata": {
        "colab": {
          "base_uri": "https://localhost:8080/"
        },
        "id": "fQK4hsi8aguu",
        "outputId": "25b820bf-0b32-4a3d-f522-4755edc36a3c"
      },
      "execution_count": 44,
      "outputs": [
        {
          "output_type": "stream",
          "name": "stdout",
          "text": [
            "{}\n",
            "{}\n"
          ]
        }
      ]
    },
    {
      "cell_type": "code",
      "source": [
        "#Crear un diccionario con elementos\n",
        "d3 = {\"Vacas\":2,\"Cerdos\":3,\"Gallinas\":10}\n",
        "print(d3)"
      ],
      "metadata": {
        "colab": {
          "base_uri": "https://localhost:8080/"
        },
        "id": "dIxClYWuai4s",
        "outputId": "b1a20c27-ba6c-4b3d-a18b-d701075ea37a"
      },
      "execution_count": 43,
      "outputs": [
        {
          "output_type": "stream",
          "name": "stdout",
          "text": [
            "{'Vacas': 2, 'Cerdos': 3, 'Gallinas': 10}\n"
          ]
        }
      ]
    },
    {
      "cell_type": "code",
      "source": [
        "#Ver si una clave esta en el diccionario\n",
        "d3 = {\"Vacas\":2,\"Cerdos\":3,\"Gallinas\":10}\n",
        "resultado = \"Vacas\" in d3\n",
        "print(resultado)\n",
        "resultado = \"Patos\" in d3\n",
        "print(resultado)\n",
        "resultado = \"Patos\" not in d3\n",
        "print(resultado)"
      ],
      "metadata": {
        "colab": {
          "base_uri": "https://localhost:8080/"
        },
        "id": "VT6ecgm5kFQz",
        "outputId": "ccb30dc4-9bcb-4122-b48b-c8a5ecaa81fa"
      },
      "execution_count": 45,
      "outputs": [
        {
          "output_type": "stream",
          "name": "stdout",
          "text": [
            "True\n",
            "False\n",
            "True\n"
          ]
        }
      ]
    },
    {
      "cell_type": "code",
      "source": [
        "#Obtener el valor mediante la clave\n",
        "d3 = {\"Vacas\":2,\"Cerdos\":3,\"Gallinas\":10}\n",
        "valor = d3[\"Vacas\"]\n",
        "print(valor)"
      ],
      "metadata": {
        "colab": {
          "base_uri": "https://localhost:8080/"
        },
        "id": "JHck5gVKku4h",
        "outputId": "f2b7288e-7bb7-45fc-8683-814da6f997ec"
      },
      "execution_count": 47,
      "outputs": [
        {
          "output_type": "stream",
          "name": "stdout",
          "text": [
            "2\n"
          ]
        }
      ]
    },
    {
      "cell_type": "code",
      "source": [
        "#Modificar el valor mediante la clave\n",
        "d3 = {\"Vacas\":2,\"Cerdos\":3,\"Gallinas\":10}\n",
        "d3[\"Vacas\"] = 4\n",
        "print(d3)"
      ],
      "metadata": {
        "colab": {
          "base_uri": "https://localhost:8080/"
        },
        "id": "9Gw00wcnk77z",
        "outputId": "6d9976d6-835c-4eb1-9aec-884fd8ab7ffe"
      },
      "execution_count": 48,
      "outputs": [
        {
          "output_type": "stream",
          "name": "stdout",
          "text": [
            "{'Vacas': 4, 'Cerdos': 3, 'Gallinas': 10}\n"
          ]
        }
      ]
    },
    {
      "cell_type": "code",
      "source": [
        "#Agregar un elemento\n",
        "d3 = {\"Vacas\":2,\"Cerdos\":3,\"Gallinas\":10}\n",
        "d3[\"Patos\"] = 5\n",
        "print(d3)"
      ],
      "metadata": {
        "colab": {
          "base_uri": "https://localhost:8080/"
        },
        "id": "GfJ7PdnWlNdK",
        "outputId": "9da07c12-bb89-4916-a04c-ff4847df11a3"
      },
      "execution_count": 49,
      "outputs": [
        {
          "output_type": "stream",
          "name": "stdout",
          "text": [
            "{'Vacas': 2, 'Cerdos': 3, 'Gallinas': 10, 'Patos': 5}\n"
          ]
        }
      ]
    },
    {
      "cell_type": "code",
      "source": [
        "# Remover un elemento\n",
        "d4 = {'Vacas': 2, 'Cerdos': 3, 'Gallinas': 10, 'Patos': 5}\n",
        "valor_patos = d4.pop(\"Patos\")\n",
        "print(valor_patos)\n",
        "print(d4)"
      ],
      "metadata": {
        "colab": {
          "base_uri": "https://localhost:8080/"
        },
        "id": "b4fSncDhmZn0",
        "outputId": "0e77aeb3-b4f3-45ed-cd07-ea76b4c1555a"
      },
      "execution_count": 59,
      "outputs": [
        {
          "output_type": "stream",
          "name": "stdout",
          "text": [
            "5\n",
            "{'Vacas': 2, 'Cerdos': 3, 'Gallinas': 10}\n"
          ]
        }
      ]
    },
    {
      "cell_type": "code",
      "source": [
        "#Iterar un diccionario\n",
        "d3 = {\"Vacas\":2,\"Cerdos\":3,\"Gallinas\":10}\n",
        "for clave in d3:\n",
        "  print(\"Clave:\",clave,\" Valor:\",d3[clave])"
      ],
      "metadata": {
        "colab": {
          "base_uri": "https://localhost:8080/"
        },
        "id": "x7QJw03olTH8",
        "outputId": "c723f93b-ae44-4b91-9bad-728cdb778481"
      },
      "execution_count": 54,
      "outputs": [
        {
          "output_type": "stream",
          "name": "stdout",
          "text": [
            "Clave: Vacas  Valor: 2\n",
            "Clave: Cerdos  Valor: 3\n",
            "Clave: Gallinas  Valor: 10\n"
          ]
        }
      ]
    },
    {
      "cell_type": "code",
      "source": [
        "#Iterar un diccionario\n",
        "d3 = {\"Vacas\":2,\"Cerdos\":3,\"Gallinas\":10}\n",
        "for clave,valor in d3.items():\n",
        "  print(\"Clave:\",clave,\" Valor:\",valor)"
      ],
      "metadata": {
        "colab": {
          "base_uri": "https://localhost:8080/"
        },
        "id": "8G4rdz_Ql8vn",
        "outputId": "5e87cac0-fdaa-4b91-b180-ce16e22beb86"
      },
      "execution_count": 55,
      "outputs": [
        {
          "output_type": "stream",
          "name": "stdout",
          "text": [
            "Clave: Vacas  Valor: 2\n",
            "Clave: Cerdos  Valor: 3\n",
            "Clave: Gallinas  Valor: 10\n"
          ]
        }
      ]
    },
    {
      "cell_type": "code",
      "source": [
        "#Obtener claves\n",
        "d3 = {\"Vacas\":2,\"Cerdos\":3,\"Gallinas\":10}\n",
        "print(d3.keys())"
      ],
      "metadata": {
        "colab": {
          "base_uri": "https://localhost:8080/"
        },
        "id": "-QTmy41qmKer",
        "outputId": "75c56a18-88db-4971-a401-02c636820989"
      },
      "execution_count": 56,
      "outputs": [
        {
          "output_type": "stream",
          "name": "stdout",
          "text": [
            "dict_keys(['Vacas', 'Cerdos', 'Gallinas'])\n"
          ]
        }
      ]
    },
    {
      "cell_type": "code",
      "source": [
        "#Obtener valores\n",
        "d3 = {\"Vacas\":2,\"Cerdos\":3,\"Gallinas\":10}\n",
        "print(d3.values())"
      ],
      "metadata": {
        "colab": {
          "base_uri": "https://localhost:8080/"
        },
        "id": "l1XqazIMmRnw",
        "outputId": "9df24d17-a1d1-452a-cf5b-c1e0b696a598"
      },
      "execution_count": 57,
      "outputs": [
        {
          "output_type": "stream",
          "name": "stdout",
          "text": [
            "dict_values([2, 3, 10])\n"
          ]
        }
      ]
    },
    {
      "cell_type": "code",
      "source": [
        "#Vaciar un diccionario\n",
        "d3 = {\"Vacas\":2,\"Cerdos\":3,\"Gallinas\":10}\n",
        "d3.clear()\n",
        "print(d3)"
      ],
      "metadata": {
        "colab": {
          "base_uri": "https://localhost:8080/"
        },
        "id": "sgGAbj75msXq",
        "outputId": "c4fecd8e-b666-4fba-b1f7-feed6073253d"
      },
      "execution_count": 60,
      "outputs": [
        {
          "output_type": "stream",
          "name": "stdout",
          "text": [
            "{}\n"
          ]
        }
      ]
    }
  ]
}