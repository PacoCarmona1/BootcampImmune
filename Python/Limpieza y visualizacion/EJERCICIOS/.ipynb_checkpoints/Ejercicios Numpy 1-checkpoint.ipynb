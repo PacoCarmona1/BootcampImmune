{
 "cells": [
  {
   "cell_type": "markdown",
   "id": "3fa97e24",
   "metadata": {},
   "source": [
    "# Ejercicios Numpy 1"
   ]
  },
  {
   "cell_type": "markdown",
   "id": "68695bb6",
   "metadata": {},
   "source": [
    "## 1. ¿Cuál es la forma de convertir una lista en Python a un array en Numpy?"
   ]
  },
  {
   "cell_type": "code",
   "execution_count": 6,
   "id": "a2994f6c",
   "metadata": {},
   "outputs": [
    {
     "name": "stdout",
     "output_type": "stream",
     "text": [
      "[1 2 3 4 5]\n"
     ]
    }
   ],
   "source": [
    "#Para convertir una lista en Python a un array en NumPy, se utiliza la función numpy.array().\n",
    "\n",
    "import numpy as np # importat numpy servira para todo el notebook\n",
    "\n",
    "lista = [1, 2, 3, 4, 5]\n",
    "array = np.array(lista)\n",
    "\n",
    "print(array)"
   ]
  },
  {
   "cell_type": "markdown",
   "id": "31cdeccb",
   "metadata": {},
   "source": [
    "## 2. Para crear un array de ceros con una forma específica, ¿qué función se utiliza?"
   ]
  },
  {
   "cell_type": "code",
   "execution_count": 7,
   "id": "c9f94555",
   "metadata": {},
   "outputs": [
    {
     "name": "stdout",
     "output_type": "stream",
     "text": [
      "[[0. 0. 0. 0.]\n",
      " [0. 0. 0. 0.]\n",
      " [0. 0. 0. 0.]]\n"
     ]
    }
   ],
   "source": [
    "#Para crear un array de ceros con una forma específica en NumPy, se utiliza la función numpy.zeros()\n",
    "\n",
    "\n",
    "forma = (3, 4)  # 3 filas, 4 columnas\n",
    "array_zeros = np.zeros(forma)\n",
    "\n",
    "print(array_zeros)"
   ]
  },
  {
   "cell_type": "markdown",
   "id": "8cc5939b",
   "metadata": {},
   "source": [
    "## 3. ¿Qué función se emplea para crear un array multidimensional de unos con una forma específica?"
   ]
  },
  {
   "cell_type": "code",
   "execution_count": 8,
   "id": "9b9b939f",
   "metadata": {},
   "outputs": [
    {
     "name": "stdout",
     "output_type": "stream",
     "text": [
      "[[1. 1. 1.]\n",
      " [1. 1. 1.]]\n"
     ]
    }
   ],
   "source": [
    "#Para crear un array multidimensional de unos con una forma específica en NumPy, se utiliza la función numpy.ones().\n",
    "\n",
    "\n",
    "forma = (2, 3)  \n",
    "array_ones = np.ones(forma)\n",
    "\n",
    "print(array_ones)"
   ]
  },
  {
   "cell_type": "markdown",
   "id": "a866d15c",
   "metadata": {},
   "source": [
    "## 4. ¿De qué manera se obtiene la suma de todos los elementos de un array?"
   ]
  },
  {
   "cell_type": "code",
   "execution_count": 9,
   "id": "08cdb618",
   "metadata": {},
   "outputs": [
    {
     "name": "stdout",
     "output_type": "stream",
     "text": [
      "15\n"
     ]
    }
   ],
   "source": [
    "#Para obtener la suma de todos los elementos de un array en NumPy, se puede utilizar la función numpy.sum().\n",
    "\n",
    "array = np.array([1, 2, 3, 4, 5])\n",
    "suma = np.sum(array)\n",
    "\n",
    "print(suma)"
   ]
  },
  {
   "cell_type": "markdown",
   "id": "1070fc3f",
   "metadata": {},
   "source": [
    "## 5. ¿Cómo efectuar una multiplicación elemento a elemento de dos arrays?"
   ]
  },
  {
   "cell_type": "code",
   "execution_count": 10,
   "id": "2b6244d9",
   "metadata": {},
   "outputs": [
    {
     "name": "stdout",
     "output_type": "stream",
     "text": [
      "[ 4 10 18]\n"
     ]
    }
   ],
   "source": [
    "# Para efectuar una multiplicación elemento a elemento de dos arrays en NumPy, se utiliza el operador * entre los dos arrays. \n",
    "# Los arrays deben tener la misma forma para que la multiplicación sea válida. \n",
    "\n",
    "\n",
    "array1 = np.array([1, 2, 3])\n",
    "array2 = np.array([4, 5, 6])\n",
    "\n",
    "resultado = array1 * array2\n",
    "\n",
    "print(resultado)"
   ]
  },
  {
   "cell_type": "markdown",
   "id": "2d86a61c",
   "metadata": {},
   "source": [
    "## 6. ¿Qué atributo se utiliza para obtener la forma de un array?\n"
   ]
  },
  {
   "cell_type": "code",
   "execution_count": 11,
   "id": "760c805e",
   "metadata": {},
   "outputs": [
    {
     "name": "stdout",
     "output_type": "stream",
     "text": [
      "(2, 3)\n"
     ]
    }
   ],
   "source": [
    "# Para obtener la forma de un array en NumPy, se utiliza el atributo shape.\n",
    "\n",
    "\n",
    "array = np.array([[1, 2, 3], [4, 5, 6]])\n",
    "forma = array.shape\n",
    "\n",
    "print(forma)"
   ]
  },
  {
   "cell_type": "markdown",
   "id": "f16c8741",
   "metadata": {},
   "source": [
    "## 7. ¿Cuál es el proceso para redimensionar un array sin cambiar sus datos?\n"
   ]
  },
  {
   "cell_type": "code",
   "execution_count": 1,
   "id": "daeccdbf",
   "metadata": {},
   "outputs": [
    {
     "name": "stdout",
     "output_type": "stream",
     "text": [
      "[[1 2 3]\n",
      " [4 5 6]]\n"
     ]
    }
   ],
   "source": [
    "# Para redimensionar un array en NumPy sin cambiar sus datos, se utiliza el método reshape() en el array.\n",
    "\n",
    "\n",
    "array = np.array([1, 2, 3, 4, 5, 6])\n",
    "nuevo_array = array.reshape((2, 3))  # Nueva forma: 2 filas, 3 columnas\n",
    "\n",
    "print(nuevo_array)\n"
   ]
  },
  {
   "cell_type": "markdown",
   "id": "6a7603b6",
   "metadata": {},
   "source": [
    "## 8. ¿Qué función permite crear un array con un rango de números?\n"
   ]
  },
  {
   "cell_type": "code",
   "execution_count": 12,
   "id": "4ea52499",
   "metadata": {},
   "outputs": [
    {
     "name": "stdout",
     "output_type": "stream",
     "text": [
      "[1 3 5 7 9]\n"
     ]
    }
   ],
   "source": [
    "#Para crear un array con un rango de números en NumPy, se puede utilizar la función numpy.arange().\n",
    "\n",
    "\n",
    "arr = np.arange(1, 10, 2)\n",
    "print(arr)"
   ]
  },
  {
   "cell_type": "markdown",
   "id": "d2c6f138",
   "metadata": {},
   "source": [
    "## 9. Al querer generar un array con valores equiespaciados, ¿qué función se usa?\n"
   ]
  },
  {
   "cell_type": "code",
   "execution_count": 13,
   "id": "1222f599",
   "metadata": {},
   "outputs": [
    {
     "name": "stdout",
     "output_type": "stream",
     "text": [
      "[0.   0.25 0.5  0.75 1.  ]\n"
     ]
    }
   ],
   "source": [
    "# Para generar un array con valores equiespaciados en NumPy, se puede utilizar la función numpy.linspace().\n",
    "\n",
    "\n",
    "inicio = 0\n",
    "fin = 1\n",
    "num_elementos = 5\n",
    "\n",
    "array_new = np.linspace(inicio, fin, num_elementos)\n",
    "\n",
    "print(array_new)\n",
    "# se generará un array con 5 elementos que van desde 0 hasta 1, ambos inclusive."
   ]
  },
  {
   "cell_type": "markdown",
   "id": "9f76ec65",
   "metadata": {},
   "source": [
    "## 10.¿Cómo determinar el valor mínimo y máximo de un array?\n"
   ]
  },
  {
   "cell_type": "code",
   "execution_count": 14,
   "id": "c0d90f82",
   "metadata": {},
   "outputs": [
    {
     "name": "stdout",
     "output_type": "stream",
     "text": [
      "2\n",
      "9\n"
     ]
    }
   ],
   "source": [
    "# Para determinar el valor mínimo y máximo de un array en NumPy, se utilizan las funciones numpy.min() y numpy.max() respectivamente.\n",
    "\n",
    "\n",
    "array = np.array([4, 2, 9, 7, 5])\n",
    "\n",
    "valor_minimo = np.min(array)\n",
    "valor_maximo = np.max(array)\n",
    "\n",
    "print(valor_minimo)\n",
    "print(valor_maximo)"
   ]
  },
  {
   "cell_type": "markdown",
   "id": "796eb7ce",
   "metadata": {},
   "source": [
    "## 11.En un array, ¿cómo se calculan la media, mediana y desviación estándar de sus elementos?\n"
   ]
  },
  {
   "cell_type": "code",
   "execution_count": 15,
   "id": "4b5d80fa",
   "metadata": {},
   "outputs": [
    {
     "name": "stdout",
     "output_type": "stream",
     "text": [
      "Media: 3.0\n",
      "Mediana: 3.0\n",
      "Desviación estándar: 1.4142135623730951\n"
     ]
    }
   ],
   "source": [
    "# En un array en NumPy, se pueden calcular la media, mediana y desviación estándar de sus elementos\n",
    "# utilizando las funciones numpy.mean(), numpy.median() y numpy.std() \n",
    "\n",
    "\n",
    "array = np.array([1, 2, 3, 4, 5])\n",
    "\n",
    "media = np.mean(array)\n",
    "mediana = np.median(array)\n",
    "desviacion_estandar = np.std(array)\n",
    "\n",
    "print(\"Media:\", media)\n",
    "print(\"Mediana:\", mediana)\n",
    "print(\"Desviación estándar:\", desviacion_estandar)"
   ]
  },
  {
   "cell_type": "markdown",
   "id": "ef068e64",
   "metadata": {},
   "source": [
    "## 12.¿Cuál es el procedimiento para transponer un array 2D (intercambiar filas por columnas)?\n"
   ]
  },
  {
   "cell_type": "code",
   "execution_count": 16,
   "id": "ba3e1b96",
   "metadata": {},
   "outputs": [
    {
     "name": "stdout",
     "output_type": "stream",
     "text": [
      "[[1 4]\n",
      " [2 5]\n",
      " [3 6]]\n"
     ]
    }
   ],
   "source": [
    "# Para transponer un array 2D en NumPy, es decir, intercambiar filas por columnas, se puede utilizar el atributo T del array.\n",
    "\n",
    "\n",
    "array = np.array([[1, 2, 3], [4, 5, 6]])\n",
    "\n",
    "array_transpuesto = array.T\n",
    "\n",
    "print(array_transpuesto)\n",
    "\n",
    "# se transpone el array original de 2 filas y 3 columnas, resultando en un nuevo array de 3 filas y 2 columnas"
   ]
  },
  {
   "cell_type": "markdown",
   "id": "9641e2de",
   "metadata": {},
   "source": [
    "## 13.¿De qué manera se calcula el producto punto (dot product) de dos arrays?"
   ]
  },
  {
   "cell_type": "code",
   "execution_count": 17,
   "id": "f2c16f78",
   "metadata": {},
   "outputs": [
    {
     "name": "stdout",
     "output_type": "stream",
     "text": [
      "32\n"
     ]
    }
   ],
   "source": [
    "# Para calcular el producto punto (dot product) de dos arrays en NumPy, se utiliza la función numpy.dot().\n",
    "\n",
    "\n",
    "array1 = np.array([1, 2, 3])\n",
    "array2 = np.array([4, 5, 6])\n",
    "\n",
    "producto_punto = np.dot(array1, array2)\n",
    "\n",
    "\n",
    "print(producto_punto)\n",
    "\n",
    "# El resultado será el producto punto de los dos arrays, que en este caso es 32 (14 + 25 + 3*6)."
   ]
  },
  {
   "cell_type": "code",
   "execution_count": null,
   "id": "c239ebed",
   "metadata": {},
   "outputs": [],
   "source": []
  }
 ],
 "metadata": {
  "kernelspec": {
   "display_name": "Python 3 (ipykernel)",
   "language": "python",
   "name": "python3"
  },
  "language_info": {
   "codemirror_mode": {
    "name": "ipython",
    "version": 3
   },
   "file_extension": ".py",
   "mimetype": "text/x-python",
   "name": "python",
   "nbconvert_exporter": "python",
   "pygments_lexer": "ipython3",
   "version": "3.10.9"
  }
 },
 "nbformat": 4,
 "nbformat_minor": 5
}
