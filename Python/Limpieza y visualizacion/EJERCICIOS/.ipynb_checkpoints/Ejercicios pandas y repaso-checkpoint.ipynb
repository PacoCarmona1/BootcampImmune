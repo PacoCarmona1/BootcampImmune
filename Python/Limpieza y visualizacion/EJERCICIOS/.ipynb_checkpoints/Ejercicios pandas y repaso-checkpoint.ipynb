{
 "cells": [
  {
   "cell_type": "markdown",
   "id": "4f92c3e9",
   "metadata": {},
   "source": [
    "## Practicas 1. Pandas"
   ]
  },
  {
   "cell_type": "code",
   "execution_count": 2,
   "id": "b45cba52",
   "metadata": {},
   "outputs": [],
   "source": [
    "import pandas as pd"
   ]
  },
  {
   "cell_type": "markdown",
   "id": "cddb8ff7",
   "metadata": {},
   "source": [
    "#### 1. ¿Qué es una Serie en Pandas y cómo se crea?"
   ]
  },
  {
   "cell_type": "markdown",
   "id": "d3c64ee8",
   "metadata": {},
   "source": [
    "Una Serie es un objeto unidimensional similar a un array, lista o columna en una tabla. Está diseñado para contener datos de un solo tipo, como enteros, strings, objetos, etc\n",
    "Se crea utilizando `pd.Series(data)` donde `data` puede ser una lista, un \n",
    "diccionario, un array de NumPy, etc.\n",
    "data = [10, 20, 30, 40, 50]\n",
    "s = pd.Series(data)"
   ]
  },
  {
   "cell_type": "markdown",
   "id": "e9aec9f2",
   "metadata": {},
   "source": [
    "### 2. ¿Cómo se obtiene el tamaño, el índice y el tipo de datos de una Serie?"
   ]
  },
  {
   "cell_type": "code",
   "execution_count": null,
   "id": "3459a8f9",
   "metadata": {},
   "outputs": [],
   "source": [
    "# Tamaño\n",
    "size = s.size\n",
    "# Índice: s.index\n",
    "index = s.index\n",
    "# Tipo de datos: s.dtype\n",
    "dtype = s.dtype"
   ]
  },
  {
   "cell_type": "markdown",
   "id": "d35d1f82",
   "metadata": {},
   "source": [
    "### 3. ¿Cómo se accede a los elementos de una Serie utilizando índices yposiciones?"
   ]
  },
  {
   "cell_type": "code",
   "execution_count": null,
   "id": "8d7921dc",
   "metadata": {},
   "outputs": [],
   "source": [
    "# Acceder por índice: s[i] donde i es el índice del elemento.\n",
    "element_at_index = s[1]\n",
    "# Acceder por posición: s.iloc[i] donde i es la posición del elemento.\n",
    "element_at_position = s.iloc[2]"
   ]
  },
  {
   "cell_type": "markdown",
   "id": "2e34bd8d",
   "metadata": {},
   "source": [
    "### 4. ¿Cuáles son algunas de las funciones y atributos básicos para obtener unresumen descriptivo de una Serie en Pandas?"
   ]
  },
  {
   "cell_type": "code",
   "execution_count": null,
   "id": "e2beccdf",
   "metadata": {},
   "outputs": [],
   "source": [
    "# resumen descriptivo de una serie\n",
    "s.count()\n",
    "s.sum()\n",
    "s.cumsum()\n",
    "s.value_counts()\n",
    "s.min()\n",
    "s.max()\n",
    "s.mean()\n",
    "s.std()\n",
    "s.describe()"
   ]
  },
  {
   "cell_type": "markdown",
   "id": "f87e8b6d",
   "metadata": {},
   "source": [
    "### 5. Crea una Serie a partir de una lista de números enteros."
   ]
  },
  {
   "cell_type": "code",
   "execution_count": null,
   "id": "d7c6989f",
   "metadata": {},
   "outputs": [],
   "source": [
    "lista = [1, 2, 3, 4, 5]\n",
    "s = pd.Series(lista)"
   ]
  },
  {
   "cell_type": "markdown",
   "id": "d93c60c1",
   "metadata": {},
   "source": [
    "### 6. Crea una Serie a partir de un diccionario."
   ]
  },
  {
   "cell_type": "code",
   "execution_count": 5,
   "id": "5274e0e2",
   "metadata": {},
   "outputs": [],
   "source": [
    "s1 = pd.Series(data = {\"Barça\": 81, \"Madrid\": 70, \"Atletico\": 65})"
   ]
  },
  {
   "cell_type": "markdown",
   "id": "9e2c2146",
   "metadata": {},
   "source": [
    "### 7. Crea una Serie a partir de un array de NumPy.\n"
   ]
  },
  {
   "cell_type": "code",
   "execution_count": null,
   "id": "bf811d42",
   "metadata": {},
   "outputs": [],
   "source": [
    "arr = np.array([10, 20, 30, 40, 50])\n",
    "s2 = pd.Series(arr)"
   ]
  },
  {
   "cell_type": "markdown",
   "id": "0c028095",
   "metadata": {},
   "source": [
    "### 8. Cambia el índice de una Serie a una lista de caracteres.\n"
   ]
  },
  {
   "cell_type": "code",
   "execution_count": null,
   "id": "ad91de74",
   "metadata": {
    "scrolled": true
   },
   "outputs": [],
   "source": [
    "s4 = pd.Series(data, index=['a', 'b', 'c', 'd', 'e'])"
   ]
  },
  {
   "cell_type": "markdown",
   "id": "e1dec827",
   "metadata": {},
   "source": [
    "### 9. Selecciona un elemento específico de una Serie usando su índice.\n"
   ]
  },
  {
   "cell_type": "code",
   "execution_count": null,
   "id": "80f6c008",
   "metadata": {},
   "outputs": [],
   "source": [
    "elemento = s1(1)"
   ]
  },
  {
   "cell_type": "markdown",
   "id": "dfff30ae",
   "metadata": {},
   "source": [
    "### 10. Selecciona un elemento específico de una Serie usando su posición.\n"
   ]
  },
  {
   "cell_type": "code",
   "execution_count": 6,
   "id": "aa3e80ed",
   "metadata": {},
   "outputs": [],
   "source": [
    "position = s1.iloc[2]"
   ]
  },
  {
   "cell_type": "markdown",
   "id": "d26a8a15",
   "metadata": {},
   "source": [
    "### 11. Selecciona múltiples elementos de una Serie usando una lista de índices.\n"
   ]
  },
  {
   "cell_type": "code",
   "execution_count": null,
   "id": "ae3622e3",
   "metadata": {},
   "outputs": [],
   "source": [
    "multiple = s1[[1, 3, 5]]"
   ]
  },
  {
   "cell_type": "markdown",
   "id": "56b4c4e3",
   "metadata": {},
   "source": [
    "### 12. Selecciona múltiples elementos de una Serie usando rangos de posiciones.\n"
   ]
  },
  {
   "cell_type": "code",
   "execution_count": null,
   "id": "23755b74",
   "metadata": {},
   "outputs": [],
   "source": [
    "rango = s1.iloc[1:4]"
   ]
  },
  {
   "cell_type": "markdown",
   "id": "37d5704e",
   "metadata": {},
   "source": [
    "### 13. Encuentra el número total de elementos en una Serie.\n"
   ]
  },
  {
   "cell_type": "code",
   "execution_count": null,
   "id": "0d286d31",
   "metadata": {},
   "outputs": [],
   "source": [
    "count = s1.count()"
   ]
  },
  {
   "cell_type": "markdown",
   "id": "bf35a7d8",
   "metadata": {},
   "source": [
    "### 14. Encuentra la suma de los valores en una Serie.\n"
   ]
  },
  {
   "cell_type": "code",
   "execution_count": null,
   "id": "05b84044",
   "metadata": {},
   "outputs": [],
   "source": []
  },
  {
   "cell_type": "markdown",
   "id": "afbd4bcc",
   "metadata": {},
   "source": [
    "15. Calcula la suma acumulada de una Serie.\n"
   ]
  },
  {
   "cell_type": "markdown",
   "id": "d57c9a55",
   "metadata": {},
   "source": [
    "16. Encuentra la frecuencia de los valores en una Serie.\n"
   ]
  },
  {
   "cell_type": "markdown",
   "id": "eb6827be",
   "metadata": {},
   "source": [
    "17. Encuentra el valor mínimo de una Serie.\n"
   ]
  },
  {
   "cell_type": "markdown",
   "id": "25f4b1a1",
   "metadata": {},
   "source": [
    "18. Encuentra el valor máximo de una Serie."
   ]
  },
  {
   "cell_type": "markdown",
   "id": "bfdbf174",
   "metadata": {},
   "source": [
    "19. Calcula el promedio de una Serie.\n"
   ]
  },
  {
   "cell_type": "markdown",
   "id": "254da811",
   "metadata": {},
   "source": [
    "20. Calcula la desviación estándar de una Serie.\n"
   ]
  },
  {
   "cell_type": "markdown",
   "id": "4ef2c9b1",
   "metadata": {},
   "source": [
    "21. Obtén un resumen descriptivo de una Serie.\n"
   ]
  },
  {
   "cell_type": "markdown",
   "id": "984407ee",
   "metadata": {},
   "source": [
    "22. Filtra los elementos de una Serie que son mayores que un valor específico.\n"
   ]
  },
  {
   "cell_type": "markdown",
   "id": "77a37dfc",
   "metadata": {},
   "source": [
    "23. Filtra los elementos de una Serie que son menores que un valor específico.\n"
   ]
  },
  {
   "cell_type": "markdown",
   "id": "85cd9e08",
   "metadata": {},
   "source": [
    "24. Filtra los elementos de una Serie que son iguales a un valor específico.\n"
   ]
  },
  {
   "cell_type": "markdown",
   "id": "c456bf39",
   "metadata": {},
   "source": [
    "25. Encuentra los elementos únicos en una Serie."
   ]
  },
  {
   "cell_type": "markdown",
   "id": "3ba55085",
   "metadata": {},
   "source": [
    "26. Ordena los elementos de una Serie en orden ascendente.\n"
   ]
  },
  {
   "cell_type": "markdown",
   "id": "eed87e63",
   "metadata": {},
   "source": [
    "27. Ordena los elementos de una Serie en orden descendente.\n"
   ]
  },
  {
   "cell_type": "markdown",
   "id": "5fbbcebd",
   "metadata": {},
   "source": [
    "28. Encuentra la mediana de una Serie.\n"
   ]
  },
  {
   "cell_type": "markdown",
   "id": "a146f49e",
   "metadata": {},
   "source": [
    "29. Encuentra el primer cuartil (Q1) de una Serie.\n"
   ]
  },
  {
   "cell_type": "markdown",
   "id": "74cd2814",
   "metadata": {},
   "source": [
    "30. Encuentra el tercer cuartil (Q3) de una Serie"
   ]
  }
 ],
 "metadata": {
  "kernelspec": {
   "display_name": "Python 3 (ipykernel)",
   "language": "python",
   "name": "python3"
  },
  "language_info": {
   "codemirror_mode": {
    "name": "ipython",
    "version": 3
   },
   "file_extension": ".py",
   "mimetype": "text/x-python",
   "name": "python",
   "nbconvert_exporter": "python",
   "pygments_lexer": "ipython3",
   "version": "3.10.9"
  }
 },
 "nbformat": 4,
 "nbformat_minor": 5
}
