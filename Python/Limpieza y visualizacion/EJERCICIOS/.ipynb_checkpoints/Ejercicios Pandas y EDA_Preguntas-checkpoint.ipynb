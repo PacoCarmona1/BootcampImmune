{
 "cells": [
  {
   "cell_type": "code",
   "execution_count": 1,
   "metadata": {},
   "outputs": [
    {
     "data": {
      "text/html": [
       "        <script type=\"text/javascript\">\n",
       "        window.PlotlyConfig = {MathJaxConfig: 'local'};\n",
       "        if (window.MathJax && window.MathJax.Hub && window.MathJax.Hub.Config) {window.MathJax.Hub.Config({SVG: {font: \"STIX-Web\"}});}\n",
       "        if (typeof require !== 'undefined') {\n",
       "        require.undef(\"plotly\");\n",
       "        requirejs.config({\n",
       "            paths: {\n",
       "                'plotly': ['https://cdn.plot.ly/plotly-2.12.1.min']\n",
       "            }\n",
       "        });\n",
       "        require(['plotly'], function(Plotly) {\n",
       "            window._Plotly = Plotly;\n",
       "        });\n",
       "        }\n",
       "        </script>\n",
       "        "
      ]
     },
     "metadata": {},
     "output_type": "display_data"
    }
   ],
   "source": [
    "import pandas as pd\n",
    "import numpy as np\n",
    "from datetime import datetime\n",
    "import cufflinks as cf\n",
    "import plotly.offline\n",
    "cf.go_offline()"
   ]
  },
  {
   "cell_type": "markdown",
   "metadata": {},
   "source": [
    "1. Generar un DataFrame con los datos de los fichero:\n",
    "\n",
    "2. Filtrar las columnas del DataFrame para quedarse con las columnas 'Unique Key', 'Created Date', 'Closed Date', 'Complaint Type', 'Borough'\n",
    "\n",
    "3. Añade una nueva columna llamada 'Year' al DataFrame, que contenga solo el año de la fecha en que se creó la queja (basado en la columna 'Created Date').\n",
    "\n",
    "4. Añadir una columna con la duración de la queja (desde la creación hasta la fecha de cierre).\n",
    "\n",
    "5. Eliminar las filas con duraciones de quejas no válidas y ordenar el DataFrame por 'Borough' y 'Complaint Duration'\n",
    "\n",
    "6. Mostrar por pantalla los distritos y los tipos de quejas disponibles en el DataFrame.\n",
    "\n",
    "7. Crear una función que reciba un distrito, un tipo de queja y devuelva la duración promedio de ese tipo de queja en el distrito dado.\n",
    "\n",
    "8. Mostrar un resumen descriptivo (mínimo, máximo, media, etc.) para cada tipo de queja.\n",
    "\n",
    "9. Mostrar un resumen descriptivo para cada tipo de queja por distritos.\n",
    "\n",
    "10. Crear una función que reciba un distrito y devuelva un resumen descriptivo de las duraciones de quejas de ese distrito.\n",
    "\n",
    "11. Crear una función que devuelva las duraciones promedio de quejas mensuales de un distrito dado para todos los tipos de quejas.\n",
    "\n",
    "12. Crear una función que reciba un tipo de queja y devuelva un DataFrame con las duraciones promedio de quejas mensuales de los distintos distritos.\n",
    "\n",
    "13. ¿Cuál es la duración media de las quejas de todos los tipos de quejas para el distrito \"MANHATTAN\"?\n",
    "\n",
    "14. ¿Cómo es la distribución de las quejas en cada distrito?\n",
    "\n",
    "15. ¿Cuál es el número total de quejas en cada mes?\n",
    "\n",
    "16. ¿Cuál es el tipo de queja más común?\n",
    "\n",
    "17. ¿Cuál es la duración media de las quejas por tipo de queja?\n"
   ]
  },
  {
   "cell_type": "markdown",
   "metadata": {},
   "source": [
    "# 1. Generar un DataFrame con los datos de los fichero:"
   ]
  },
  {
   "cell_type": "markdown",
   "metadata": {},
   "source": [
    "# 2. Filtrar las columnas del DataFrame para quedarse con las columnas 'Unique Key', 'Created Date', 'Closed Date', 'Complaint Type', 'Borough'"
   ]
  },
  {
   "cell_type": "markdown",
   "metadata": {},
   "source": [
    "# 3. Añade una nueva columna llamada 'Year' al DataFrame, que contenga solo el año de la fecha en que se creó la queja (basado en la columna 'Created Date')."
   ]
  },
  {
   "cell_type": "markdown",
   "metadata": {},
   "source": [
    "# 4. Añadir una columna con la duración de la queja (desde la creación hasta la fecha de cierre)."
   ]
  },
  {
   "cell_type": "markdown",
   "metadata": {},
   "source": [
    "# 5. Eliminar las filas con duraciones de quejas no válidas y ordenar el DataFrame por 'Borough' y 'Complaint Duration'"
   ]
  },
  {
   "cell_type": "markdown",
   "metadata": {},
   "source": [
    "# 6. Mostrar por pantalla los distritos y los tipos de quejas disponibles en el DataFrame."
   ]
  },
  {
   "cell_type": "markdown",
   "metadata": {},
   "source": []
  },
  {
   "cell_type": "markdown",
   "metadata": {},
   "source": []
  },
  {
   "cell_type": "code",
   "execution_count": null,
   "metadata": {},
   "outputs": [],
   "source": []
  },
  {
   "cell_type": "markdown",
   "metadata": {},
   "source": []
  },
  {
   "cell_type": "markdown",
   "metadata": {},
   "source": []
  },
  {
   "cell_type": "markdown",
   "metadata": {},
   "source": []
  },
  {
   "cell_type": "markdown",
   "metadata": {},
   "source": []
  },
  {
   "cell_type": "markdown",
   "metadata": {},
   "source": []
  },
  {
   "cell_type": "markdown",
   "metadata": {},
   "source": []
  },
  {
   "cell_type": "markdown",
   "metadata": {},
   "source": []
  },
  {
   "cell_type": "markdown",
   "metadata": {},
   "source": []
  },
  {
   "cell_type": "markdown",
   "metadata": {},
   "source": []
  },
  {
   "cell_type": "code",
   "execution_count": null,
   "metadata": {},
   "outputs": [],
   "source": []
  }
 ],
 "metadata": {
  "hide_input": false,
  "kernelspec": {
   "display_name": "Python 3 (ipykernel)",
   "language": "python",
   "name": "python3"
  },
  "language_info": {
   "codemirror_mode": {
    "name": "ipython",
    "version": 3
   },
   "file_extension": ".py",
   "mimetype": "text/x-python",
   "name": "python",
   "nbconvert_exporter": "python",
   "pygments_lexer": "ipython3",
   "version": "3.10.9"
  },
  "nbTranslate": {
   "displayLangs": [
    "en"
   ],
   "hotkey": "alt-t",
   "langInMainMenu": true,
   "sourceLang": "en",
   "targetLang": "fr",
   "useGoogleTranslate": true
  },
  "toc": {
   "base_numbering": 1,
   "nav_menu": {},
   "number_sections": true,
   "sideBar": true,
   "skip_h1_title": false,
   "title_cell": "Table of Contents",
   "title_sidebar": "Contents",
   "toc_cell": false,
   "toc_position": {},
   "toc_section_display": true,
   "toc_window_display": false
  }
 },
 "nbformat": 4,
 "nbformat_minor": 4
}
