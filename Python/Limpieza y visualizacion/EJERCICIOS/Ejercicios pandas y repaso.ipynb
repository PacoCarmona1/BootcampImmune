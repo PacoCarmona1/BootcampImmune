{
 "cells": [
  {
   "cell_type": "markdown",
   "id": "2d260486",
   "metadata": {},
   "source": [
    "## Practicas 1. Pandas"
   ]
  },
  {
   "cell_type": "code",
   "execution_count": 2,
   "id": "7bc75749",
   "metadata": {},
   "outputs": [],
   "source": [
    "import pandas as pd"
   ]
  },
  {
   "cell_type": "markdown",
   "id": "3510df3f",
   "metadata": {},
   "source": [
    "#### 1. ¿Qué es una Serie en Pandas y cómo se crea?"
   ]
  },
  {
   "cell_type": "markdown",
   "id": "90cf7309",
   "metadata": {},
   "source": [
    "Una Serie es un objeto unidimensional similar a un array, lista o columna en una tabla. Está diseñado para contener datos de un solo tipo, como enteros, strings, objetos, etc\n",
    "Se crea utilizando `pd.Series(data)` donde `data` puede ser una lista, un \n",
    "diccionario, un array de NumPy, etc.\n",
    "data = [10, 20, 30, 40, 50]\n",
    "s = pd.Series(data)"
   ]
  },
  {
   "cell_type": "markdown",
   "id": "7f782f6f",
   "metadata": {},
   "source": [
    "### 2. ¿Cómo se obtiene el tamaño, el índice y el tipo de datos de una Serie?"
   ]
  },
  {
   "cell_type": "code",
   "execution_count": null,
   "id": "7e54b29e",
   "metadata": {},
   "outputs": [],
   "source": [
    "# Tamaño\n",
    "size = s.size\n",
    "# Índice: s.index\n",
    "index = s.index\n",
    "# Tipo de datos: s.dtype\n",
    "dtype = s.dtype"
   ]
  },
  {
   "cell_type": "markdown",
   "id": "c7b94b4f",
   "metadata": {},
   "source": [
    "### 3. ¿Cómo se accede a los elementos de una Serie utilizando índices yposiciones?"
   ]
  },
  {
   "cell_type": "code",
   "execution_count": null,
   "id": "920a6a95",
   "metadata": {},
   "outputs": [],
   "source": [
    "# Acceder por índice: s[i] donde i es el índice del elemento.\n",
    "element_at_index = s[1]\n",
    "# Acceder por posición: s.iloc[i] donde i es la posición del elemento.\n",
    "element_at_position = s.iloc[2]"
   ]
  },
  {
   "cell_type": "markdown",
   "id": "a0f89aea",
   "metadata": {},
   "source": [
    "### 4. ¿Cuáles son algunas de las funciones y atributos básicos para obtener unresumen descriptivo de una Serie en Pandas?"
   ]
  },
  {
   "cell_type": "code",
   "execution_count": null,
   "id": "52d2c673",
   "metadata": {},
   "outputs": [],
   "source": [
    "# resumen descriptivo de una serie\n",
    "\n",
    "s.count()# el número total de elementos en una Serie.\n",
    "\n",
    "s.sum() # la suma de los valores en una Serie.\n",
    "\n",
    "s.cumsum() # un resumen descriptivo de una Serie.\n",
    "\n",
    "s.value_counts()# la frecuencia de los valores en una Serie.\n",
    "\n",
    "s.min()# el valor mínimo de una Serie.\n",
    "\n",
    "s.max()# el valor maximo de una Serie.\n",
    "\n",
    "s.mean()# Promedio de una Serie.\n",
    "\n",
    "s.std()# la desviación estándar de una Serie.\n",
    "\n",
    "s.describe()# un resumen descriptivo de una Serie."
   ]
  },
  {
   "cell_type": "markdown",
   "id": "ad075e97",
   "metadata": {},
   "source": [
    "### 5. Crea una Serie a partir de una lista de números enteros."
   ]
  },
  {
   "cell_type": "code",
   "execution_count": null,
   "id": "5cc01cdb",
   "metadata": {},
   "outputs": [],
   "source": [
    "lista = [1, 2, 3, 4, 5]\n",
    "s = pd.Series(lista)"
   ]
  },
  {
   "cell_type": "markdown",
   "id": "fedff43b",
   "metadata": {},
   "source": [
    "### 6. Crea una Serie a partir de un diccionario."
   ]
  },
  {
   "cell_type": "code",
   "execution_count": 5,
   "id": "80824364",
   "metadata": {},
   "outputs": [],
   "source": [
    "s1 = pd.Series(data = {\"Barça\": 81, \"Madrid\": 70, \"Atletico\": 65})"
   ]
  },
  {
   "cell_type": "markdown",
   "id": "b2d4592a",
   "metadata": {},
   "source": [
    "### 7. Crea una Serie a partir de un array de NumPy.\n"
   ]
  },
  {
   "cell_type": "code",
   "execution_count": null,
   "id": "417c21fc",
   "metadata": {},
   "outputs": [],
   "source": [
    "arr = np.array([10, 20, 30, 40, 50])\n",
    "s2 = pd.Series(arr)"
   ]
  },
  {
   "cell_type": "markdown",
   "id": "6e74ae5c",
   "metadata": {},
   "source": [
    "### 8. Cambia el índice de una Serie a una lista de caracteres.\n"
   ]
  },
  {
   "cell_type": "code",
   "execution_count": null,
   "id": "d69766eb",
   "metadata": {
    "scrolled": true
   },
   "outputs": [],
   "source": [
    "s4 = pd.Series(data, index=['a', 'b', 'c', 'd', 'e'])"
   ]
  },
  {
   "cell_type": "markdown",
   "id": "cbdb5e77",
   "metadata": {},
   "source": [
    "### 9. Selecciona un elemento específico de una Serie usando su índice.\n"
   ]
  },
  {
   "cell_type": "code",
   "execution_count": null,
   "id": "568dc5d9",
   "metadata": {},
   "outputs": [],
   "source": [
    "elemento = s1(1)"
   ]
  },
  {
   "cell_type": "markdown",
   "id": "70d53398",
   "metadata": {},
   "source": [
    "### 10. Selecciona un elemento específico de una Serie usando su posición.\n"
   ]
  },
  {
   "cell_type": "code",
   "execution_count": 6,
   "id": "f69b9dc4",
   "metadata": {},
   "outputs": [],
   "source": [
    "position = s1.iloc[2]"
   ]
  },
  {
   "cell_type": "markdown",
   "id": "de94334d",
   "metadata": {},
   "source": [
    "### 11. Selecciona múltiples elementos de una Serie usando una lista de índices.\n"
   ]
  },
  {
   "cell_type": "code",
   "execution_count": null,
   "id": "866c36f6",
   "metadata": {},
   "outputs": [],
   "source": [
    "multiple = s1[[1, 3, 5]]"
   ]
  },
  {
   "cell_type": "markdown",
   "id": "75e4837b",
   "metadata": {},
   "source": [
    "### 12. Selecciona múltiples elementos de una Serie usando rangos de posiciones.\n"
   ]
  },
  {
   "cell_type": "code",
   "execution_count": null,
   "id": "bc5f603e",
   "metadata": {},
   "outputs": [],
   "source": [
    "rango = s1.iloc[1:4]"
   ]
  },
  {
   "cell_type": "markdown",
   "id": "53f7f836",
   "metadata": {},
   "source": [
    "### 13. Encuentra el número total de elementos en una Serie.\n"
   ]
  },
  {
   "cell_type": "code",
   "execution_count": null,
   "id": "5a993073",
   "metadata": {},
   "outputs": [],
   "source": [
    "count = s1.count()"
   ]
  },
  {
   "cell_type": "markdown",
   "id": "5f4fcee9",
   "metadata": {},
   "source": [
    "### 14. Encuentra la suma de los valores en una Serie.\n"
   ]
  },
  {
   "cell_type": "code",
   "execution_count": null,
   "id": "6dc027eb",
   "metadata": {},
   "outputs": [],
   "source": [
    "suma = s1.sum()"
   ]
  },
  {
   "cell_type": "markdown",
   "id": "6f62cb9a",
   "metadata": {},
   "source": [
    "### 15. Calcula la suma acumulada de una Serie.\n"
   ]
  },
  {
   "cell_type": "code",
   "execution_count": null,
   "id": "2e19cc10",
   "metadata": {},
   "outputs": [],
   "source": [
    "acumulada = s1.cumsum()"
   ]
  },
  {
   "cell_type": "markdown",
   "id": "81964a57",
   "metadata": {},
   "source": [
    "### 16. Encuentra la frecuencia de los valores en una Serie.\n"
   ]
  },
  {
   "cell_type": "code",
   "execution_count": null,
   "id": "1c3ca406",
   "metadata": {},
   "outputs": [],
   "source": [
    "frecuencia = s1.value_counts()"
   ]
  },
  {
   "cell_type": "markdown",
   "id": "87b25706",
   "metadata": {},
   "source": [
    "### 17. Encuentra el valor mínimo de una Serie.\n"
   ]
  },
  {
   "cell_type": "code",
   "execution_count": null,
   "id": "2019e825",
   "metadata": {},
   "outputs": [],
   "source": [
    "min = s1.min()"
   ]
  },
  {
   "cell_type": "markdown",
   "id": "48803f34",
   "metadata": {},
   "source": [
    "### 18. Encuentra el valor máximo de una Serie."
   ]
  },
  {
   "cell_type": "code",
   "execution_count": null,
   "id": "a19fee0a",
   "metadata": {},
   "outputs": [],
   "source": [
    "max = s1.max()\n"
   ]
  },
  {
   "cell_type": "markdown",
   "id": "2a8afc8b",
   "metadata": {},
   "source": [
    "### 19. Calcula el promedio de una Serie.\n"
   ]
  },
  {
   "cell_type": "code",
   "execution_count": 7,
   "id": "44798add",
   "metadata": {},
   "outputs": [],
   "source": [
    "promedio = s1.mean()"
   ]
  },
  {
   "cell_type": "markdown",
   "id": "5897205f",
   "metadata": {},
   "source": [
    "### 20. Calcula la desviación estándar de una Serie.\n"
   ]
  },
  {
   "cell_type": "code",
   "execution_count": null,
   "id": "82ff8c0e",
   "metadata": {},
   "outputs": [],
   "source": [
    "desv = s1.std()"
   ]
  },
  {
   "cell_type": "markdown",
   "id": "97e243f6",
   "metadata": {},
   "source": [
    "### 21. Obtén un resumen descriptivo de una Serie.\n"
   ]
  },
  {
   "cell_type": "code",
   "execution_count": null,
   "id": "b4186085",
   "metadata": {},
   "outputs": [],
   "source": [
    "describe = s1.describe()"
   ]
  },
  {
   "cell_type": "markdown",
   "id": "9371b75b",
   "metadata": {},
   "source": [
    "### 22. Filtra los elementos de una Serie que son mayores que un valor específico.\n"
   ]
  },
  {
   "cell_type": "code",
   "execution_count": null,
   "id": "b38d1682",
   "metadata": {},
   "outputs": [],
   "source": [
    "filtrar_mayor = s1[s1 > 30]"
   ]
  },
  {
   "cell_type": "markdown",
   "id": "3bd0ebac",
   "metadata": {},
   "source": [
    "### 23. Filtra los elementos de una Serie que son menores que un valor específico.\n"
   ]
  },
  {
   "cell_type": "code",
   "execution_count": null,
   "id": "059c5ae4",
   "metadata": {},
   "outputs": [],
   "source": [
    "flitrar_menor = s1[s1 < 30]"
   ]
  },
  {
   "cell_type": "markdown",
   "id": "2dc0dfe6",
   "metadata": {},
   "source": [
    "### 24. Filtra los elementos de una Serie que son iguales a un valor específico.\n"
   ]
  },
  {
   "cell_type": "code",
   "execution_count": null,
   "id": "954f748f",
   "metadata": {},
   "outputs": [],
   "source": [
    "filtrar_igual = s1[s1 = 2]"
   ]
  },
  {
   "cell_type": "markdown",
   "id": "f3892e01",
   "metadata": {},
   "source": [
    "### 25. Encuentra los elementos únicos en una Serie."
   ]
  },
  {
   "cell_type": "code",
   "execution_count": null,
   "id": "2fcce087",
   "metadata": {},
   "outputs": [],
   "source": []
  },
  {
   "cell_type": "markdown",
   "id": "527f5d1a",
   "metadata": {},
   "source": [
    "### 26. Ordena los elementos de una Serie en orden ascendente.\n"
   ]
  },
  {
   "cell_type": "code",
   "execution_count": null,
   "id": "1a74f126",
   "metadata": {},
   "outputs": [],
   "source": [
    "s1 = s1.sort_values()"
   ]
  },
  {
   "cell_type": "markdown",
   "id": "7d46cd37",
   "metadata": {},
   "source": [
    "### 27. Ordena los elementos de una Serie en orden descendente.\n"
   ]
  },
  {
   "cell_type": "code",
   "execution_count": null,
   "id": "0542c632",
   "metadata": {},
   "outputs": [],
   "source": [
    "s1 = s1.sort_values(ascending = False)"
   ]
  },
  {
   "cell_type": "markdown",
   "id": "364a3708",
   "metadata": {},
   "source": [
    "### 28. Encuentra la mediana de una Serie.\n"
   ]
  },
  {
   "cell_type": "code",
   "execution_count": 9,
   "id": "c2aa6b91",
   "metadata": {},
   "outputs": [
    {
     "name": "stdout",
     "output_type": "stream",
     "text": [
      "count     8.000000\n",
      "mean     55.273169\n",
      "std      31.079424\n",
      "min       3.000000\n",
      "25%      50.796338\n",
      "50%      68.750000\n",
      "75%      72.875000\n",
      "max      81.000000\n",
      "dtype: float64\n"
     ]
    }
   ],
   "source": [
    "s1 = s1.describe()\n",
    "print(s1)\n"
   ]
  },
  {
   "cell_type": "markdown",
   "id": "5d658205",
   "metadata": {},
   "source": [
    "### 29. Encuentra el primer cuartil (Q1) de una Serie.\n"
   ]
  },
  {
   "cell_type": "code",
   "execution_count": null,
   "id": "91853418",
   "metadata": {},
   "outputs": [],
   "source": []
  },
  {
   "cell_type": "markdown",
   "id": "29aca23f",
   "metadata": {},
   "source": [
    "### 30. Encuentra el tercer cuartil (Q3) de una Serie"
   ]
  },
  {
   "cell_type": "code",
   "execution_count": null,
   "id": "1d4527ec",
   "metadata": {},
   "outputs": [],
   "source": []
  },
  {
   "cell_type": "markdown",
   "id": "78c782dd",
   "metadata": {},
   "source": [
    "## Parte 2"
   ]
  },
  {
   "cell_type": "markdown",
   "id": "695bd6dd",
   "metadata": {},
   "source": [
    "### 1. Calcula el total de ingresos, el promedio de ingresos diarios, la desviación estándar de los ingresos diarios y encuentra los 5 días con los ingresosmás altos en una Serie que representa los ingresos diarios de una tiendadurante un mes."
   ]
  },
  {
   "cell_type": "code",
   "execution_count": 27,
   "id": "d90b2143",
   "metadata": {},
   "outputs": [
    {
     "name": "stdout",
     "output_type": "stream",
     "text": [
      "El ingreso total es: 19200\n",
      "El promedio de ingresos diarios 640.0\n",
      "La desiacion estandar es: 191.36533033747887\n",
      "Los 5 dias con los ingresosmas altos son: 16    950\n",
      "23    950\n",
      "9     950\n",
      "5     900\n",
      "24    850\n",
      "dtype: int64\n"
     ]
    }
   ],
   "source": [
    "ingresos = pd.Series([500, 600, 450, 700, 800, 900, 650, 550, 400, 950, 850, 750, 350, 650,\n",
    "550, 450, 950, 850, 750, 650, 550, 450, 350, 950, 850, 750, 650, 550, 450, 350])\n",
    "\n",
    "print(\"El ingreso total es:\", ingresos.sum())\n",
    "print(\"El promedio de ingresos diarios\",ingresos.mean())\n",
    "print(\"La desiacion estandar es:\",ingresos.std())\n",
    "altos = ingresos.sort_values(ascending = False)\n",
    "print(\"Los 5 dias con los ingresosmas altos son:\",altos.iloc[0:5])"
   ]
  },
  {
   "cell_type": "markdown",
   "id": "f6ad3173",
   "metadata": {},
   "source": [
    "### 2. Calcula la suma acumulada de las ventas y encuentra el producto querepresentó el 25% de las ventas acumuladas en una Serie que representael número de unidades vendidas de diferentes productos en un mes."
   ]
  },
  {
   "cell_type": "code",
   "execution_count": null,
   "id": "87725e76",
   "metadata": {},
   "outputs": [],
   "source": [
    "ventas = pd.Series({\"Producto A\": 100, \"Producto B\": 200, \"Producto C\": 300, \"Producto D\":\n",
    "150, \"Producto E\": 250, \"Producto F\": 350})"
   ]
  },
  {
   "cell_type": "markdown",
   "id": "aa5f9354",
   "metadata": {},
   "source": [
    "### 3. Filtra los productos cuyo precio está por encima del promedio y ordena los productos filtrados en orden descendente según su precio en una Serie que representa los precios de varios productos en una tienda."
   ]
  },
  {
   "cell_type": "code",
   "execution_count": null,
   "id": "e67f77ec",
   "metadata": {},
   "outputs": [],
   "source": [
    "precios = pd.Series({\"Producto A\": 120, \"Producto B\": 80, \"Producto C\": 150, \"Producto D\":\n",
    "50, \"Producto E\": 90})"
   ]
  },
  {
   "cell_type": "markdown",
   "id": "9e190c78",
   "metadata": {},
   "source": [
    "### 4. Filtra las calificaciones que están por encima del tercer cuartil (Q3) y encuentra el empleado con la calificación más baja entre ellos en una Serie que representa las calificaciones de un grupo de empleados."
   ]
  },
  {
   "cell_type": "code",
   "execution_count": null,
   "id": "591d7f2b",
   "metadata": {},
   "outputs": [],
   "source": [
    "alificaciones = pd.Series({\"Empleado 1\": 85, \"Empleado 2\": 90, \"Empleado 3\": 78,\n",
    "\"Empleado 4\": 92, \"Empleado 5\": 88, \"Empleado 6\": 76, \"Empleado 7\": 95, \"Empleado 8\":\n",
    "89})\n"
   ]
  },
  {
   "cell_type": "markdown",
   "id": "674bc659",
   "metadata": {},
   "source": [
    "### 5. Encuentra la cantidad de días con un número de clientes superior al promedio y calcula el porcentaje de días con un número de clientes por encima del promedio en una Serie que representa el número de clientes diarios en una tienda durante un mes."
   ]
  },
  {
   "cell_type": "code",
   "execution_count": null,
   "id": "9e0f7ea2",
   "metadata": {},
   "outputs": [],
   "source": [
    "clientes_diarios = pd.Series([15, 20, 30, 25, 35, 40, 45, 50, 15, 20, 30, 25, 35, 40, 45, 50, 15,\n",
    "20, 30, 25, 35, 40, 45, 50, 15, 20, 30, 25, 35, 40])\n"
   ]
  }
 ],
 "metadata": {
  "kernelspec": {
   "display_name": "Python 3 (ipykernel)",
   "language": "python",
   "name": "python3"
  },
  "language_info": {
   "codemirror_mode": {
    "name": "ipython",
    "version": 3
   },
   "file_extension": ".py",
   "mimetype": "text/x-python",
   "name": "python",
   "nbconvert_exporter": "python",
   "pygments_lexer": "ipython3",
   "version": "3.10.9"
  }
 },
 "nbformat": 4,
 "nbformat_minor": 5
}
