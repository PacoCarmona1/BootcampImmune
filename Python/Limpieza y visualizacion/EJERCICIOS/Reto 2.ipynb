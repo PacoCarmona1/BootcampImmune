{
 "cells": [
  {
   "cell_type": "markdown",
   "id": "ceee8c44",
   "metadata": {},
   "source": [
    "# Reto 2"
   ]
  },
  {
   "cell_type": "markdown",
   "id": "192c5c7d",
   "metadata": {},
   "source": [
    "## Manipulación y procesado de datos\n"
   ]
  },
  {
   "cell_type": "code",
   "execution_count": 2,
   "id": "04394525",
   "metadata": {},
   "outputs": [],
   "source": [
    "import numpy as np"
   ]
  },
  {
   "cell_type": "markdown",
   "id": "72fda95c",
   "metadata": {},
   "source": [
    "###  1. Crear una matriz numpy vacía de números enteros y otra completa"
   ]
  },
  {
   "cell_type": "code",
   "execution_count": 3,
   "id": "399ced40",
   "metadata": {},
   "outputs": [
    {
     "name": "stdout",
     "output_type": "stream",
     "text": [
      "[[0. 0. 0. 0.]\n",
      " [0. 0. 0. 0.]\n",
      " [0. 0. 0. 0.]]\n",
      "[[3 3 3]\n",
      " [3 3 3]\n",
      " [3 3 3]]\n"
     ]
    }
   ],
   "source": [
    "print(np.zeros((3,4)))\n",
    "print(np.full([3,3],3))"
   ]
  },
  {
   "cell_type": "markdown",
   "id": "3bb50f5e",
   "metadata": {},
   "source": [
    "### 2. Crea un array y conviértelo en una matriz de 3 columnas y 5 filas"
   ]
  },
  {
   "cell_type": "code",
   "execution_count": 4,
   "id": "cad2c411",
   "metadata": {},
   "outputs": [
    {
     "name": "stdout",
     "output_type": "stream",
     "text": [
      "[[ 1  2  3]\n",
      " [ 4  5  6]\n",
      " [ 7  8  9]\n",
      " [10 11 12]\n",
      " [13 14 15]]\n"
     ]
    }
   ],
   "source": [
    "array = np.arange(1, 16)  \n",
    " \n",
    "matriz = array.reshape(5, 3)\n",
    "\n",
    "print(matriz)"
   ]
  },
  {
   "cell_type": "markdown",
   "id": "b23acb30",
   "metadata": {},
   "source": [
    "### 3. Todos los elementos de un array deben tener el mismo tipo de dato, crea un array booleano y comprueba el tipo de dato. Luego crea uno con tipos de datos distintos y comprueba el tipo de resultado."
   ]
  },
  {
   "cell_type": "code",
   "execution_count": 6,
   "id": "33c92aed",
   "metadata": {},
   "outputs": [
    {
     "name": "stdout",
     "output_type": "stream",
     "text": [
      "Tipo de dato del array booleano: bool\n",
      "Tipo de dato del array mixto: <U32\n"
     ]
    }
   ],
   "source": [
    "bool = np.array([True, False, True, False])\n",
    "\n",
    "\n",
    "print(\"Tipo de dato del array booleano:\",bool.dtype)\n",
    "\n",
    "\n",
    "dato = np.array([1, 2.5, \"tres\", True])\n",
    "\n",
    "\n",
    "print(\"Tipo de dato del array mixto:\",dato.dtype)"
   ]
  },
  {
   "cell_type": "markdown",
   "id": "59236cea",
   "metadata": {},
   "source": [
    "### 4. Filtra el nombre Julio en los elementos del siguiente array: Julio, Jose, Alberto, Julio, Nuria, Daniel."
   ]
  },
  {
   "cell_type": "code",
   "execution_count": 11,
   "id": "d14bd789",
   "metadata": {},
   "outputs": [
    {
     "name": "stdout",
     "output_type": "stream",
     "text": [
      "['Julio', 'Julio']\n"
     ]
    }
   ],
   "source": [
    "nombres = [\"Julio\", \"Jose\", \"Alberto\", \"Julio\", \"Nuria\", \"Daniel\"]\n",
    "\n",
    "resultado = [nombre for nombre in nombres if nombre == \"Julio\"]\n",
    "\n",
    "print(resultado)"
   ]
  },
  {
   "cell_type": "markdown",
   "id": "e8ae6abd",
   "metadata": {},
   "source": [
    "### 5. Crea una un array de 20 elementos numéricos y encuentra la raíz cuadrada y exponencial"
   ]
  },
  {
   "cell_type": "code",
   "execution_count": 12,
   "id": "eb2fc1f0",
   "metadata": {},
   "outputs": [
    {
     "name": "stdout",
     "output_type": "stream",
     "text": [
      "Array original:\n",
      "[0.37231033 0.0554694  0.65814581 0.02157904 0.88460646 0.38144181\n",
      " 0.15199391 0.43326246 0.43663439 0.41385241 0.9478986  0.02665208\n",
      " 0.64091423 0.58100326 0.82388246 0.89714715 0.24883397 0.16948438\n",
      " 0.43419675 0.14493309]\n",
      "Raíz cuadrada de cada elemento:\n",
      "[0.61017238 0.23551942 0.81126186 0.14689806 0.9405352  0.61760975\n",
      " 0.38986397 0.65822675 0.66078317 0.64331362 0.97360084 0.16325464\n",
      " 0.80057119 0.7622357  0.90767971 0.94717852 0.49883261 0.4116848\n",
      " 0.65893607 0.38070079]\n",
      "Exponencial de cada elemento:\n",
      "[1.45108322 1.05703667 1.93120819 1.02181355 2.42203104 1.46439445\n",
      " 1.16415315 1.54228095 1.5474902  1.51263386 2.58028175 1.02701042\n",
      " 1.89821549 1.78783119 2.27933209 2.45259624 1.28252908 1.18469384\n",
      " 1.54372257 1.15596222]\n"
     ]
    }
   ],
   "source": [
    "array = np.random.rand(20) \n",
    "raices_cuadradas = np.sqrt(array)\n",
    "exponenciales = np.exp(array)\n",
    "\n",
    "print(\"Array original:\")\n",
    "print(array)\n",
    "print(\"Raíz cuadrada de cada elemento:\")\n",
    "print(raices_cuadradas)\n",
    "print(\"Exponencial de cada elemento:\")\n",
    "print(exponenciales)"
   ]
  },
  {
   "cell_type": "markdown",
   "id": "dee1febf",
   "metadata": {},
   "source": [
    "### 6. Matemáticas:"
   ]
  },
  {
   "cell_type": "code",
   "execution_count": 16,
   "id": "6ff23162",
   "metadata": {},
   "outputs": [
    {
     "name": "stdout",
     "output_type": "stream",
     "text": [
      "[-5 -4 -3 -2 -1  0  1  2  3  4  5  6]\n"
     ]
    }
   ],
   "source": [
    "# 6.1 Crea un array de -5 a 6.\n",
    "\n",
    "array5 = np.arange(-5, 7) \n",
    "print(array5)"
   ]
  },
  {
   "cell_type": "code",
   "execution_count": 17,
   "id": "da61a95d",
   "metadata": {},
   "outputs": [
    {
     "name": "stdout",
     "output_type": "stream",
     "text": [
      "[-12.5 -10.   -7.5  -5.   -2.5   0.    2.5   5.    7.5  10.   12.5  15. ]\n"
     ]
    }
   ],
   "source": [
    "# 6.2 Multiplica por 2.5 todos los elementos del array.\n",
    "m = array5 * 2.5\n",
    "print(m)"
   ]
  },
  {
   "cell_type": "code",
   "execution_count": 21,
   "id": "b668599e",
   "metadata": {},
   "outputs": [
    {
     "name": "stdout",
     "output_type": "stream",
     "text": [
      "[-2.5, 0.0, 2.5]\n"
     ]
    }
   ],
   "source": [
    "# 6.3 Filtra los elementos del array que son mayores de -3 y menores de 5.\n",
    "\n",
    "\n",
    "resultado = [elemento for elemento in m if -3 < elemento < 5]\n",
    "\n",
    "print(resultado)"
   ]
  },
  {
   "cell_type": "code",
   "execution_count": 23,
   "id": "f189a7ca",
   "metadata": {},
   "outputs": [
    {
     "name": "stdout",
     "output_type": "stream",
     "text": [
      "[-11.5  -9.   -6.5  -4.   -1.5   0.    2.5   5.    7.5  10.   12.5  15. ]\n"
     ]
    }
   ],
   "source": [
    "# 6.4 Transforma el array para añadir 1 a todos los elementos negativos (Usa una función)\n",
    "\n",
    "m = np.array([-12.5, -10.0, -7.5, -5.0, -2.5, 0.0, 2.5, 5.0, 7.5, 10.0, 12.5, 15.0])\n",
    "\n",
    "resultado = np.add(m, np.where(m < 0, 1, 0))\n",
    "\n",
    "print(resultado)"
   ]
  },
  {
   "cell_type": "code",
   "execution_count": 22,
   "id": "7aa221ce",
   "metadata": {},
   "outputs": [
    {
     "name": "stdout",
     "output_type": "stream",
     "text": [
      "15.0\n"
     ]
    }
   ],
   "source": [
    "# 6.5 Imprime la suma del array\n",
    "print(sum(m))\n"
   ]
  }
 ],
 "metadata": {
  "kernelspec": {
   "display_name": "Python 3 (ipykernel)",
   "language": "python",
   "name": "python3"
  },
  "language_info": {
   "codemirror_mode": {
    "name": "ipython",
    "version": 3
   },
   "file_extension": ".py",
   "mimetype": "text/x-python",
   "name": "python",
   "nbconvert_exporter": "python",
   "pygments_lexer": "ipython3",
   "version": "3.10.9"
  }
 },
 "nbformat": 4,
 "nbformat_minor": 5
}
