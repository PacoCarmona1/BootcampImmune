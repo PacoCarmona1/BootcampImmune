{
 "cells": [
  {
   "cell_type": "code",
   "execution_count": 7,
   "id": "5d6c32a0",
   "metadata": {
    "scrolled": true
   },
   "outputs": [
    {
     "name": "stdout",
     "output_type": "stream",
     "text": [
      "La suma total de los valores es: 6498.0\n"
     ]
    }
   ],
   "source": [
    "import pandas as pd\n",
    "import numpy as np\n",
    "\n",
    "# Definir el número de filas y columnas\n",
    "filas = 36\n",
    "columnas = 10\n",
    "\n",
    "# Crear una matriz con los valores iniciales\n",
    "valores = np.arange(0.1, filas * columnas * 0.1 + 0.1, 0.1).reshape(filas, columnas)\n",
    "\n",
    "# Crear un DataFrame con los valores\n",
    "tabla = pd.DataFrame(valores, columns=[f\"Columna {i+1}\" for i in range(columnas)])\n",
    "\n",
    "# Imprimir la tabla\n",
    "tabla\n",
    "suma_total = tabla.sum().sum()\n",
    "\n",
    "# Imprimir la suma total\n",
    "print(\"La suma total de los valores es:\", suma_total)"
   ]
  },
  {
   "cell_type": "code",
   "execution_count": 6,
   "id": "ee8bc65e",
   "metadata": {},
   "outputs": [
    {
     "ename": "TypeError",
     "evalue": "unsupported operand type(s) for +: 'int' and 'str'",
     "output_type": "error",
     "traceback": [
      "\u001b[1;31m---------------------------------------------------------------------------\u001b[0m",
      "\u001b[1;31mTypeError\u001b[0m                                 Traceback (most recent call last)",
      "Cell \u001b[1;32mIn[6], line 1\u001b[0m\n\u001b[1;32m----> 1\u001b[0m \u001b[38;5;28;43msum\u001b[39;49m\u001b[43m(\u001b[49m\u001b[38;5;124;43m'\u001b[39;49m\u001b[38;5;124;43mvalores\u001b[39;49m\u001b[38;5;124;43m'\u001b[39;49m\u001b[43m)\u001b[49m\n",
      "\u001b[1;31mTypeError\u001b[0m: unsupported operand type(s) for +: 'int' and 'str'"
     ]
    }
   ],
   "source": []
  },
  {
   "cell_type": "code",
   "execution_count": null,
   "id": "d114bd40",
   "metadata": {},
   "outputs": [],
   "source": []
  }
 ],
 "metadata": {
  "kernelspec": {
   "display_name": "Python 3 (ipykernel)",
   "language": "python",
   "name": "python3"
  },
  "language_info": {
   "codemirror_mode": {
    "name": "ipython",
    "version": 3
   },
   "file_extension": ".py",
   "mimetype": "text/x-python",
   "name": "python",
   "nbconvert_exporter": "python",
   "pygments_lexer": "ipython3",
   "version": "3.10.9"
  }
 },
 "nbformat": 4,
 "nbformat_minor": 5
}
