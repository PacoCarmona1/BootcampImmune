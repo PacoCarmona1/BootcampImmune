{
 "cells": [
  {
   "cell_type": "markdown",
   "id": "7e752b9a",
   "metadata": {},
   "source": [
    "#  Introduccion a Pandas"
   ]
  },
  {
   "cell_type": "code",
   "execution_count": null,
   "id": "59a2be01",
   "metadata": {},
   "outputs": [],
   "source": [
    "#instalar pandas, luego invocar\n",
    "\n",
    "pip install pandas"
   ]
  },
  {
   "cell_type": "code",
   "execution_count": 5,
   "id": "c2a454df",
   "metadata": {},
   "outputs": [],
   "source": [
    "import pandas as pd"
   ]
  },
  {
   "cell_type": "markdown",
   "id": "10b7db26",
   "metadata": {},
   "source": [
    "# Creacion de dataframes"
   ]
  },
  {
   "cell_type": "code",
   "execution_count": 6,
   "id": "5c9ac5f0",
   "metadata": {},
   "outputs": [
    {
     "data": {
      "text/plain": [
       "0     Sabado\n",
       "1    Domingo\n",
       "dtype: string"
      ]
     },
     "execution_count": 6,
     "metadata": {},
     "output_type": "execute_result"
    }
   ],
   "source": [
    "# Aqui vamos a crear una serie que llamaremos \"s\" a partir de una lista.\n",
    "\n",
    "s = pd.Series(data = [\"Sabado\", \"Domingo\"], dtype = \"string\")\n",
    "s "
   ]
  },
  {
   "cell_type": "code",
   "execution_count": 7,
   "id": "d0ac00fb",
   "metadata": {},
   "outputs": [
    {
     "data": {
      "text/plain": [
       "Matematicas    6.1\n",
       "Economia       7.0\n",
       "Lengua         4.2\n",
       "dtype: float64"
      ]
     },
     "execution_count": 7,
     "metadata": {},
     "output_type": "execute_result"
    }
   ],
   "source": [
    "# Aqui vamos a crear una serie que llamaremos \"s1\" a partir de un diccionario\n",
    "\n",
    "s1 = pd.Series(data = {\"Matematicas\": 6.1, \"Economia\": 7.0,\"Lengua\":4.2})\n",
    "s1"
   ]
  },
  {
   "cell_type": "code",
   "execution_count": 9,
   "id": "1fa6d8c4",
   "metadata": {},
   "outputs": [
    {
     "name": "stdout",
     "output_type": "stream",
     "text": [
      "Nombre del alumno    [Nico, Christian, Jessica]\n",
      "Nota                               [10, 10, 10]\n",
      "dtype: object\n"
     ]
    }
   ],
   "source": [
    "dic_alumno = {'Nombre del alumno': ['Nico','Christian','Jessica'], 'Nota':[10,10,10]}\n",
    "print(pd.Series(dic_alumno))"
   ]
  },
  {
   "cell_type": "markdown",
   "id": "3f4faa7f",
   "metadata": {},
   "source": [
    "# Atributos\n",
    "\n"
   ]
  },
  {
   "cell_type": "code",
   "execution_count": 11,
   "id": "1160bbcc",
   "metadata": {},
   "outputs": [
    {
     "data": {
      "text/plain": [
       "3"
      ]
     },
     "execution_count": 11,
     "metadata": {},
     "output_type": "execute_result"
    }
   ],
   "source": [
    "# Devuelve el numero de elementos de la serie s1\n",
    "\n",
    "s1.size\n"
   ]
  },
  {
   "cell_type": "code",
   "execution_count": 12,
   "id": "c7ea5b5e",
   "metadata": {},
   "outputs": [
    {
     "data": {
      "text/plain": [
       "Index(['Matematicas', 'Economia', 'Lengua'], dtype='object')"
      ]
     },
     "execution_count": 12,
     "metadata": {},
     "output_type": "execute_result"
    }
   ],
   "source": [
    "# Devuelve una lista con los nombres de las filas del DataFrame\n",
    "\n",
    "s1.index"
   ]
  },
  {
   "cell_type": "code",
   "execution_count": 13,
   "id": "8fccb35f",
   "metadata": {
    "scrolled": true
   },
   "outputs": [
    {
     "data": {
      "text/plain": [
       "dtype('float64')"
      ]
     },
     "execution_count": 13,
     "metadata": {},
     "output_type": "execute_result"
    }
   ],
   "source": [
    "#Devuelve el tipo de datos de los elementos de la serie s.\n",
    "\n",
    "s1.dtype"
   ]
  },
  {
   "cell_type": "code",
   "execution_count": 16,
   "id": "9d1a1294",
   "metadata": {},
   "outputs": [
    {
     "data": {
      "text/plain": [
       "Economia    7.0\n",
       "Lengua      4.2\n",
       "dtype: float64"
      ]
     },
     "execution_count": 16,
     "metadata": {},
     "output_type": "execute_result"
    }
   ],
   "source": [
    "# Acceder a los elementos de una Serie\n",
    "\n",
    "s1[1:3]"
   ]
  },
  {
   "cell_type": "code",
   "execution_count": null,
   "id": "c7a03857",
   "metadata": {},
   "outputs": [],
   "source": [
    "# "
   ]
  }
 ],
 "metadata": {
  "kernelspec": {
   "display_name": "Python 3 (ipykernel)",
   "language": "python",
   "name": "python3"
  },
  "language_info": {
   "codemirror_mode": {
    "name": "ipython",
    "version": 3
   },
   "file_extension": ".py",
   "mimetype": "text/x-python",
   "name": "python",
   "nbconvert_exporter": "python",
   "pygments_lexer": "ipython3",
   "version": "3.10.9"
  }
 },
 "nbformat": 4,
 "nbformat_minor": 5
}
