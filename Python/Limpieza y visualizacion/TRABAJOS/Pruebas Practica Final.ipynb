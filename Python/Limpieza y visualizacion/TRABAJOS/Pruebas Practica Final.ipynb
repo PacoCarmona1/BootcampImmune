{
 "cells": [
  {
   "cell_type": "markdown",
   "id": "45a64ac3",
   "metadata": {},
   "source": [
    "# Pruebas Practica Final"
   ]
  },
  {
   "cell_type": "code",
   "execution_count": 1,
   "id": "8cab434d",
   "metadata": {},
   "outputs": [],
   "source": [
    "import seaborn as sns\n",
    "import numpy as np\n",
    "import pandas as pd\n",
    "import matplotlib.pyplot as plt\n",
    "%matplotlib inline"
   ]
  },
  {
   "cell_type": "code",
   "execution_count": 2,
   "id": "7f1edc4f",
   "metadata": {},
   "outputs": [],
   "source": [
    "m_clientes = pd.read_excel('/Users/Paco/Desktop/T.Grupo/CSV/maestro_clientes.xlsx')\n",
    "m_productos = pd.read_csv('/Users/Paco/Desktop/T.Grupo/CSV/maestro_productos.csv')\n",
    "sellin_total = pd.read_csv('/Users/Paco/Desktop/T.Grupo/CSV/sellin-total.csv')\n",
    "proveedor1 = pd.read_csv('/Users/Paco/Desktop/T.Grupo/CSV/sellout-proveedor1.csv')\n",
    "proveedor2 = pd.read_csv('/Users/Paco/Desktop/T.Grupo/CSV/sellout-proveedor2.csv')\n"
   ]
  },
  {
   "cell_type": "markdown",
   "id": "0dc16997",
   "metadata": {},
   "source": [
    "## Maestro Productos\n",
    "Contiene toda la\n",
    "información disponible relativa a los productos que vende el cliente y competidores"
   ]
  },
  {
   "cell_type": "code",
   "execution_count": 3,
   "id": "3e331f9e",
   "metadata": {
    "scrolled": false
   },
   "outputs": [],
   "source": [
    "#m_productos = pd.read_csv('/Users/marioalvarogutierrez/Downloads/maestro_productos.csv')\n",
    "\n",
    "#m_productos"
   ]
  },
  {
   "cell_type": "code",
   "execution_count": 4,
   "id": "0882e578",
   "metadata": {},
   "outputs": [
    {
     "name": "stdout",
     "output_type": "stream",
     "text": [
      "<class 'pandas.core.frame.DataFrame'>\n",
      "RangeIndex: 1242 entries, 0 to 1241\n",
      "Data columns (total 4 columns):\n",
      " #   Column           Non-Null Count  Dtype \n",
      "---  ------           --------------  ----- \n",
      " 0   Sku              1242 non-null   int64 \n",
      " 1   Sku_Description  1242 non-null   object\n",
      " 2   Sku_Category     1242 non-null   object\n",
      " 3   Sku_Subcategory  1242 non-null   object\n",
      "dtypes: int64(1), object(3)\n",
      "memory usage: 38.9+ KB\n"
     ]
    }
   ],
   "source": [
    "m_productos.info()"
   ]
  },
  {
   "cell_type": "markdown",
   "id": "7ed94aa4",
   "metadata": {},
   "source": [
    "Miramos cuantos valores nulos hay en la tabla, y vemos que cno hay ninguno"
   ]
  },
  {
   "cell_type": "code",
   "execution_count": 5,
   "id": "c05535ee",
   "metadata": {},
   "outputs": [
    {
     "data": {
      "text/plain": [
       "Sku                False\n",
       "Sku_Description    False\n",
       "Sku_Category       False\n",
       "Sku_Subcategory    False\n",
       "dtype: bool"
      ]
     },
     "execution_count": 5,
     "metadata": {},
     "output_type": "execute_result"
    }
   ],
   "source": [
    "m_productos.isna().any()"
   ]
  },
  {
   "cell_type": "markdown",
   "id": "788b8a54",
   "metadata": {},
   "source": [
    "El sku en productos no es el mismo sku que en las tabals de sellin y proveedores. Deberiamos cambiar el nombre de esta columna y ver de que manera estaria relacionada esta tabla con las otras o intentar averiguar si el sku esta relacionado de otra manera con las tablas.\n"
   ]
  },
  {
   "cell_type": "markdown",
   "id": "0a992ea9",
   "metadata": {},
   "source": [
    "## Maestro Clientes\n",
    "Contiene toda la\n",
    "información disponible sobre las tiendas y distribuidores que venden los productos del\n",
    "cliente"
   ]
  },
  {
   "cell_type": "code",
   "execution_count": 6,
   "id": "6556b737",
   "metadata": {
    "scrolled": false
   },
   "outputs": [],
   "source": [
    "#m_clientes = pd.read_excel('/Users/marioalvarogutierrez/Downloads/maestro_clientes.xlsx')\n",
    "\n",
    "#m_clientes"
   ]
  },
  {
   "cell_type": "code",
   "execution_count": 7,
   "id": "41f30849",
   "metadata": {},
   "outputs": [
    {
     "name": "stdout",
     "output_type": "stream",
     "text": [
      "<class 'pandas.core.frame.DataFrame'>\n",
      "RangeIndex: 2452 entries, 0 to 2451\n",
      "Data columns (total 10 columns):\n",
      " #   Column                   Non-Null Count  Dtype \n",
      "---  ------                   --------------  ----- \n",
      " 0   NUM TDA                  2452 non-null   int64 \n",
      " 1   NOMBRE DE TDA            2452 non-null   object\n",
      " 2   CADENA                   2452 non-null   object\n",
      " 3   FORMATO                  2452 non-null   object\n",
      " 4   MUNICIPIO/CIUDAD         2452 non-null   object\n",
      " 5   ESTADO                   2452 non-null   object\n",
      " 6   DIVISION                 2452 non-null   object\n",
      " 7   DEPOSITO / DISTRIBUIDOR  2452 non-null   object\n",
      " 8   ESTRUCTURA               2452 non-null   object\n",
      " 9   GRADO                    2452 non-null   object\n",
      "dtypes: int64(1), object(9)\n",
      "memory usage: 191.7+ KB\n"
     ]
    }
   ],
   "source": [
    "m_clientes.info()"
   ]
  },
  {
   "cell_type": "code",
   "execution_count": 8,
   "id": "dabf608b",
   "metadata": {},
   "outputs": [
    {
     "ename": "NameError",
     "evalue": "name 'maestro_clientes' is not defined",
     "output_type": "error",
     "traceback": [
      "\u001b[1;31m---------------------------------------------------------------------------\u001b[0m",
      "\u001b[1;31mNameError\u001b[0m                                 Traceback (most recent call last)",
      "Cell \u001b[1;32mIn[8], line 1\u001b[0m\n\u001b[1;32m----> 1\u001b[0m m_clientes \u001b[38;5;241m=\u001b[39m \u001b[43mmaestro_clientes\u001b[49m\u001b[38;5;241m.\u001b[39mrename(columns\u001b[38;5;241m=\u001b[39m{\u001b[38;5;124m'\u001b[39m\u001b[38;5;124mNUM TDA\u001b[39m\u001b[38;5;124m'\u001b[39m:\u001b[38;5;124m'\u001b[39m\u001b[38;5;124mStore_Id\u001b[39m\u001b[38;5;124m'\u001b[39m})\n\u001b[0;32m      3\u001b[0m m_clientes\n",
      "\u001b[1;31mNameError\u001b[0m: name 'maestro_clientes' is not defined"
     ]
    }
   ],
   "source": [
    "m_clientes = maestro_clientes.rename(columns={'NUM TDA':'Store_Id'})\n",
    "\n",
    "m_clientes"
   ]
  },
  {
   "cell_type": "markdown",
   "id": "8444f5f2",
   "metadata": {},
   "source": [
    "## Sellin Total\n",
    "SellIn es la información de los procesos de venta de nuestro cliente hacia sus\n",
    "distribuidores (es decir, cuando un supermercado compra un lote de productos de nuestro\n",
    "cliente con el fin de vendérselos a los compradores finales)"
   ]
  },
  {
   "cell_type": "code",
   "execution_count": null,
   "id": "267fdd47",
   "metadata": {
    "scrolled": true
   },
   "outputs": [],
   "source": [
    "#sellin_total = pd.read_csv('/Users/marioalvarogutierrez/Downloads/sellin-total.csv')\n",
    "\n",
    "#sellin_total.head()"
   ]
  },
  {
   "cell_type": "code",
   "execution_count": 9,
   "id": "b41a038e",
   "metadata": {
    "scrolled": false
   },
   "outputs": [
    {
     "name": "stdout",
     "output_type": "stream",
     "text": [
      "<class 'pandas.core.frame.DataFrame'>\n",
      "RangeIndex: 4188783 entries, 0 to 4188782\n",
      "Data columns (total 6 columns):\n",
      " #   Column    Dtype  \n",
      "---  ------    -----  \n",
      " 0   Sku       int64  \n",
      " 1   Date      object \n",
      " 2   Store_Id  int64  \n",
      " 3   Pieces    float64\n",
      " 4   Price     float64\n",
      " 5   Margin    float64\n",
      "dtypes: float64(3), int64(2), object(1)\n",
      "memory usage: 191.7+ MB\n"
     ]
    }
   ],
   "source": [
    "sellin_total.info()"
   ]
  },
  {
   "cell_type": "code",
   "execution_count": 10,
   "id": "32678501",
   "metadata": {},
   "outputs": [
    {
     "data": {
      "text/plain": [
       "array(['02/01/2015', '03/01/2015', '05/01/2015', '06/01/2015',\n",
       "       '07/01/2015', '08/01/2015', '09/01/2015', '10/01/2015',\n",
       "       '12/01/2015', '13/01/2015', '14/01/2015', '15/01/2015',\n",
       "       '16/01/2015', '17/01/2015', '19/01/2015', '20/01/2015',\n",
       "       '21/01/2015', '22/01/2015', '23/01/2015', '24/01/2015',\n",
       "       '26/01/2015', '27/01/2015', '28/01/2015', '29/01/2015',\n",
       "       '30/01/2015', '31/01/2015', '02/02/2015', '03/02/2015',\n",
       "       '04/02/2015', '05/02/2015', '06/02/2015', '07/02/2015',\n",
       "       '09/02/2015', '10/02/2015', '11/02/2015', '12/02/2015',\n",
       "       '13/02/2015', '14/02/2015', '16/02/2015', '17/02/2015',\n",
       "       '18/02/2015', '19/02/2015', '20/02/2015', '21/02/2015',\n",
       "       '23/02/2015', '24/02/2015', '25/02/2015', '26/02/2015',\n",
       "       '27/02/2015', '28/02/2015', '02/03/2015', '03/03/2015',\n",
       "       '04/03/2015', '05/03/2015', '06/03/2015', '07/03/2015',\n",
       "       '09/03/2015', '10/03/2015', '11/03/2015', '12/03/2015',\n",
       "       '13/03/2015', '14/03/2015', '16/03/2015', '17/03/2015',\n",
       "       '18/03/2015', '19/03/2015', '20/03/2015', '21/03/2015',\n",
       "       '23/03/2015', '24/03/2015', '25/03/2015', '26/03/2015',\n",
       "       '27/03/2015', '28/03/2015', '30/03/2015', '31/03/2015',\n",
       "       '01/04/2015', '02/04/2015', '03/04/2015', '04/04/2015',\n",
       "       '06/04/2015', '07/04/2015', '08/04/2015', '09/04/2015',\n",
       "       '10/04/2015', '11/04/2015', '13/04/2015', '14/04/2015',\n",
       "       '15/04/2015', '16/04/2015', '17/04/2015', '18/04/2015',\n",
       "       '20/04/2015', '21/04/2015', '22/04/2015', '23/04/2015',\n",
       "       '24/04/2015', '25/04/2015', '27/04/2015', '28/04/2015',\n",
       "       '29/04/2015', '30/04/2015', '01/05/2015', '02/05/2015',\n",
       "       '04/05/2015', '05/05/2015', '06/05/2015', '07/05/2015',\n",
       "       '08/05/2015', '09/05/2015', '11/05/2015', '12/05/2015',\n",
       "       '13/05/2015', '14/05/2015', '15/05/2015', '16/05/2015',\n",
       "       '18/05/2015', '19/05/2015', '20/05/2015', '21/05/2015',\n",
       "       '22/05/2015', '23/05/2015', '25/05/2015', '26/05/2015',\n",
       "       '27/05/2015', '28/05/2015', '29/05/2015', '30/05/2015',\n",
       "       '01/06/2015', '02/06/2015', '03/06/2015', '04/06/2015',\n",
       "       '05/06/2015', '06/06/2015', '08/06/2015', '09/06/2015',\n",
       "       '10/06/2015', '11/06/2015', '12/06/2015', '13/06/2015',\n",
       "       '15/06/2015', '16/06/2015', '17/06/2015', '18/06/2015',\n",
       "       '19/06/2015', '20/06/2015', '22/06/2015', '23/06/2015',\n",
       "       '24/06/2015', '25/06/2015', '26/06/2015', '27/06/2015',\n",
       "       '29/06/2015', '30/06/2015', '01/07/2015', '02/07/2015',\n",
       "       '03/07/2015', '04/07/2015', '06/07/2015', '07/07/2015',\n",
       "       '08/07/2015', '09/07/2015', '10/07/2015', '11/07/2015',\n",
       "       '13/07/2015', '14/07/2015', '15/07/2015', '16/07/2015',\n",
       "       '17/07/2015', '18/07/2015', '20/07/2015', '21/07/2015',\n",
       "       '22/07/2015', '23/07/2015', '24/07/2015', '25/07/2015',\n",
       "       '27/07/2015', '28/07/2015', '29/07/2015', '30/07/2015',\n",
       "       '31/07/2015', '01/08/2015', '03/08/2015', '04/08/2015',\n",
       "       '05/08/2015', '06/08/2015', '07/08/2015', '08/08/2015',\n",
       "       '10/08/2015', '11/08/2015', '12/08/2015', '13/08/2015',\n",
       "       '14/08/2015', '15/08/2015', '17/08/2015', '18/08/2015',\n",
       "       '19/08/2015', '20/08/2015', '21/08/2015', '22/08/2015',\n",
       "       '24/08/2015', '25/08/2015', '26/08/2015', '27/08/2015',\n",
       "       '28/08/2015', '29/08/2015', '31/08/2015', '01/09/2015',\n",
       "       '02/09/2015', '03/09/2015', '04/09/2015', '05/09/2015',\n",
       "       '07/09/2015', '08/09/2015', '09/09/2015', '10/09/2015',\n",
       "       '11/09/2015', '12/09/2015', '14/09/2015', '15/09/2015',\n",
       "       '17/09/2015', '18/09/2015', '19/09/2015', '21/09/2015',\n",
       "       '22/09/2015', '23/09/2015', '24/09/2015', '25/09/2015',\n",
       "       '26/09/2015', '28/09/2015', '29/09/2015', '30/09/2015',\n",
       "       '01/10/2015', '02/10/2015', '03/10/2015', '05/10/2015',\n",
       "       '06/10/2015', '07/10/2015', '08/10/2015', '09/10/2015',\n",
       "       '10/10/2015', '12/10/2015', '13/10/2015', '14/10/2015',\n",
       "       '15/10/2015', '16/10/2015', '17/10/2015', '19/10/2015',\n",
       "       '20/10/2015', '21/10/2015', '22/10/2015', '23/10/2015',\n",
       "       '24/10/2015', '26/10/2015', '27/10/2015', '28/10/2015',\n",
       "       '29/10/2015', '30/10/2015', '31/10/2015', '02/11/2015',\n",
       "       '03/11/2015', '04/11/2015', '05/11/2015', '06/11/2015',\n",
       "       '07/11/2015', '09/11/2015', '10/11/2015', '11/11/2015',\n",
       "       '12/11/2015', '13/11/2015', '14/11/2015', '16/11/2015',\n",
       "       '17/11/2015', '18/11/2015', '19/11/2015', '20/11/2015',\n",
       "       '21/11/2015', '23/11/2015', '24/11/2015', '25/11/2015',\n",
       "       '26/11/2015', '27/11/2015', '28/11/2015', '30/11/2015',\n",
       "       '01/12/2015', '02/12/2015', '03/12/2015', '04/12/2015',\n",
       "       '05/12/2015', '07/12/2015', '08/12/2015', '09/12/2015',\n",
       "       '10/12/2015', '11/12/2015', '12/12/2015', '14/12/2015',\n",
       "       '15/12/2015', '16/12/2015', '17/12/2015', '18/12/2015',\n",
       "       '19/12/2015', '21/12/2015', '22/12/2015', '23/12/2015',\n",
       "       '24/12/2015', '26/12/2015', '28/12/2015', '29/12/2015',\n",
       "       '30/12/2015', '31/12/2015', '02/01/2016', '04/01/2016',\n",
       "       '05/01/2016', '06/01/2016', '07/01/2016', '08/01/2016',\n",
       "       '09/01/2016', '11/01/2016', '12/01/2016', '13/01/2016',\n",
       "       '14/01/2016', '15/01/2016', '16/01/2016', '18/01/2016',\n",
       "       '19/01/2016', '20/01/2016', '21/01/2016', '22/01/2016',\n",
       "       '23/01/2016', '25/01/2016', '26/01/2016', '27/01/2016',\n",
       "       '28/01/2016', '29/01/2016', '30/01/2016', '01/02/2016',\n",
       "       '02/02/2016', '03/02/2016', '04/02/2016', '05/02/2016',\n",
       "       '06/02/2016', '08/02/2016', '09/02/2016', '10/02/2016',\n",
       "       '11/02/2016', '12/02/2016', '13/02/2016', '15/02/2016',\n",
       "       '16/02/2016', '17/02/2016', '18/02/2016', '19/02/2016',\n",
       "       '20/02/2016', '22/02/2016', '23/02/2016', '24/02/2016',\n",
       "       '25/02/2016', '26/02/2016', '27/02/2016', '29/02/2016',\n",
       "       '01/03/2016', '02/03/2016', '03/03/2016', '04/03/2016',\n",
       "       '05/03/2016', '07/03/2016', '08/03/2016', '09/03/2016',\n",
       "       '10/03/2016', '11/03/2016', '12/03/2016', '14/03/2016',\n",
       "       '15/03/2016', '16/03/2016', '17/03/2016', '18/03/2016',\n",
       "       '19/03/2016', '21/03/2016', '22/03/2016', '23/03/2016',\n",
       "       '24/03/2016', '25/03/2016', '26/03/2016', '28/03/2016',\n",
       "       '29/03/2016', '30/03/2016', '31/03/2016', '01/04/2016',\n",
       "       '02/04/2016', '04/04/2016', '05/04/2016', '06/04/2016',\n",
       "       '07/04/2016', '08/04/2016', '09/04/2016', '11/04/2016',\n",
       "       '12/04/2016', '13/04/2016', '14/04/2016', '15/04/2016',\n",
       "       '16/04/2016', '18/04/2016', '19/04/2016', '20/04/2016',\n",
       "       '21/04/2016', '22/04/2016', '23/04/2016', '25/04/2016',\n",
       "       '26/04/2016', '27/04/2016', '28/04/2016', '29/04/2016',\n",
       "       '30/04/2016', '02/05/2016', '03/05/2016', '04/05/2016',\n",
       "       '05/05/2016', '06/05/2016', '07/05/2016', '09/05/2016',\n",
       "       '10/05/2016', '11/05/2016', '12/05/2016', '13/05/2016',\n",
       "       '14/05/2016', '16/05/2016', '17/05/2016', '18/05/2016',\n",
       "       '19/05/2016', '20/05/2016', '21/05/2016', '23/05/2016',\n",
       "       '24/05/2016', '25/05/2016', '26/05/2016', '27/05/2016',\n",
       "       '28/05/2016', '30/05/2016', '31/05/2016', '01/06/2016',\n",
       "       '02/06/2016', '03/06/2016', '04/06/2016', '06/06/2016',\n",
       "       '07/06/2016', '08/06/2016', '09/06/2016', '10/06/2016',\n",
       "       '11/06/2016', '13/06/2016', '14/06/2016', '15/06/2016',\n",
       "       '16/06/2016', '17/06/2016', '18/06/2016', '20/06/2016',\n",
       "       '21/06/2016', '22/06/2016', '23/06/2016', '24/06/2016',\n",
       "       '25/06/2016', '27/06/2016', '28/06/2016', '29/06/2016',\n",
       "       '30/06/2016', '01/07/2016', '02/07/2016', '04/07/2016',\n",
       "       '05/07/2016', '06/07/2016', '07/07/2016', '08/07/2016',\n",
       "       '09/07/2016', '11/07/2016', '12/07/2016', '13/07/2016',\n",
       "       '14/07/2016', '15/07/2016', '16/07/2016', '18/07/2016',\n",
       "       '19/07/2016', '20/07/2016', '21/07/2016', '22/07/2016',\n",
       "       '23/07/2016', '25/07/2016', '26/07/2016', '27/07/2016',\n",
       "       '28/07/2016', '29/07/2016', '30/07/2016', '01/08/2016',\n",
       "       '02/08/2016', '03/08/2016', '04/08/2016', '05/08/2016',\n",
       "       '06/08/2016', '08/08/2016', '09/08/2016', '10/08/2016',\n",
       "       '11/08/2016', '12/08/2016', '13/08/2016', '15/08/2016',\n",
       "       '16/08/2016', '17/08/2016', '18/08/2016', '19/08/2016',\n",
       "       '20/08/2016', '22/08/2016', '23/08/2016', '24/08/2016',\n",
       "       '25/08/2016', '26/08/2016', '27/08/2016', '29/08/2016',\n",
       "       '30/08/2016', '31/08/2016', '01/09/2016', '02/09/2016',\n",
       "       '03/09/2016', '05/09/2016', '06/09/2016', '07/09/2016',\n",
       "       '08/09/2016', '09/09/2016', '10/09/2016', '12/09/2016',\n",
       "       '13/09/2016', '14/09/2016', '15/09/2016', '16/09/2016',\n",
       "       '17/09/2016', '19/09/2016', '20/09/2016', '21/09/2016',\n",
       "       '22/09/2016', '23/09/2016', '24/09/2016', '26/09/2016',\n",
       "       '27/09/2016', '28/09/2016', '29/09/2016', '30/09/2016',\n",
       "       '01/10/2016', '03/10/2016', '04/10/2016', '05/10/2016',\n",
       "       '06/10/2016', '07/10/2016', '08/10/2016', '10/10/2016',\n",
       "       '11/10/2016', '12/10/2016', '13/10/2016', '14/10/2016',\n",
       "       '15/10/2016', '17/10/2016', '18/10/2016', '19/10/2016',\n",
       "       '20/10/2016', '21/10/2016', '22/10/2016', '24/10/2016',\n",
       "       '25/10/2016', '26/10/2016', '27/10/2016', '28/10/2016',\n",
       "       '29/10/2016', '31/10/2016', '01/11/2016', '02/11/2016',\n",
       "       '03/11/2016', '04/11/2016', '05/11/2016', '07/11/2016',\n",
       "       '08/11/2016', '09/11/2016', '10/11/2016', '11/11/2016',\n",
       "       '12/11/2016', '14/11/2016', '15/11/2016', '16/11/2016',\n",
       "       '17/11/2016', '18/11/2016', '19/11/2016', '21/11/2016',\n",
       "       '22/11/2016', '23/11/2016', '24/11/2016', '25/11/2016',\n",
       "       '26/11/2016', '28/11/2016', '29/11/2016', '30/11/2016',\n",
       "       '01/12/2016', '02/12/2016', '03/12/2016', '05/12/2016',\n",
       "       '06/12/2016', '07/12/2016', '08/12/2016', '09/12/2016',\n",
       "       '10/12/2016', '12/12/2016', '13/12/2016', '14/12/2016',\n",
       "       '15/12/2016', '16/12/2016', '17/12/2016', '19/12/2016',\n",
       "       '20/12/2016', '21/12/2016', '22/12/2016', '23/12/2016',\n",
       "       '24/12/2016', '26/12/2016', '27/12/2016', '28/12/2016',\n",
       "       '29/12/2016', '30/12/2016', '31/12/2016', '02/01/2017',\n",
       "       '03/01/2017', '04/01/2017', '05/01/2017', '06/01/2017',\n",
       "       '07/01/2017', '09/01/2017', '10/01/2017', '11/01/2017',\n",
       "       '12/01/2017', '13/01/2017', '14/01/2017', '16/01/2017',\n",
       "       '17/01/2017', '18/01/2017', '19/01/2017', '20/01/2017',\n",
       "       '21/01/2017', '23/01/2017', '24/01/2017', '25/01/2017',\n",
       "       '26/01/2017', '27/01/2017', '28/01/2017', '30/01/2017',\n",
       "       '31/01/2017', '01/02/2017', '02/02/2017', '03/02/2017',\n",
       "       '04/02/2017', '06/02/2017', '07/02/2017', '08/02/2017',\n",
       "       '09/02/2017', '10/02/2017', '11/02/2017', '13/02/2017',\n",
       "       '14/02/2017', '15/02/2017', '16/02/2017', '17/02/2017',\n",
       "       '18/02/2017', '20/02/2017', '21/02/2017', '22/02/2017',\n",
       "       '23/02/2017', '24/02/2017', '25/02/2017', '27/02/2017',\n",
       "       '28/02/2017', '01/03/2017', '02/03/2017', '03/03/2017',\n",
       "       '04/03/2017', '06/03/2017', '07/03/2017', '08/03/2017',\n",
       "       '09/03/2017', '10/03/2017', '11/03/2017', '13/03/2017',\n",
       "       '14/03/2017', '15/03/2017', '16/03/2017', '17/03/2017',\n",
       "       '18/03/2017', '20/03/2017', '21/03/2017', '22/03/2017',\n",
       "       '23/03/2017', '24/03/2017', '25/03/2017', '27/03/2017',\n",
       "       '28/03/2017', '29/03/2017', '30/03/2017', '31/03/2017',\n",
       "       '01/04/2017', '03/04/2017', '04/04/2017', '05/04/2017',\n",
       "       '06/04/2017', '07/04/2017', '08/04/2017', '10/04/2017',\n",
       "       '11/04/2017', '12/04/2017', '13/04/2017', '14/04/2017',\n",
       "       '15/04/2017', '17/04/2017', '18/04/2017', '19/04/2017',\n",
       "       '20/04/2017', '21/04/2017', '22/04/2017', '24/04/2017',\n",
       "       '25/04/2017', '26/04/2017', '27/04/2017', '28/04/2017',\n",
       "       '29/04/2017', '30/04/2017', '01/05/2017', '02/05/2017',\n",
       "       '03/05/2017', '04/05/2017', '05/05/2017', '06/05/2017',\n",
       "       '08/05/2017', '09/05/2017', '10/05/2017', '11/05/2017',\n",
       "       '12/05/2017', '13/05/2017', '15/05/2017', '16/05/2017',\n",
       "       '17/05/2017', '18/05/2017', '19/05/2017', '20/05/2017',\n",
       "       '22/05/2017', '23/05/2017', '24/05/2017', '25/05/2017',\n",
       "       '26/05/2017', '27/05/2017', '29/05/2017', '30/05/2017',\n",
       "       '31/05/2017', '04/09/2016', '05/07/2015', '14/02/2016',\n",
       "       '22/01/2017'], dtype=object)"
      ]
     },
     "execution_count": 10,
     "metadata": {},
     "output_type": "execute_result"
    }
   ],
   "source": [
    "sellin_total['Date'].unique()"
   ]
  },
  {
   "cell_type": "markdown",
   "id": "536c5ba7",
   "metadata": {},
   "source": [
    "SKU es el acrónimo de \"Stock Keeping Unit\", que en español significa \"Unidad de Mantenimiento de Stock\" o \"Unidad de Control de Existencias\". Un SKU es un código único utilizado para identificar y rastrear un producto específico en el inventario de una empresa o comercio."
   ]
  },
  {
   "cell_type": "markdown",
   "id": "008019d5",
   "metadata": {},
   "source": [
    "Convertimos la columna 'Date' de object a DataTime para facilitar la manipulacion y unificamos el formato de la fecha con las demas tablas ('%Y/%m/%d')"
   ]
  },
  {
   "cell_type": "code",
   "execution_count": 11,
   "id": "2d32e360",
   "metadata": {},
   "outputs": [],
   "source": [
    "sellin_total['Date'] = pd.to_datetime(sellin_total['Date'], format='%d/%m/%Y')\n",
    "sellin_total['Date'] = sellin_total['Date'].dt.strftime('%Y/%m/%d')"
   ]
  },
  {
   "cell_type": "code",
   "execution_count": 12,
   "id": "7a8c825f",
   "metadata": {},
   "outputs": [
    {
     "name": "stdout",
     "output_type": "stream",
     "text": [
      "<class 'pandas.core.frame.DataFrame'>\n",
      "RangeIndex: 4188783 entries, 0 to 4188782\n",
      "Data columns (total 6 columns):\n",
      " #   Column    Dtype  \n",
      "---  ------    -----  \n",
      " 0   Sku       int64  \n",
      " 1   Date      object \n",
      " 2   Store_Id  int64  \n",
      " 3   Pieces    float64\n",
      " 4   Price     float64\n",
      " 5   Margin    float64\n",
      "dtypes: float64(3), int64(2), object(1)\n",
      "memory usage: 191.7+ MB\n"
     ]
    }
   ],
   "source": [
    "sellin_total.info()"
   ]
  },
  {
   "cell_type": "markdown",
   "id": "9552189a",
   "metadata": {},
   "source": [
    "## Proveedor 1"
   ]
  },
  {
   "cell_type": "code",
   "execution_count": null,
   "id": "c6a2b3d3",
   "metadata": {
    "scrolled": false
   },
   "outputs": [],
   "source": [
    "#proveedor1 = pd.read_csv('/Users/marioalvarogutierrez/Downloads/sellout-proveedor1.csv')\n",
    "\n",
    "#proveedor1"
   ]
  },
  {
   "cell_type": "code",
   "execution_count": 13,
   "id": "2c5765e5",
   "metadata": {},
   "outputs": [
    {
     "name": "stdout",
     "output_type": "stream",
     "text": [
      "<class 'pandas.core.frame.DataFrame'>\n",
      "RangeIndex: 1206365 entries, 0 to 1206364\n",
      "Data columns (total 5 columns):\n",
      " #   Column    Non-Null Count    Dtype  \n",
      "---  ------    --------------    -----  \n",
      " 0   Sku       1206365 non-null  int64  \n",
      " 1   Date      1206365 non-null  object \n",
      " 2   Store_Id  1206365 non-null  int64  \n",
      " 3   Units     1206365 non-null  float64\n",
      " 4   Price     1206365 non-null  float64\n",
      "dtypes: float64(2), int64(2), object(1)\n",
      "memory usage: 46.0+ MB\n"
     ]
    }
   ],
   "source": [
    "proveedor1.info()"
   ]
  },
  {
   "cell_type": "code",
   "execution_count": 14,
   "id": "1866dee6",
   "metadata": {
    "scrolled": true
   },
   "outputs": [
    {
     "data": {
      "text/plain": [
       "array(['2017-01-01 SO Diaria Piezas', '2017-01-02 SO Diaria Piezas',\n",
       "       '2017-01-03 SO Diaria Piezas', '2017-01-04 SO Diaria Piezas',\n",
       "       '2017-01-05 SO Diaria Piezas', '2017-01-06 SO Diaria Piezas',\n",
       "       '2017-01-07 SO Diaria Piezas', '2017-01-08 SO Diaria Piezas',\n",
       "       '2017-01-09 SO Diaria Piezas', '2017-01-10 SO Diaria Piezas',\n",
       "       '2017-01-11 SO Diaria Piezas', '2017-01-12 SO Diaria Piezas',\n",
       "       '2017-01-13 SO Diaria Piezas', '2017-01-14 SO Diaria Piezas',\n",
       "       '2017-01-15 SO Diaria Piezas', '2017-01-16 SO Diaria Piezas',\n",
       "       '2017-01-17 SO Diaria Piezas', '2017-01-18 SO Diaria Piezas',\n",
       "       '2017-01-19 SO Diaria Piezas', '2017-01-20 SO Diaria Piezas',\n",
       "       '2017-01-21 SO Diaria Piezas', '2017-01-22 SO Diaria Piezas',\n",
       "       '2017-01-23 SO Diaria Piezas', '2017-01-24 SO Diaria Piezas',\n",
       "       '2017-01-25 SO Diaria Piezas', '2017-01-26 SO Diaria Piezas',\n",
       "       '2017-01-27 SO Diaria Piezas', '2017-01-28 SO Diaria Piezas',\n",
       "       '2017-01-29 SO Diaria Piezas', '2017-01-30 SO Diaria Piezas',\n",
       "       '2017-01-31 SO Diaria Piezas', '2017-02-01 SO Diaria Piezas',\n",
       "       '2017-02-02 SO Diaria Piezas', '2017-02-03 SO Diaria Piezas',\n",
       "       '2017-02-04 SO Diaria Piezas', '2017-02-05 SO Diaria Piezas',\n",
       "       '2017-02-06 SO Diaria Piezas', '2017-02-07 SO Diaria Piezas',\n",
       "       '2017-02-08 SO Diaria Piezas', '2017-02-09 SO Diaria Piezas',\n",
       "       '2017-02-10 SO Diaria Piezas', '2017-02-11 SO Diaria Piezas',\n",
       "       '2017-02-12 SO Diaria Piezas', '2017-02-13 SO Diaria Piezas',\n",
       "       '2017-02-14 SO Diaria Piezas', '2017-02-15 SO Diaria Piezas',\n",
       "       '2017-02-16 SO Diaria Piezas', '2017-02-17 SO Diaria Piezas',\n",
       "       '2017-02-18 SO Diaria Piezas', '2017-02-19 SO Diaria Piezas',\n",
       "       '2017-02-20 SO Diaria Piezas', '2017-02-21 SO Diaria Piezas',\n",
       "       '2017-02-22 SO Diaria Piezas', '2017-02-23 SO Diaria Piezas',\n",
       "       '2017-02-24 SO Diaria Piezas', '2017-02-25 SO Diaria Piezas',\n",
       "       '2017-02-26 SO Diaria Piezas', '2017-02-27 SO Diaria Piezas',\n",
       "       '2017-02-28 SO Diaria Piezas', '2017-03-01 SO Diaria Piezas',\n",
       "       '2017-03-02 SO Diaria Piezas', '2017-03-03 SO Diaria Piezas',\n",
       "       '2017-03-04 SO Diaria Piezas', '2017-03-05 SO Diaria Piezas',\n",
       "       '2017-03-06 SO Diaria Piezas', '2017-03-07 SO Diaria Piezas',\n",
       "       '2017-03-08 SO Diaria Piezas', '2017-03-09 SO Diaria Piezas',\n",
       "       '2017-03-10 SO Diaria Piezas', '2017-03-11 SO Diaria Piezas',\n",
       "       '2017-03-12 SO Diaria Piezas', '2017-03-13 SO Diaria Piezas',\n",
       "       '2017-03-14 SO Diaria Piezas', '2017-03-15 SO Diaria Piezas',\n",
       "       '2017-03-16 SO Diaria Piezas', '2017-03-17 SO Diaria Piezas',\n",
       "       '2017-03-18 SO Diaria Piezas', '2017-03-19 SO Diaria Piezas',\n",
       "       '2017-03-20 SO Diaria Piezas', '2017-03-21 SO Diaria Piezas',\n",
       "       '2017-03-22 SO Diaria Piezas', '2017-03-23 SO Diaria Piezas',\n",
       "       '2017-03-24 SO Diaria Piezas', '2017-03-25 SO Diaria Piezas',\n",
       "       '2017-03-26 SO Diaria Piezas', '2017-03-27 SO Diaria Piezas',\n",
       "       '2017-03-28 SO Diaria Piezas', '2017-03-29 SO Diaria Piezas',\n",
       "       '2017-03-30 SO Diaria Piezas', '2017-03-31 SO Diaria Piezas',\n",
       "       '2017-04-01 SO Diaria Piezas', '2017-04-02 SO Diaria Piezas',\n",
       "       '2017-04-03 SO Diaria Piezas', '2017-04-04 SO Diaria Piezas',\n",
       "       '2017-04-05 SO Diaria Piezas', '2017-04-06 SO Diaria Piezas',\n",
       "       '2017-04-07 SO Diaria Piezas', '2017-04-08 SO Diaria Piezas',\n",
       "       '2017-04-09 SO Diaria Piezas', '2017-04-10 SO Diaria Piezas',\n",
       "       '2017-04-11 SO Diaria Piezas', '2017-04-12 SO Diaria Piezas',\n",
       "       '2017-04-13 SO Diaria Piezas', '2017-04-14 SO Diaria Piezas',\n",
       "       '2017-04-15 SO Diaria Piezas', '2017-04-16 SO Diaria Piezas',\n",
       "       '2017-04-17 SO Diaria Piezas', '2017-04-18 SO Diaria Piezas',\n",
       "       '2017-04-19 SO Diaria Piezas', '2017-04-20 SO Diaria Piezas',\n",
       "       '2017-04-21 SO Diaria Piezas', '2017-04-22 SO Diaria Piezas',\n",
       "       '2017-04-23 SO Diaria Piezas', '2017-04-24 SO Diaria Piezas',\n",
       "       '2017-04-25 SO Diaria Piezas', '2017-04-26 SO Diaria Piezas',\n",
       "       '2017-04-27 SO Diaria Piezas', '2017-04-28 SO Diaria Piezas',\n",
       "       '2017-04-29 SO Diaria Piezas', '2017-04-30 SO Diaria Piezas',\n",
       "       '2017-05-01 SO Diaria Piezas', '2017-05-02 SO Diaria Piezas',\n",
       "       '2017-05-03 SO Diaria Piezas', '2017-05-04 SO Diaria Piezas',\n",
       "       '2017-05-05 SO Diaria Piezas', '2017-05-06 SO Diaria Piezas',\n",
       "       '2017-05-07 SO Diaria Piezas', '2017-05-08 SO Diaria Piezas',\n",
       "       '2017-05-09 SO Diaria Piezas', '2017-05-10 SO Diaria Piezas',\n",
       "       '2017-05-11 SO Diaria Piezas', '2017-05-12 SO Diaria Piezas',\n",
       "       '2017-05-13 SO Diaria Piezas', '2017-05-14 SO Diaria Piezas',\n",
       "       '2017-05-15 SO Diaria Piezas', '2017-05-16 SO Diaria Piezas',\n",
       "       '2017-05-17 SO Diaria Piezas', '2017-05-18 SO Diaria Piezas',\n",
       "       '2017-05-19 SO Diaria Piezas', '2017-05-20 SO Diaria Piezas',\n",
       "       '2017-05-21 SO Diaria Piezas', '2017-05-22 SO Diaria Piezas',\n",
       "       '2017-05-23 SO Diaria Piezas', '2017-05-24 SO Diaria Piezas',\n",
       "       '2017-05-25 SO Diaria Piezas', '2017-05-26 SO Diaria Piezas',\n",
       "       '2017-05-27 SO Diaria Piezas', '2017-05-28 SO Diaria Piezas',\n",
       "       '2017-05-29 SO Diaria Piezas', '2017-05-30 SO Diaria Piezas',\n",
       "       '2017-05-31 SO Diaria Piezas', '2017-06-01 SO Diaria Piezas',\n",
       "       '2017-06-02 SO Diaria Piezas', '2017-06-03 SO Diaria Piezas',\n",
       "       '2017-06-04 SO Diaria Piezas'], dtype=object)"
      ]
     },
     "execution_count": 14,
     "metadata": {},
     "output_type": "execute_result"
    }
   ],
   "source": [
    "proveedor1['Date'].unique()"
   ]
  },
  {
   "cell_type": "markdown",
   "id": "c938ae2c",
   "metadata": {},
   "source": [
    "Para unificar las columnas Date de los proveedores y observando que en todos los rgistros aparece 'SO Diaria Piezas', que no parece aportar informacion y dificulta el analisis, lo eliminaremos"
   ]
  },
  {
   "cell_type": "code",
   "execution_count": 15,
   "id": "0fd8e3c0",
   "metadata": {
    "scrolled": true
   },
   "outputs": [
    {
     "data": {
      "text/html": [
       "<div>\n",
       "<style scoped>\n",
       "    .dataframe tbody tr th:only-of-type {\n",
       "        vertical-align: middle;\n",
       "    }\n",
       "\n",
       "    .dataframe tbody tr th {\n",
       "        vertical-align: top;\n",
       "    }\n",
       "\n",
       "    .dataframe thead th {\n",
       "        text-align: right;\n",
       "    }\n",
       "</style>\n",
       "<table border=\"1\" class=\"dataframe\">\n",
       "  <thead>\n",
       "    <tr style=\"text-align: right;\">\n",
       "      <th></th>\n",
       "      <th>Sku</th>\n",
       "      <th>Date</th>\n",
       "      <th>Store_Id</th>\n",
       "      <th>Units</th>\n",
       "      <th>Price</th>\n",
       "    </tr>\n",
       "  </thead>\n",
       "  <tbody>\n",
       "    <tr>\n",
       "      <th>0</th>\n",
       "      <td>4220015</td>\n",
       "      <td>2017-01-01</td>\n",
       "      <td>18</td>\n",
       "      <td>6.00</td>\n",
       "      <td>15.6</td>\n",
       "    </tr>\n",
       "    <tr>\n",
       "      <th>1</th>\n",
       "      <td>4220015</td>\n",
       "      <td>2017-01-01</td>\n",
       "      <td>24</td>\n",
       "      <td>0.00</td>\n",
       "      <td>0.0</td>\n",
       "    </tr>\n",
       "    <tr>\n",
       "      <th>2</th>\n",
       "      <td>4220015</td>\n",
       "      <td>2017-01-01</td>\n",
       "      <td>39</td>\n",
       "      <td>0.00</td>\n",
       "      <td>0.0</td>\n",
       "    </tr>\n",
       "    <tr>\n",
       "      <th>3</th>\n",
       "      <td>4220015</td>\n",
       "      <td>2017-01-01</td>\n",
       "      <td>44</td>\n",
       "      <td>0.00</td>\n",
       "      <td>0.0</td>\n",
       "    </tr>\n",
       "    <tr>\n",
       "      <th>4</th>\n",
       "      <td>4220015</td>\n",
       "      <td>2017-01-01</td>\n",
       "      <td>46</td>\n",
       "      <td>0.00</td>\n",
       "      <td>0.0</td>\n",
       "    </tr>\n",
       "    <tr>\n",
       "      <th>...</th>\n",
       "      <td>...</td>\n",
       "      <td>...</td>\n",
       "      <td>...</td>\n",
       "      <td>...</td>\n",
       "      <td>...</td>\n",
       "    </tr>\n",
       "    <tr>\n",
       "      <th>1206360</th>\n",
       "      <td>4829827</td>\n",
       "      <td>2017-06-04</td>\n",
       "      <td>705</td>\n",
       "      <td>0.00</td>\n",
       "      <td>0.0</td>\n",
       "    </tr>\n",
       "    <tr>\n",
       "      <th>1206361</th>\n",
       "      <td>4829827</td>\n",
       "      <td>2017-06-04</td>\n",
       "      <td>706</td>\n",
       "      <td>0.00</td>\n",
       "      <td>0.0</td>\n",
       "    </tr>\n",
       "    <tr>\n",
       "      <th>1206362</th>\n",
       "      <td>4829827</td>\n",
       "      <td>2017-06-04</td>\n",
       "      <td>707</td>\n",
       "      <td>0.75</td>\n",
       "      <td>27.2</td>\n",
       "    </tr>\n",
       "    <tr>\n",
       "      <th>1206363</th>\n",
       "      <td>4829827</td>\n",
       "      <td>2017-06-04</td>\n",
       "      <td>708</td>\n",
       "      <td>0.00</td>\n",
       "      <td>0.0</td>\n",
       "    </tr>\n",
       "    <tr>\n",
       "      <th>1206364</th>\n",
       "      <td>4829827</td>\n",
       "      <td>2017-06-04</td>\n",
       "      <td>709</td>\n",
       "      <td>0.00</td>\n",
       "      <td>0.0</td>\n",
       "    </tr>\n",
       "  </tbody>\n",
       "</table>\n",
       "<p>1206365 rows × 5 columns</p>\n",
       "</div>"
      ],
      "text/plain": [
       "             Sku        Date  Store_Id  Units  Price\n",
       "0        4220015  2017-01-01        18   6.00   15.6\n",
       "1        4220015  2017-01-01        24   0.00    0.0\n",
       "2        4220015  2017-01-01        39   0.00    0.0\n",
       "3        4220015  2017-01-01        44   0.00    0.0\n",
       "4        4220015  2017-01-01        46   0.00    0.0\n",
       "...          ...         ...       ...    ...    ...\n",
       "1206360  4829827  2017-06-04       705   0.00    0.0\n",
       "1206361  4829827  2017-06-04       706   0.00    0.0\n",
       "1206362  4829827  2017-06-04       707   0.75   27.2\n",
       "1206363  4829827  2017-06-04       708   0.00    0.0\n",
       "1206364  4829827  2017-06-04       709   0.00    0.0\n",
       "\n",
       "[1206365 rows x 5 columns]"
      ]
     },
     "execution_count": 15,
     "metadata": {},
     "output_type": "execute_result"
    }
   ],
   "source": [
    "proveedor1['Date'] = proveedor1['Date'].str.replace(' SO Diaria Piezas', '')\n",
    "\n",
    "proveedor1"
   ]
  },
  {
   "cell_type": "markdown",
   "id": "68b76e34",
   "metadata": {},
   "source": [
    "Ahora voy a combiarlo a DatetTime y cambiar el formato para unificarlo con las demas tablas "
   ]
  },
  {
   "cell_type": "code",
   "execution_count": 16,
   "id": "6c472f1e",
   "metadata": {
    "scrolled": true
   },
   "outputs": [
    {
     "name": "stdout",
     "output_type": "stream",
     "text": [
      "<class 'pandas.core.frame.DataFrame'>\n",
      "RangeIndex: 1206365 entries, 0 to 1206364\n",
      "Data columns (total 5 columns):\n",
      " #   Column    Non-Null Count    Dtype         \n",
      "---  ------    --------------    -----         \n",
      " 0   Sku       1206365 non-null  int64         \n",
      " 1   Date      1206365 non-null  datetime64[ns]\n",
      " 2   Store_Id  1206365 non-null  int64         \n",
      " 3   Units     1206365 non-null  float64       \n",
      " 4   Price     1206365 non-null  float64       \n",
      "dtypes: datetime64[ns](1), float64(2), int64(2)\n",
      "memory usage: 46.0 MB\n"
     ]
    }
   ],
   "source": [
    "proveedor1['Date'] = pd.to_datetime(proveedor1['Date'])\n",
    "\n",
    "proveedor1.info()"
   ]
  },
  {
   "cell_type": "code",
   "execution_count": 17,
   "id": "552428ed",
   "metadata": {
    "scrolled": true
   },
   "outputs": [
    {
     "ename": "NameError",
     "evalue": "name 'sellout_proveedor1' is not defined",
     "output_type": "error",
     "traceback": [
      "\u001b[1;31m---------------------------------------------------------------------------\u001b[0m",
      "\u001b[1;31mNameError\u001b[0m                                 Traceback (most recent call last)",
      "Cell \u001b[1;32mIn[17], line 1\u001b[0m\n\u001b[1;32m----> 1\u001b[0m proveedor1[\u001b[38;5;124m'\u001b[39m\u001b[38;5;124mDate\u001b[39m\u001b[38;5;124m'\u001b[39m] \u001b[38;5;241m=\u001b[39m \u001b[43msellout_proveedor1\u001b[49m[\u001b[38;5;124m'\u001b[39m\u001b[38;5;124mDate\u001b[39m\u001b[38;5;124m'\u001b[39m]\u001b[38;5;241m.\u001b[39mdt\u001b[38;5;241m.\u001b[39mstrftime(\u001b[38;5;124m'\u001b[39m\u001b[38;5;124m%\u001b[39m\u001b[38;5;124mY/\u001b[39m\u001b[38;5;124m%\u001b[39m\u001b[38;5;124mm/\u001b[39m\u001b[38;5;132;01m%d\u001b[39;00m\u001b[38;5;124m'\u001b[39m)\n",
      "\u001b[1;31mNameError\u001b[0m: name 'sellout_proveedor1' is not defined"
     ]
    }
   ],
   "source": [
    "proveedor1['Date'] = sellout_proveedor1['Date'].dt.strftime('%Y/%m/%d')"
   ]
  },
  {
   "cell_type": "code",
   "execution_count": null,
   "id": "a7a3cb73",
   "metadata": {
    "scrolled": true
   },
   "outputs": [],
   "source": [
    "proveedor1"
   ]
  },
  {
   "cell_type": "markdown",
   "id": "5c20a6c9",
   "metadata": {},
   "source": [
    "Vamos a comprobar cuantos registros tienen 'Units' = 0 o 'Price' = 0"
   ]
  },
  {
   "cell_type": "code",
   "execution_count": null,
   "id": "78f81204",
   "metadata": {},
   "outputs": [],
   "source": [
    "print(f\"UNITS {proveedor1[proveedor1['Units'] == 0]['Units'].count()}\")\n",
    "print(f\"PRICE {proveedor1[proveedor1['Price'] == 0]['Price'].count()}\")"
   ]
  },
  {
   "cell_type": "markdown",
   "id": "5588b487",
   "metadata": {},
   "source": [
    "Al haber un conteo diferente, asumimos que si hay registros con valor 0 que aportan informacion, por lo que solo deberiamos eliminar los que ambos parametros sean igual a 0 y realizar un reindex"
   ]
  },
  {
   "cell_type": "code",
   "execution_count": null,
   "id": "3eb1f1d5",
   "metadata": {
    "scrolled": true
   },
   "outputs": [],
   "source": [
    "proveedor1 = proveedor1.drop(proveedor1[(proveedor1['Units'] == 0) & \n",
    "                                        (proveedor1['Price'] == 0)].index)\n",
    "\n",
    "proveedor1"
   ]
  },
  {
   "cell_type": "markdown",
   "id": "2fea31a3",
   "metadata": {},
   "source": [
    "Vamos a cambiar el nombre de la columna Units por Pieces para unificarlo con SellIn y Proveedor2"
   ]
  },
  {
   "cell_type": "code",
   "execution_count": null,
   "id": "d1281be8",
   "metadata": {
    "scrolled": false
   },
   "outputs": [],
   "source": [
    "proveedor1 = proveedor1.rename(columns={'Units' : 'Pieces'})\n",
    "\n",
    "proveedor1"
   ]
  },
  {
   "cell_type": "code",
   "execution_count": null,
   "id": "24fbd658",
   "metadata": {
    "scrolled": true
   },
   "outputs": [],
   "source": [
    "proveedor1.duplicated().sum()"
   ]
  },
  {
   "cell_type": "markdown",
   "id": "006de503",
   "metadata": {},
   "source": [
    "## Proveedor 2"
   ]
  },
  {
   "cell_type": "code",
   "execution_count": null,
   "id": "ead0941f",
   "metadata": {
    "scrolled": true
   },
   "outputs": [],
   "source": [
    "#proveedor2 = pd.read_csv('/Users/marioalvarogutierrez/Downloads/sellout-proveedor2.csv')\n",
    "\n",
    "#proveedor2"
   ]
  },
  {
   "cell_type": "code",
   "execution_count": null,
   "id": "46be21b3",
   "metadata": {
    "scrolled": true
   },
   "outputs": [],
   "source": [
    "proveedor2.info()"
   ]
  },
  {
   "cell_type": "markdown",
   "id": "585b2b9b",
   "metadata": {},
   "source": [
    "Convertimos la columna 'Date' en tipo datetime para facilira su posterior manipulacion y analisis"
   ]
  },
  {
   "cell_type": "code",
   "execution_count": null,
   "id": "df06a20e",
   "metadata": {},
   "outputs": [],
   "source": [
    "proveedor2['Date'] = pd.to_datetime(sellout_proveedor2['Date'])\n",
    "\n",
    "proveedor2['Date'].info()"
   ]
  },
  {
   "cell_type": "markdown",
   "id": "7ad1d234",
   "metadata": {},
   "source": [
    "Existen 3 duplicados"
   ]
  },
  {
   "cell_type": "code",
   "execution_count": null,
   "id": "b9cc1e32",
   "metadata": {},
   "outputs": [],
   "source": [
    "duplicados2 = proveedor2.duplicated().sum()\n",
    "\n",
    "print(duplicados2)"
   ]
  },
  {
   "cell_type": "code",
   "execution_count": null,
   "id": "a22f09d9",
   "metadata": {
    "scrolled": false
   },
   "outputs": [],
   "source": [
    "proveedor2['Date'].info()"
   ]
  },
  {
   "cell_type": "code",
   "execution_count": null,
   "id": "7875c224",
   "metadata": {
    "scrolled": true
   },
   "outputs": [],
   "source": [
    "proveedor2['Date'].unique()"
   ]
  },
  {
   "cell_type": "code",
   "execution_count": 18,
   "id": "12142cd8",
   "metadata": {
    "scrolled": true
   },
   "outputs": [
    {
     "data": {
      "text/plain": [
       "array([4240039, 4250046, 4260053, 4270121, 4290336, 4300343, 4330800,\n",
       "       4371364, 4381425, 4391449, 4412040, 4422187, 4432194, 4442378,\n",
       "       4473122, 4523924, 4533931, 4543948, 4554143, 4584464, 4604976,\n",
       "       4615034, 4625287, 4635546, 4645560, 4655669, 4665676, 4675706,\n",
       "       4685881, 4697052, 4709131, 4719179, 4729193], dtype=int64)"
      ]
     },
     "execution_count": 18,
     "metadata": {},
     "output_type": "execute_result"
    }
   ],
   "source": [
    "proveedor2['Sku'].unique()"
   ]
  },
  {
   "cell_type": "code",
   "execution_count": 20,
   "id": "5898d767",
   "metadata": {},
   "outputs": [
    {
     "data": {
      "text/plain": [
       "array([4220015, 4230022, 4240039, 4250046, 4260053, 4330800, 4351043,\n",
       "       4361050, 4381425, 4391449, 4412040, 4422187, 4432194, 4442378,\n",
       "       4473122, 4523924, 4533931, 4543948, 4554143, 4574433, 4584464,\n",
       "       4604976,    5027, 4615034, 4625287, 4635546, 4645560, 4655669,\n",
       "       4665676, 4675706, 4685881, 4697052, 4709131, 4719179, 4739414,\n",
       "       4749421, 4759438, 4769520, 4779537, 4789544, 4809797, 4819810,\n",
       "       4829827], dtype=int64)"
      ]
     },
     "execution_count": 20,
     "metadata": {},
     "output_type": "execute_result"
    }
   ],
   "source": [
    "proveedor1['Sku'].unique()"
   ]
  },
  {
   "cell_type": "markdown",
   "id": "929bd315",
   "metadata": {},
   "source": [
    "Vamos a quitar el $ de la columna price para que coincida con las demas tablas y sea más facil de manipular"
   ]
  },
  {
   "cell_type": "code",
   "execution_count": null,
   "id": "09bbd774",
   "metadata": {
    "scrolled": true
   },
   "outputs": [],
   "source": [
    "proveedor2['Price'] = proveedor2['Price'].str.replace('$', '').astype(float)"
   ]
  },
  {
   "cell_type": "markdown",
   "id": "25eb29ff",
   "metadata": {},
   "source": [
    "# Observaciones"
   ]
  },
  {
   "cell_type": "markdown",
   "id": "a0796c4e",
   "metadata": {},
   "source": [
    "Proveedor 1 solo ha trabajado en 2017\n",
    "\n",
    "Proveedor 2 solo ha trabajado en 2016"
   ]
  },
  {
   "cell_type": "markdown",
   "id": "0db06920",
   "metadata": {},
   "source": [
    "Unificar formato de la fecha en proveedor 1 para que coincita tanto con proveedor 2 como con SellinTotal\n",
    "\n",
    "Cambiar nombre de columna Units en proveedor 1 para que coincita tanto con proveedor 2 como con SellinTotal "
   ]
  },
  {
   "cell_type": "markdown",
   "id": "ddf4e9d9",
   "metadata": {},
   "source": [
    "Hay mas registros con 'Price' = 0 que con 'Unit' = 0, probablemente, regalos o promociones"
   ]
  },
  {
   "cell_type": "markdown",
   "id": "72ee7271",
   "metadata": {},
   "source": [
    "En Proveedor 2 en 'Price' aparece '$' antes del precio, probablemente no sea relevante"
   ]
  },
  {
   "cell_type": "markdown",
   "id": "5ac03a74",
   "metadata": {},
   "source": [
    "Proponemos cambiar NUM TDA de la tabla m_productos a Store_Id, ya que coinciden sus valores y paracen identificar lo mismo"
   ]
  },
  {
   "cell_type": "markdown",
   "id": "6786912b",
   "metadata": {},
   "source": [
    "Pasamos todas las fechas de tipo object a tipo datetime para facilitar el posterior analisis"
   ]
  },
  {
   "cell_type": "markdown",
   "id": "1d4571ae",
   "metadata": {},
   "source": [
    "PriceNegativos: Enelpreciotenemoselmismoproblema:Conprecio0o menor, en ‘proveedor1’, hay 568125 entradas, siendo 13 de ellas con precio directamente en negativo. En ‘proveedor2’, una vez hemos quitado el símbolo del dólar y lo convertimos a float, vemos que hay 3 entradas con precio negativo. Tenemos que decidir si eliminarlas o lo consideramos “ofertas”. Independientemente de lo que hagamos con las que valen 0, creo que las que están en negativo deberían ser eliminadas"
   ]
  },
  {
   "cell_type": "markdown",
   "id": "c7bd010e",
   "metadata": {},
   "source": [
    "### Preguntas exploratorias, despues limpieza, faltan más preguntas exploratorias"
   ]
  },
  {
   "cell_type": "markdown",
   "id": "22584098",
   "metadata": {},
   "source": [
    "Listado de manipulaciones con markdowns "
   ]
  },
  {
   "cell_type": "markdown",
   "id": "4bfcfdfc",
   "metadata": {},
   "source": [
    "Visualizaciones sobre el analisis exploratorio"
   ]
  },
  {
   "cell_type": "markdown",
   "id": "de62d2a1",
   "metadata": {},
   "source": [
    "Filtrar por determinadas columnas?"
   ]
  },
  {
   "cell_type": "markdown",
   "id": "34538b6a",
   "metadata": {},
   "source": [
    "Pros y contras sobre las manipulaciones realizadas"
   ]
  },
  {
   "cell_type": "markdown",
   "id": "44038e7a",
   "metadata": {},
   "source": [
    "### Estructura ?\n",
    "\n",
    "Indice:\n",
    "\n",
    "Preguntas, analisis exploratorio\n",
    "\n",
    "Manipulaciones\n",
    "\n",
    "Conclusiones\n",
    "\n",
    "Riesgos de las manipulaciones o posibles beneficios\n",
    "\n",
    "Analisis exploratorio de negocio\n",
    "\n"
   ]
  },
  {
   "cell_type": "markdown",
   "id": "825f652b",
   "metadata": {},
   "source": [
    "### Consultas\n",
    "\n",
    "- maestro_clientes\n",
    "\n",
    "Consultar valores unicos en 'Nombre de TDA'\n",
    "\n",
    "MUNICIPIO CIUDAD no coincide con los datos\n",
    "\n",
    "Observar unique en DIVISION\n",
    "\n",
    "Que es estructura?\n",
    "\n",
    "¿Que puede ser el grado?\n",
    "\n",
    "- sellin_total\n",
    "\n",
    "mes dia año\n",
    "\n",
    "buscar outliers en el margen\n",
    "\n",
    "- proveedor1\n",
    "\n",
    "\n",
    "\n",
    "- obs\n",
    "\n",
    "Ver si pieces y units son los mismo y observar los precios mejor\n",
    "\n",
    "Los sku de productos es diferente a los distribuidores\n",
    "\n"
   ]
  }
 ],
 "metadata": {
  "kernelspec": {
   "display_name": "Python 3 (ipykernel)",
   "language": "python",
   "name": "python3"
  },
  "language_info": {
   "codemirror_mode": {
    "name": "ipython",
    "version": 3
   },
   "file_extension": ".py",
   "mimetype": "text/x-python",
   "name": "python",
   "nbconvert_exporter": "python",
   "pygments_lexer": "ipython3",
   "version": "3.10.9"
  }
 },
 "nbformat": 4,
 "nbformat_minor": 5
}
