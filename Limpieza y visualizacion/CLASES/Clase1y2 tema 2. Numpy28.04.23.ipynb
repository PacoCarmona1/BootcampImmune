{
 "cells": [
  {
   "cell_type": "markdown",
   "id": "c3361ee2",
   "metadata": {},
   "source": [
    "# Tema 2 Numpy - Clase 1"
   ]
  },
  {
   "cell_type": "markdown",
   "id": "044807f0",
   "metadata": {},
   "source": [
    "## Importacion de librerias"
   ]
  },
  {
   "cell_type": "code",
   "execution_count": 9,
   "id": "085e3117",
   "metadata": {},
   "outputs": [],
   "source": [
    "import numpy as np"
   ]
  },
  {
   "cell_type": "code",
   "execution_count": 10,
   "id": "9efe5486",
   "metadata": {},
   "outputs": [
    {
     "name": "stdout",
     "output_type": "stream",
     "text": [
      "[1 2 3]\n"
     ]
    }
   ],
   "source": [
    "#creacion de arrays de una dimension con eje 0(horizontal(x))\n",
    "\n",
    "a1 = np.array([1,2,3])\n",
    "print(a1) "
   ]
  },
  {
   "cell_type": "code",
   "execution_count": 11,
   "id": "f85476b6",
   "metadata": {},
   "outputs": [
    {
     "data": {
      "text/plain": [
       "array([[1, 2, 3],\n",
       "       [4, 5, 6]])"
      ]
     },
     "execution_count": 11,
     "metadata": {},
     "output_type": "execute_result"
    }
   ],
   "source": [
    "#creacion de arrays de dos dimensiones(vertical(y) y horizontal(x))\n",
    "#np.array([[y],[x]])\n",
    "\n",
    "a2 = np.array([[1,2,3],[4,5,6]])\n",
    "a2"
   ]
  },
  {
   "cell_type": "code",
   "execution_count": 12,
   "id": "329146ed",
   "metadata": {},
   "outputs": [
    {
     "data": {
      "text/plain": [
       "array([[[1, 2, 3],\n",
       "        [4, 5, 6],\n",
       "        [7, 8, 9]]])"
      ]
     },
     "execution_count": 12,
     "metadata": {},
     "output_type": "execute_result"
    }
   ],
   "source": [
    "#creacion de arrays de tres dimensiones\n",
    "\n",
    "array3= np.array([[[1,2,3],[4,5,6],[7,8,9]]])\n",
    "array3"
   ]
  },
  {
   "cell_type": "code",
   "execution_count": 13,
   "id": "89b8303f",
   "metadata": {
    "scrolled": true
   },
   "outputs": [
    {
     "name": "stdout",
     "output_type": "stream",
     "text": [
      "[[0. 0. 0. 0.]\n",
      " [0. 0. 0. 0.]\n",
      " [0. 0. 0. 0.]]\n"
     ]
    }
   ],
   "source": [
    "#uso de otras funciones para generar arrays\n",
    "\n",
    "print(np.zeros((3,4)))\n"
   ]
  },
  {
   "cell_type": "code",
   "execution_count": 14,
   "id": "2d12b70b",
   "metadata": {},
   "outputs": [
    {
     "data": {
      "text/plain": [
       "array([0., 1., 2., 3., 4.])"
      ]
     },
     "execution_count": 14,
     "metadata": {},
     "output_type": "execute_result"
    }
   ],
   "source": [
    "# funcion que el primer valor es donde empieza la matriz, segundo, el final y tercero cuantas partes vamos a dividir\n",
    "\n",
    "np.linspace(0,4,5)"
   ]
  },
  {
   "cell_type": "code",
   "execution_count": 15,
   "id": "5bb996d2",
   "metadata": {},
   "outputs": [
    {
     "data": {
      "text/plain": [
       "array([0, 1, 2, 3, 4, 5, 6, 7, 8, 9])"
      ]
     },
     "execution_count": 15,
     "metadata": {},
     "output_type": "execute_result"
    }
   ],
   "source": [
    "# funcion que el primer numero me indica donde empieza el segundo es donde acaba menos 1 y el tercer es el numero de saltos\n",
    "\n",
    "np.arange(0,10,1)"
   ]
  },
  {
   "cell_type": "code",
   "execution_count": 16,
   "id": "e76f80a4",
   "metadata": {},
   "outputs": [
    {
     "data": {
      "text/plain": [
       "array([[1., 0., 0.],\n",
       "       [0., 1., 0.],\n",
       "       [0., 0., 1.]])"
      ]
     },
     "execution_count": 16,
     "metadata": {},
     "output_type": "execute_result"
    }
   ],
   "source": [
    "# matriz de indentidad donde n es la dimension de tu matriz\n",
    "\n",
    "np.identity(3)"
   ]
  },
  {
   "cell_type": "code",
   "execution_count": 17,
   "id": "525186d1",
   "metadata": {},
   "outputs": [
    {
     "data": {
      "text/plain": [
       "array([[0.63010022, 0.79721988, 0.32785058],\n",
       "       [0.81683992, 0.42742962, 0.97085479],\n",
       "       [0.8387446 , 0.33981599, 0.57305675]])"
      ]
     },
     "execution_count": 17,
     "metadata": {},
     "output_type": "execute_result"
    }
   ],
   "source": [
    "# funcion que crea una matriz random con las dimensiones que desees\n",
    "\n",
    "np.random.random((3,3))"
   ]
  },
  {
   "cell_type": "code",
   "execution_count": 18,
   "id": "eb121080",
   "metadata": {},
   "outputs": [
    {
     "data": {
      "text/plain": [
       "array([[3, 3, 3],\n",
       "       [3, 3, 3],\n",
       "       [3, 3, 3]])"
      ]
     },
     "execution_count": 18,
     "metadata": {},
     "output_type": "execute_result"
    }
   ],
   "source": [
    "# funcion que crea una matriz en el que el primer valor indica las dimensiones de la matriz y el segundo el valor que tendria\n",
    "\n",
    "np.full([3,3],3)"
   ]
  },
  {
   "cell_type": "markdown",
   "id": "10fa8859",
   "metadata": {},
   "source": [
    "## Acceso a los elementos de un array"
   ]
  },
  {
   "cell_type": "code",
   "execution_count": 19,
   "id": "284992d3",
   "metadata": {},
   "outputs": [
    {
     "data": {
      "text/plain": [
       "1"
      ]
     },
     "execution_count": 19,
     "metadata": {},
     "output_type": "execute_result"
    }
   ],
   "source": [
    "# funcion que determina la dimension de mi array\n",
    "\n",
    "a1.ndim"
   ]
  },
  {
   "cell_type": "code",
   "execution_count": 22,
   "id": "6558f9dd",
   "metadata": {
    "scrolled": true
   },
   "outputs": [
    {
     "data": {
      "text/plain": [
       "(2, 3)"
      ]
     },
     "execution_count": 22,
     "metadata": {},
     "output_type": "execute_result"
    }
   ],
   "source": [
    "# funcion que me indica la forma de mi array\n",
    "\n",
    "a2.shape"
   ]
  },
  {
   "cell_type": "code",
   "execution_count": 23,
   "id": "7a297890",
   "metadata": {},
   "outputs": [
    {
     "data": {
      "text/plain": [
       "9"
      ]
     },
     "execution_count": 23,
     "metadata": {},
     "output_type": "execute_result"
    }
   ],
   "source": [
    "# funcion que determina el numero de elementos\n",
    "\n",
    "array3.size"
   ]
  },
  {
   "cell_type": "code",
   "execution_count": 24,
   "id": "f7560f69",
   "metadata": {},
   "outputs": [
    {
     "data": {
      "text/plain": [
       "dtype('int32')"
      ]
     },
     "execution_count": 24,
     "metadata": {},
     "output_type": "execute_result"
    }
   ],
   "source": [
    "#  funcion que indica el tipo de dato que tienes en tu array. \n",
    "# Int: numero entero, Float: numeros con decimales, str(string): texto, datatime: fechas\n",
    "\n",
    "a1.dtype"
   ]
  },
  {
   "cell_type": "code",
   "execution_count": 25,
   "id": "9dc64f46",
   "metadata": {},
   "outputs": [],
   "source": [
    "a = np.array([[1,2,3],[4,5,6]])"
   ]
  },
  {
   "cell_type": "code",
   "execution_count": 29,
   "id": "ce0fa99e",
   "metadata": {},
   "outputs": [
    {
     "data": {
      "text/plain": [
       "array([[1, 2],\n",
       "       [3, 4],\n",
       "       [5, 6]])"
      ]
     },
     "execution_count": 29,
     "metadata": {},
     "output_type": "execute_result"
    }
   ],
   "source": [
    "#funcion que remodela la array, cambiandole de forma con los argumentos de: llamada al array, las formas. no se puede remodelar algo que no existe\n",
    "\n",
    "np.reshape(a, (3,2))"
   ]
  },
  {
   "cell_type": "code",
   "execution_count": null,
   "id": "130f8209",
   "metadata": {},
   "outputs": [],
   "source": [
    "np.reshape(a, (3,3)) #Error"
   ]
  },
  {
   "cell_type": "code",
   "execution_count": 30,
   "id": "84972f0e",
   "metadata": {},
   "outputs": [
    {
     "name": "stdout",
     "output_type": "stream",
     "text": [
      "4\n"
     ]
    }
   ],
   "source": [
    "# Acceder a los elementos de una array\n",
    "\n",
    "print(a[1,0])"
   ]
  },
  {
   "cell_type": "code",
   "execution_count": 34,
   "id": "485d2be4",
   "metadata": {},
   "outputs": [
    {
     "name": "stdout",
     "output_type": "stream",
     "text": [
      "[[1.  2.  3. ]\n",
      " [2.  2.5 3. ]]\n",
      "[[ 1  4  9]\n",
      " [16 25 36]]\n",
      "[[0 0 0]\n",
      " [0 1 0]]\n",
      "[[ True False False]\n",
      " [False False False]]\n"
     ]
    }
   ],
   "source": [
    "# Filtrado de arrays en base a una condicion matematica:\n",
    "\n",
    "c = np.array([[1, 2, 3], [4, 5, 6]])\n",
    "d = np.array([[1, 1, 1], [2, 2, 2]])\n",
    "\n",
    "print(c / d)# dividir\n",
    "\n",
    "\n",
    "print(c**2)# exponente\n",
    "\n",
    "\n",
    "print(c%d)# resto\n",
    "\n",
    "print(c==d)# ¿son iguales?"
   ]
  },
  {
   "cell_type": "code",
   "execution_count": 35,
   "id": "99c20c62",
   "metadata": {
    "scrolled": true
   },
   "outputs": [
    {
     "name": "stdout",
     "output_type": "stream",
     "text": [
      "[[14 14]\n",
      " [32 32]]\n",
      "[[1 4]\n",
      " [2 5]\n",
      " [3 6]]\n"
     ]
    }
   ],
   "source": [
    "# La funcion .dot nos devuelve el producto matricia, para poder hacer el producto matricial debe seguir la siguiente condicion, si a= m*n y b=n*p entonces AB = m*p\n",
    "# AB sera las columnas de a y las filas de b \n",
    "# La funcion T da la matriz traspuesta\n",
    "\n",
    "a = np.array([[1, 2, 3], [4, 5, 6]])\n",
    "b = np.array([[1, 1], [2, 2], [3, 3]])\n",
    "\n",
    "print(a.dot(b))\n"
   ]
  },
  {
   "cell_type": "code",
   "execution_count": null,
   "id": "ad39a2f5",
   "metadata": {},
   "outputs": [],
   "source": [
    "# Transponer un array con la funcion T. Convierte las filas de la matriz en columnas y las columnas en filas\n",
    "\n",
    "print(a.T)"
   ]
  },
  {
   "cell_type": "markdown",
   "id": "55eabebc",
   "metadata": {},
   "source": [
    "## Tema 2. Numpy Fechas"
   ]
  },
  {
   "cell_type": "code",
   "execution_count": 12,
   "id": "6261eb89",
   "metadata": {},
   "outputs": [],
   "source": [
    "# Objetivo: acceder a los distintos componentes de una fecha\n",
    "# Convertir cadenas de formato de fecha en los tipos date, time, datetime. De acuerdo a diferentes tipos de fecha (YYYY/MM/DD)\n",
    "# Hacer aritmetica con fechas, comparativa de fechas para un analisis de tiempo.\n",
    "\n",
    "\n",
    "from datetime import date, time, datetime, timedelta"
   ]
  },
  {
   "cell_type": "code",
   "execution_count": 39,
   "id": "e75851b9",
   "metadata": {},
   "outputs": [
    {
     "data": {
      "text/plain": [
       "datetime.date(1989, 4, 10)"
      ]
     },
     "execution_count": 39,
     "metadata": {},
     "output_type": "execute_result"
    }
   ],
   "source": [
    "date(1989,4,10)"
   ]
  },
  {
   "cell_type": "code",
   "execution_count": 40,
   "id": "5cf6884e",
   "metadata": {},
   "outputs": [
    {
     "data": {
      "text/plain": [
       "datetime.time(12, 32, 25, 3)"
      ]
     },
     "execution_count": 40,
     "metadata": {},
     "output_type": "execute_result"
    }
   ],
   "source": [
    "# quiero lo mismo pero con tiempo: hora , minutosm, segundos y minisegundos\n",
    "\n",
    "time(12,32,25,3)"
   ]
  },
  {
   "cell_type": "code",
   "execution_count": 41,
   "id": "02b162ba",
   "metadata": {},
   "outputs": [
    {
     "name": "stdout",
     "output_type": "stream",
     "text": [
      "2020-12-30 11:30:05.000003\n"
     ]
    }
   ],
   "source": [
    "\n",
    "print(datetime(2020,12,30,11,30,5,3))"
   ]
  },
  {
   "cell_type": "code",
   "execution_count": 52,
   "id": "8d2a99a3",
   "metadata": {},
   "outputs": [],
   "source": [
    "d=date.today()"
   ]
  },
  {
   "cell_type": "code",
   "execution_count": 57,
   "id": "793a67fd",
   "metadata": {
    "scrolled": false
   },
   "outputs": [
    {
     "name": "stdout",
     "output_type": "stream",
     "text": [
      "Hoy es: 2023-05-03 con hora: 2023-05-03 20:44:55.212112 con numero del dia de la semana 2\n"
     ]
    }
   ],
   "source": [
    "# ¿Que dia es hoy?\n",
    "\n",
    "\n",
    "print(\"Hoy es:\",d,\"con hora:\",datetime.now(),\"con numero del dia de la semana\", d.weekday())"
   ]
  },
  {
   "cell_type": "code",
   "execution_count": 56,
   "id": "40532f09",
   "metadata": {
    "scrolled": false
   },
   "outputs": [
    {
     "name": "stdout",
     "output_type": "stream",
     "text": [
      "Hoy es: 2023-05-03 con hora: 20:44:52.120984 con numero del dia de la semana 2\n"
     ]
    }
   ],
   "source": [
    "# Poner solo la hora de ahora sin la fecha\n",
    "\n",
    "print(\"Hoy es:\",d,\"con hora:\",datetime.now().time(),\"con numero del dia de la semana\", d.weekday())"
   ]
  },
  {
   "cell_type": "code",
   "execution_count": 58,
   "id": "aef0f802",
   "metadata": {
    "scrolled": true
   },
   "outputs": [
    {
     "data": {
      "text/plain": [
       "2023"
      ]
     },
     "execution_count": 58,
     "metadata": {},
     "output_type": "execute_result"
    }
   ],
   "source": [
    "#genera el año actual\n",
    "\n",
    "d.year"
   ]
  },
  {
   "cell_type": "code",
   "execution_count": 59,
   "id": "21567869",
   "metadata": {},
   "outputs": [
    {
     "data": {
      "text/plain": [
       "5"
      ]
     },
     "execution_count": 59,
     "metadata": {},
     "output_type": "execute_result"
    }
   ],
   "source": [
    "# genera el mes actual\n",
    "\n",
    "d.month\n",
    "\n"
   ]
  },
  {
   "cell_type": "code",
   "execution_count": 60,
   "id": "5557f539",
   "metadata": {},
   "outputs": [
    {
     "data": {
      "text/plain": [
       "3"
      ]
     },
     "execution_count": 60,
     "metadata": {},
     "output_type": "execute_result"
    }
   ],
   "source": [
    "# genera el dia \n",
    "\n",
    "d.day"
   ]
  },
  {
   "cell_type": "code",
   "execution_count": 68,
   "id": "c1396b82",
   "metadata": {},
   "outputs": [],
   "source": [
    "t=datetime.now().time()"
   ]
  },
  {
   "cell_type": "code",
   "execution_count": 69,
   "id": "228db6bc",
   "metadata": {},
   "outputs": [
    {
     "data": {
      "text/plain": [
       "20"
      ]
     },
     "execution_count": 69,
     "metadata": {},
     "output_type": "execute_result"
    }
   ],
   "source": [
    "#la hora actual\n",
    "\n",
    "t.hour"
   ]
  },
  {
   "cell_type": "code",
   "execution_count": 73,
   "id": "bcbe820b",
   "metadata": {},
   "outputs": [
    {
     "data": {
      "text/plain": [
       "50"
      ]
     },
     "execution_count": 73,
     "metadata": {},
     "output_type": "execute_result"
    }
   ],
   "source": [
    "#el minuto exacto\n",
    "\n",
    "t.minute"
   ]
  },
  {
   "cell_type": "code",
   "execution_count": 74,
   "id": "6271c114",
   "metadata": {},
   "outputs": [
    {
     "data": {
      "text/plain": [
       "31"
      ]
     },
     "execution_count": 74,
     "metadata": {},
     "output_type": "execute_result"
    }
   ],
   "source": [
    "t.second"
   ]
  },
  {
   "cell_type": "code",
   "execution_count": null,
   "id": "aed21796",
   "metadata": {},
   "outputs": [],
   "source": []
  },
  {
   "cell_type": "code",
   "execution_count": 79,
   "id": "a86f4dbb",
   "metadata": {},
   "outputs": [],
   "source": [
    "a = datetime.now()"
   ]
  },
  {
   "cell_type": "code",
   "execution_count": 89,
   "id": "710259c9",
   "metadata": {
    "scrolled": true
   },
   "outputs": [
    {
     "name": "stdout",
     "output_type": "stream",
     "text": [
      "03/May/23 20-59-11\n"
     ]
    }
   ],
   "source": [
    "#conversion de fechas en cadenas con diferentes formatos\n",
    "\n",
    "\n",
    "\n",
    "fecha = print(a.strftime('%d/%B/%y %H-%M-%S'))"
   ]
  },
  {
   "cell_type": "code",
   "execution_count": 95,
   "id": "1b5a06b1",
   "metadata": {
    "scrolled": false
   },
   "outputs": [
    {
     "name": "stdout",
     "output_type": "stream",
     "text": [
      "2020-04-15 00:00:00\n"
     ]
    }
   ],
   "source": [
    "print(datetime.strptime('15/4/2020', '%d/%m/%Y'))"
   ]
  },
  {
   "cell_type": "code",
   "execution_count": 23,
   "id": "71ca1fb4",
   "metadata": {},
   "outputs": [
    {
     "name": "stdout",
     "output_type": "stream",
     "text": [
      "2020-02-01 01:00:00\n"
     ]
    }
   ],
   "source": [
    "# timedelta se usa para operaciones matematicas con las fechas. Dentro de los parentesis se pondra el valor en dias y segundos.\n",
    "d1 = datetime(2020, 1, 1)\n",
    "print(d1 + timedelta(31, 3600))"
   ]
  },
  {
   "cell_type": "code",
   "execution_count": 20,
   "id": "c8243c50",
   "metadata": {
    "scrolled": true
   },
   "outputs": [
    {
     "data": {
      "text/plain": [
       "datetime.timedelta(days=1219, seconds=67594, microseconds=280078)"
      ]
     },
     "execution_count": 20,
     "metadata": {},
     "output_type": "execute_result"
    }
   ],
   "source": [
    "# Restar datetime mas la fecha dada\n",
    "\n",
    "datetime.now() - d1"
   ]
  },
  {
   "cell_type": "code",
   "execution_count": 24,
   "id": "6d6a408c",
   "metadata": {},
   "outputs": [
    {
     "name": "stdout",
     "output_type": "stream",
     "text": [
      "2023-08-09\n"
     ]
    }
   ],
   "source": [
    "# Cual es la fecha de tres meses y cuatro dias a partir de hoy??\n",
    "\n",
    "dtoday = date.today()\n",
    "print(timedelta(97) + dtoday) #97 son 31 dias de un mes por 4 mas 4 dias extra"
   ]
  },
  {
   "cell_type": "code",
   "execution_count": 18,
   "id": "e3f444fe",
   "metadata": {
    "scrolled": true
   },
   "outputs": [
    {
     "name": "stdout",
     "output_type": "stream",
     "text": [
      "2023-04-27\n"
     ]
    }
   ],
   "source": [
    "# Que dia empecamos con las clases de LyM? \n",
    "\n",
    "print(dtoday - timedelta(7))"
   ]
  },
  {
   "cell_type": "code",
   "execution_count": 25,
   "id": "c7f73cd2",
   "metadata": {
    "scrolled": true
   },
   "outputs": [
    {
     "ename": "TypeError",
     "evalue": "unsupported operand type(s) for -: 'datetime.date' and 'datetime.datetime'",
     "output_type": "error",
     "traceback": [
      "\u001b[1;31m---------------------------------------------------------------------------\u001b[0m",
      "\u001b[1;31mTypeError\u001b[0m                                 Traceback (most recent call last)",
      "Cell \u001b[1;32mIn[25], line 1\u001b[0m\n\u001b[1;32m----> 1\u001b[0m \u001b[43mdtoday\u001b[49m\u001b[43m \u001b[49m\u001b[38;5;241;43m-\u001b[39;49m\u001b[43m \u001b[49m\u001b[43md1\u001b[49m\n",
      "\u001b[1;31mTypeError\u001b[0m: unsupported operand type(s) for -: 'datetime.date' and 'datetime.datetime'"
     ]
    }
   ],
   "source": [
    "dtoday - d1\n"
   ]
  }
 ],
 "metadata": {
  "kernelspec": {
   "display_name": "Python 3 (ipykernel)",
   "language": "python",
   "name": "python3"
  },
  "language_info": {
   "codemirror_mode": {
    "name": "ipython",
    "version": 3
   },
   "file_extension": ".py",
   "mimetype": "text/x-python",
   "name": "python",
   "nbconvert_exporter": "python",
   "pygments_lexer": "ipython3",
   "version": "3.10.9"
  }
 },
 "nbformat": 4,
 "nbformat_minor": 5
}
