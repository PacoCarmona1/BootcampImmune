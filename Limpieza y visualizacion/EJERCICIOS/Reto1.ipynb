{
 "cells": [
  {
   "cell_type": "markdown",
   "id": "c70c0d6e",
   "metadata": {},
   "source": [
    "# Reto 1"
   ]
  },
  {
   "cell_type": "markdown",
   "id": "634ee436",
   "metadata": {},
   "source": [
    "## Tema 2. Numpy"
   ]
  },
  {
   "cell_type": "markdown",
   "id": "2b48896e",
   "metadata": {},
   "source": [
    "### Creacion de arrays"
   ]
  },
  {
   "cell_type": "code",
   "execution_count": 4,
   "id": "3c52df31",
   "metadata": {},
   "outputs": [
    {
     "name": "stdout",
     "output_type": "stream",
     "text": [
      "Array 1: [1 2 3 4 5]\n",
      "Array 2: [ 6  7  8  9 10]\n"
     ]
    }
   ],
   "source": [
    "# 1. Crea dos arrays a partir de una lista\n",
    "import numpy as np\n",
    "\n",
    "lista = [1, 2, 3, 4, 5, 6, 7, 8, 9, 10]\n",
    "\n",
    "array = np.array(lista)\n",
    "\n",
    "# Dividir el array en dos arrays\n",
    "array1 = array[:len(array)//2]\n",
    "array2 = array[len(array)//2:]\n",
    "\n",
    "print(\"Array 1:\", array1)\n",
    "print(\"Array 2:\", array2)"
   ]
  },
  {
   "cell_type": "code",
   "execution_count": 7,
   "id": "aa21d876",
   "metadata": {
    "scrolled": true
   },
   "outputs": [
    {
     "name": "stdout",
     "output_type": "stream",
     "text": [
      "[[1 2 3]\n",
      " [4 5 6]]\n",
      "[[[1 2 3]\n",
      "  [4 5 6]\n",
      "  [7 8 9]]]\n"
     ]
    }
   ],
   "source": [
    "# 2. Crea varios arrays de varias dimensiones\n",
    "\n",
    "a2 = np.array([[1,2,3],[4,5,6]]) # 2 dimensiones\n",
    "\n",
    "a3= np.array([[[1,2,3],[4,5,6],[7,8,9]]])# 3 dimensiones\n",
    "\n",
    "print(a2)\n",
    "print(a3)"
   ]
  },
  {
   "cell_type": "code",
   "execution_count": 9,
   "id": "8baffb59",
   "metadata": {},
   "outputs": [
    {
     "name": "stdout",
     "output_type": "stream",
     "text": [
      "[[0.85466195 0.77856013 0.9305981  0.42762243]\n",
      " [0.44270168 0.45864216 0.42073806 0.78266843]\n",
      " [0.73124064 0.56335832 0.35297313 0.08586317]]\n"
     ]
    }
   ],
   "source": [
    "# 3. Crea un array con tres columnas, cuatro filas\n",
    "\n",
    "a4 = np.random.random((3,4))\n",
    "\n",
    "print(a4)"
   ]
  },
  {
   "cell_type": "code",
   "execution_count": 17,
   "id": "17a0b50f",
   "metadata": {},
   "outputs": [
    {
     "name": "stdout",
     "output_type": "stream",
     "text": [
      "la array del la pregunta cuatro es: 2 dimensiones\n"
     ]
    }
   ],
   "source": [
    "# 4. ¿Qué dimensión tendría el array de la pregunta 3?\n",
    "\n",
    "print(\"la array del la pregunta 3 es:\",a4.ndim,\"dimensiones\") \n",
    "\n"
   ]
  },
  {
   "cell_type": "markdown",
   "id": "5db8a3c0",
   "metadata": {},
   "source": [
    "### Funciones"
   ]
  },
  {
   "cell_type": "code",
   "execution_count": 19,
   "id": "ec79dd86",
   "metadata": {},
   "outputs": [
    {
     "name": "stdout",
     "output_type": "stream",
     "text": [
      "[[[5. 5. 5.]\n",
      "  [5. 5. 5.]\n",
      "  [5. 5. 5.]\n",
      "  [5. 5. 5.]]\n",
      "\n",
      " [[5. 5. 5.]\n",
      "  [5. 5. 5.]\n",
      "  [5. 5. 5.]\n",
      "  [5. 5. 5.]]\n",
      "\n",
      " [[5. 5. 5.]\n",
      "  [5. 5. 5.]\n",
      "  [5. 5. 5.]\n",
      "  [5. 5. 5.]]]\n"
     ]
    }
   ],
   "source": [
    "# 1. Crea una array de tres dimensiones con los mismos valores\n",
    "\n",
    "\n",
    "a4 = np.full((3, 4, 3), 5.0)  # Crea un array de tamaño (3, 4, 3) con todos los elementos iguales a 5.0\n",
    "\n",
    "\n",
    "print(a4)"
   ]
  },
  {
   "cell_type": "code",
   "execution_count": 22,
   "id": "0475a81c",
   "metadata": {},
   "outputs": [
    {
     "name": "stdout",
     "output_type": "stream",
     "text": [
      "[ 0.  1.  2.  3.  4.  5.  6.  7.  8.  9. 10. 11. 12. 13. 14. 15. 16. 17.\n",
      " 18. 19.]\n"
     ]
    }
   ],
   "source": [
    "# 2. Crea una array con un rango de 20 separados de manera equidistante\n",
    "arr = np.linspace(0, 19, 20)\n",
    "\n",
    "print(arr)"
   ]
  },
  {
   "cell_type": "code",
   "execution_count": 25,
   "id": "0546c2e3",
   "metadata": {},
   "outputs": [
    {
     "name": "stdout",
     "output_type": "stream",
     "text": [
      "[[1. 0.]\n",
      " [0. 1.]]\n"
     ]
    }
   ],
   "source": [
    "# 3. ¿Qué valor daría usar la función de identidad para una dimensión de 2?\n",
    "\n",
    "iden = np.identity(2)\n",
    "print(iden)"
   ]
  },
  {
   "cell_type": "code",
   "execution_count": 23,
   "id": "995a5fd0",
   "metadata": {},
   "outputs": [
    {
     "data": {
      "text/plain": [
       "array([0, 2, 4, 6, 8])"
      ]
     },
     "execution_count": 23,
     "metadata": {},
     "output_type": "execute_result"
    }
   ],
   "source": [
    "# 4. Si quiero crear un array con una separación de valores de dos en dos ¿qué función he de utilizar?\n",
    "\n",
    "np.arange(0,10,2)"
   ]
  },
  {
   "cell_type": "code",
   "execution_count": 26,
   "id": "90dfba6a",
   "metadata": {},
   "outputs": [
    {
     "name": "stdout",
     "output_type": "stream",
     "text": [
      "[[[[0. 0. 0. 0. 0.]\n",
      "   [0. 0. 0. 0. 0.]\n",
      "   [0. 0. 0. 0. 0.]\n",
      "   [0. 0. 0. 0. 0.]]\n",
      "\n",
      "  [[0. 0. 0. 0. 0.]\n",
      "   [0. 0. 0. 0. 0.]\n",
      "   [0. 0. 0. 0. 0.]\n",
      "   [0. 0. 0. 0. 0.]]\n",
      "\n",
      "  [[0. 0. 0. 0. 0.]\n",
      "   [0. 0. 0. 0. 0.]\n",
      "   [0. 0. 0. 0. 0.]\n",
      "   [0. 0. 0. 0. 0.]]]\n",
      "\n",
      "\n",
      " [[[0. 0. 0. 0. 0.]\n",
      "   [0. 0. 0. 0. 0.]\n",
      "   [0. 0. 0. 0. 0.]\n",
      "   [0. 0. 0. 0. 0.]]\n",
      "\n",
      "  [[0. 0. 0. 0. 0.]\n",
      "   [0. 0. 0. 0. 0.]\n",
      "   [0. 0. 0. 0. 0.]\n",
      "   [0. 0. 0. 0. 0.]]\n",
      "\n",
      "  [[0. 0. 0. 0. 0.]\n",
      "   [0. 0. 0. 0. 0.]\n",
      "   [0. 0. 0. 0. 0.]\n",
      "   [0. 0. 0. 0. 0.]]]]\n"
     ]
    }
   ],
   "source": [
    "# 5. Crea un array de con todos los valores en 0 de 4 dimensiones.\n",
    "\n",
    "ar1 = np.zeros((2, 3, 4, 5))\n",
    "\n",
    "print(ar1)"
   ]
  },
  {
   "cell_type": "markdown",
   "id": "d42b50b0",
   "metadata": {},
   "source": [
    "### Atributos"
   ]
  },
  {
   "cell_type": "code",
   "execution_count": 36,
   "id": "5d2beee7",
   "metadata": {},
   "outputs": [
    {
     "name": "stdout",
     "output_type": "stream",
     "text": [
      "a= int32\n",
      "b= float64\n"
     ]
    }
   ],
   "source": [
    "#1. Qué formula usarías para encontrar el tipo de datos y cuál sería para los siguientes:\n",
    "a = [3,6,2]\n",
    "b = [3.2,4.1,6.2]\n",
    "\n",
    "array1 = np.array(a)\n",
    "array2 = np.array(b)\n",
    "print(\"a=\",array1.dtype)\n",
    "print(\"b=\",array2.dtype)\n"
   ]
  },
  {
   "cell_type": "code",
   "execution_count": 41,
   "id": "dffd4923",
   "metadata": {},
   "outputs": [
    {
     "name": "stdout",
     "output_type": "stream",
     "text": [
      "(3,)\n",
      "(3,)\n"
     ]
    }
   ],
   "source": [
    "# 2. Que resultado da usar la formula shape una vez creado el array a partir de la preguna anterior(a y b)?\n",
    "\n",
    "print(array1.shape)\n",
    "\n",
    "print(array2.shape)"
   ]
  },
  {
   "cell_type": "code",
   "execution_count": 44,
   "id": "23a8d69d",
   "metadata": {},
   "outputs": [
    {
     "name": "stdout",
     "output_type": "stream",
     "text": [
      "3\n",
      "3\n"
     ]
    }
   ],
   "source": [
    "# 3. Qué tamaño tienen ambas\n",
    "\n",
    "print(array1.size)\n",
    "\n",
    "print(array2.size)"
   ]
  },
  {
   "cell_type": "code",
   "execution_count": 45,
   "id": "34999fe3",
   "metadata": {},
   "outputs": [
    {
     "name": "stdout",
     "output_type": "stream",
     "text": [
      "[1 2 3 4 5 6]\n"
     ]
    }
   ],
   "source": [
    "# 4. Convierte un array de dos y dimensiones en una dimensión\n",
    "a2 = np.array([[1,2,3],[4,5,6]]) #array de dos dimensiones\n",
    "\n",
    "a1_reshape = a2.reshape(-1)\n",
    "print(a1_reshape)\n"
   ]
  },
  {
   "cell_type": "code",
   "execution_count": 47,
   "id": "d0be6ee3",
   "metadata": {},
   "outputs": [
    {
     "data": {
      "text/plain": [
       "array([[1, 2],\n",
       "       [3, 4],\n",
       "       [5, 6]])"
      ]
     },
     "execution_count": 47,
     "metadata": {},
     "output_type": "execute_result"
    }
   ],
   "source": [
    "# 5. Modifica el array anterior para convertirlo en uno de tres filas y dos columnas\n",
    "a2.reshape(3,2)"
   ]
  },
  {
   "cell_type": "code",
   "execution_count": 48,
   "id": "669b9fb4",
   "metadata": {},
   "outputs": [
    {
     "name": "stdout",
     "output_type": "stream",
     "text": [
      "[1.2 2.3 3.4 4.5 5.6]\n",
      "(5,)\n"
     ]
    }
   ],
   "source": [
    "# 6. Crea un array a partir de una lista del tipo de datos float, luego comprueba sus dimensiones.\n",
    "\n",
    "lista = [1.2, 2.3, 3.4, 4.5, 5.6]\n",
    "\n",
    "array = np.array(lista)\n",
    "print(array)\n",
    "\n",
    "\n",
    "dimensiones = array.shape\n",
    "print(dimensiones)"
   ]
  },
  {
   "cell_type": "code",
   "execution_count": 49,
   "id": "98dc8430",
   "metadata": {},
   "outputs": [
    {
     "name": "stdout",
     "output_type": "stream",
     "text": [
      "5\n"
     ]
    }
   ],
   "source": [
    "# 7. Devuelve el número de elementos del array anterior.\n",
    "\n",
    "\n",
    "num_elementos = np.size(array)  \n",
    "print(num_elementos)"
   ]
  },
  {
   "cell_type": "code",
   "execution_count": 56,
   "id": "01182b4c",
   "metadata": {},
   "outputs": [
    {
     "name": "stdout",
     "output_type": "stream",
     "text": [
      "[[4 1 6]\n",
      " [7 1 2]]\n",
      "2\n"
     ]
    }
   ],
   "source": [
    "# 8. Crea el siguiente array: [[4, 1, 6], [7, 1, 2]]. Como puedo puedo acceder al elemento con el numero 2?\n",
    "n2 = [[4, 1, 6], [7, 1, 2]]\n",
    "arrayn2 = np.array(n2)\n",
    "print(arrayn2)#imprimo para saber la posicion del numero 2\n",
    "print(arrayn2[1,2])# fila 1 columna 2"
   ]
  },
  {
   "cell_type": "code",
   "execution_count": 58,
   "id": "91565113",
   "metadata": {},
   "outputs": [
    {
     "name": "stdout",
     "output_type": "stream",
     "text": [
      "Matriz unidimensional:\n",
      "[10 12 14 16 18 20]\n",
      "\n",
      "Matriz multidimensional:\n",
      "[[10 12 14]\n",
      " [16 18 20]]\n",
      "Dimensiones de la matriz multidimensional:\n",
      "(2, 3)\n"
     ]
    }
   ],
   "source": [
    "# 9. Crea una matriz unidimensional de números secuenciales usando la sentencia arange entre 10 e incluyendo* 20 en incrementos (step) de 2.\n",
    "# Luego use la sentencia reshape y shape para transformar esta matriz unidimensional en una matriz multidimensional de 2 elementos por 3 elementos.\n",
    "# A continuación, la salida de la matriz multidimensional a la consola de Python utilizando una sentencia de impresión.*20 debe incluirse; por eso se utiliza 21 dentro de la función arange().\n",
    "\n",
    "\n",
    "\n",
    "unidimensional = np.arange(10, 21, 2)\n",
    "print(\"Matriz unidimensional:\")\n",
    "print(unidimensional)\n",
    "\n",
    "multidimensional = unidimensional.reshape(2, 3)\n",
    "print(\"Matriz multidimensional:\")\n",
    "print(multidimensional)\n",
    "\n",
    "\n",
    "dimensiones = multidimensional.shape\n",
    "print(\"Dimensiones de la matriz multidimensional:\")\n",
    "print(dimensiones)"
   ]
  },
  {
   "cell_type": "markdown",
   "id": "0cf72cd0",
   "metadata": {},
   "source": [
    "### Operaciones Matemáticas y filtros"
   ]
  },
  {
   "cell_type": "code",
   "execution_count": 60,
   "id": "ee107971",
   "metadata": {},
   "outputs": [
    {
     "name": "stdout",
     "output_type": "stream",
     "text": [
      "[50 60 70]\n"
     ]
    }
   ],
   "source": [
    "#1. Crea un filtro que devuelva los valores mayores de 42 de tu propio array\n",
    "\n",
    "\n",
    "mi_array = np.array([10, 20, 30, 40, 50, 60, 70])\n",
    "\n",
    "filtro = mi_array > 42\n",
    "\n",
    "\n",
    "valores_mayores_42 = mi_array[filtro]\n",
    "\n",
    "print(valores_mayores_42)"
   ]
  },
  {
   "cell_type": "code",
   "execution_count": 69,
   "id": "db5d2149",
   "metadata": {},
   "outputs": [
    {
     "name": "stdout",
     "output_type": "stream",
     "text": [
      "[2 4 6]\n"
     ]
    }
   ],
   "source": [
    "# 2. Crea un filtro que devuelva solo los valores pares del siguiente array: arr = np.array([1, 2, 3, 4, 5, 6, 7])\n",
    "\n",
    "\n",
    "arr1 = np.array([1, 2, 3, 4, 5, 6, 7])\n",
    "\n",
    "filtro = arr1 % 2 == 0  \n",
    "\n",
    "valores_pares = arr1[filtro]\n",
    "\n",
    "print(valores_pares)"
   ]
  },
  {
   "cell_type": "code",
   "execution_count": 70,
   "id": "8a0653e2",
   "metadata": {},
   "outputs": [
    {
     "name": "stdout",
     "output_type": "stream",
     "text": [
      "[1 3 5 7]\n"
     ]
    }
   ],
   "source": [
    "# 3. Ahora para los impares del anterior array.\n",
    "\n",
    "arr1 = np.array([1, 2, 3, 4, 5, 6, 7])\n",
    "\n",
    "filtro = arr1 % 2 == 1  \n",
    "\n",
    "valores_pares = arr1[filtro]\n",
    "\n",
    "print(valores_pares)"
   ]
  },
  {
   "cell_type": "code",
   "execution_count": 65,
   "id": "68e8cbcb",
   "metadata": {},
   "outputs": [
    {
     "name": "stdout",
     "output_type": "stream",
     "text": [
      "[[25 26]\n",
      " [36 64]]\n"
     ]
    }
   ],
   "source": [
    "# 4. Encuentra el producto matricial de los siguientes arrays: \n",
    "\n",
    "test1 = np.array([[5, 2,3], [4, 8, 4]]) \n",
    "test2 = np.array([[1, 1], [1, 6], [6, 3]])\n",
    "total = test1.dot(test2)\n",
    "print(total)"
   ]
  },
  {
   "cell_type": "code",
   "execution_count": 67,
   "id": "1e3bfae2",
   "metadata": {},
   "outputs": [
    {
     "name": "stdout",
     "output_type": "stream",
     "text": [
      "[[ 64 125 512]\n",
      " [  8 512 125]]\n"
     ]
    }
   ],
   "source": [
    "# 5. Eleva al cubo el siguiente array preg4 = np.array([[4, 5, 8],[2,8,5]])\n",
    "\n",
    "preg4 = np.array([[4, 5, 8],[2,8,5]])\n",
    "cubo = preg4**3\n",
    "print(cubo)"
   ]
  },
  {
   "cell_type": "code",
   "execution_count": 68,
   "id": "fabd30da",
   "metadata": {},
   "outputs": [
    {
     "name": "stdout",
     "output_type": "stream",
     "text": [
      "[50 60 70]\n",
      "[[ 64   8]\n",
      " [125 512]\n",
      " [512 125]]\n"
     ]
    }
   ],
   "source": [
    "# 6. Encuentra a traspuesta de los arrays creados en el punto 1 y 4.\n",
    "\n",
    "print(valores_mayores_42.T)\n",
    "print(cubo.T)"
   ]
  },
  {
   "cell_type": "code",
   "execution_count": 72,
   "id": "0ab45f7d",
   "metadata": {},
   "outputs": [
    {
     "name": "stdout",
     "output_type": "stream",
     "text": [
      "[[ 87 170 573]\n",
      " [ 97 545 203]]\n"
     ]
    }
   ],
   "source": [
    "# 7. Suma la respuesta de la pregunta 5 a un nuevo array.\n",
    "preg7 = np.array([[23,45,61],[89,33,78]])\n",
    "\n",
    "suma = cubo + preg7\n",
    "\n",
    "print(suma)\n"
   ]
  }
 ],
 "metadata": {
  "kernelspec": {
   "display_name": "Python 3 (ipykernel)",
   "language": "python",
   "name": "python3"
  },
  "language_info": {
   "codemirror_mode": {
    "name": "ipython",
    "version": 3
   },
   "file_extension": ".py",
   "mimetype": "text/x-python",
   "name": "python",
   "nbconvert_exporter": "python",
   "pygments_lexer": "ipython3",
   "version": "3.10.9"
  }
 },
 "nbformat": 4,
 "nbformat_minor": 5
}
