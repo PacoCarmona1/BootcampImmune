{
 "cells": [
  {
   "cell_type": "code",
   "execution_count": 26,
   "metadata": {},
   "outputs": [
    {
     "name": "stdout",
     "output_type": "stream",
     "text": [
      "Requirement already satisfied: chart_studio in c:\\users\\paco\\appdata\\local\\programs\\python\\python311\\lib\\site-packages (1.1.0)\n",
      "Requirement already satisfied: plotly in c:\\users\\paco\\appdata\\local\\programs\\python\\python311\\lib\\site-packages (from chart_studio) (5.14.1)\n",
      "Requirement already satisfied: requests in c:\\users\\paco\\appdata\\local\\programs\\python\\python311\\lib\\site-packages (from chart_studio) (2.31.0)\n",
      "Requirement already satisfied: retrying>=1.3.3 in c:\\users\\paco\\appdata\\local\\programs\\python\\python311\\lib\\site-packages (from chart_studio) (1.3.4)\n",
      "Requirement already satisfied: six in c:\\users\\paco\\appdata\\roaming\\python\\python311\\site-packages (from chart_studio) (1.16.0)\n",
      "Requirement already satisfied: tenacity>=6.2.0 in c:\\users\\paco\\appdata\\local\\programs\\python\\python311\\lib\\site-packages (from plotly->chart_studio) (8.2.2)\n",
      "Requirement already satisfied: packaging in c:\\users\\paco\\appdata\\roaming\\python\\python311\\site-packages (from plotly->chart_studio) (23.1)\n",
      "Requirement already satisfied: charset-normalizer<4,>=2 in c:\\users\\paco\\appdata\\local\\programs\\python\\python311\\lib\\site-packages (from requests->chart_studio) (3.1.0)\n",
      "Requirement already satisfied: idna<4,>=2.5 in c:\\users\\paco\\appdata\\local\\programs\\python\\python311\\lib\\site-packages (from requests->chart_studio) (3.4)\n",
      "Requirement already satisfied: urllib3<3,>=1.21.1 in c:\\users\\paco\\appdata\\local\\programs\\python\\python311\\lib\\site-packages (from requests->chart_studio) (2.0.2)\n",
      "Requirement already satisfied: certifi>=2017.4.17 in c:\\users\\paco\\appdata\\local\\programs\\python\\python311\\lib\\site-packages (from requests->chart_studio) (2023.5.7)\n"
     ]
    },
    {
     "name": "stderr",
     "output_type": "stream",
     "text": [
      "\n",
      "[notice] A new release of pip available: 22.3.1 -> 23.1.2\n",
      "[notice] To update, run: python.exe -m pip install --upgrade pip\n"
     ]
    }
   ],
   "source": [
    "!pip install chart_studio"
   ]
  },
  {
   "cell_type": "code",
   "execution_count": 27,
   "id": "12789782",
   "metadata": {},
   "outputs": [],
   "source": [
    "import chart_studio.plotly as py\n",
    "import plotly.graph_objs as go\n",
    "from plotly.offline import download_plotlyjs, init_notebook_mode, plot, iplot"
   ]
  },
  {
   "cell_type": "code",
   "execution_count": 28,
   "id": "167fdfd1",
   "metadata": {},
   "outputs": [
    {
     "name": "stdout",
     "output_type": "stream",
     "text": [
      "Collecting pip==23.1.2\n",
      "  Using cached pip-23.1.2-py3-none-any.whl (2.1 MB)\n"
     ]
    },
    {
     "name": "stderr",
     "output_type": "stream",
     "text": [
      "ERROR: To modify pip, please run the following command:\n",
      "C:\\Users\\Paco\\AppData\\Local\\Programs\\Python\\Python311\\python.exe -m pip install --upgrade pip==23.1.2\n",
      "\n",
      "[notice] A new release of pip available: 22.3.1 -> 23.1.2\n",
      "[notice] To update, run: python.exe -m pip install --upgrade pip\n"
     ]
    }
   ],
   "source": [
    "!pip install --upgrade pip==23.1.2"
   ]
  },
  {
   "cell_type": "code",
   "execution_count": 29,
   "id": "9e4cc94e",
   "metadata": {},
   "outputs": [
    {
     "name": "stdout",
     "output_type": "stream",
     "text": [
      "Requirement already satisfied: nbformat in c:\\users\\paco\\appdata\\local\\programs\\python\\python311\\lib\\site-packages (4.2.0)\n",
      "Requirement already satisfied: ipython-genutils in c:\\users\\paco\\appdata\\local\\programs\\python\\python311\\lib\\site-packages (from nbformat) (0.2.0)\n",
      "Requirement already satisfied: jsonschema!=2.5.0,>=2.4 in c:\\users\\paco\\appdata\\local\\programs\\python\\python311\\lib\\site-packages (from nbformat) (4.17.3)\n",
      "Requirement already satisfied: jupyter-core in c:\\users\\paco\\appdata\\roaming\\python\\python311\\site-packages (from nbformat) (5.3.0)\n",
      "Requirement already satisfied: traitlets>=4.1 in c:\\users\\paco\\appdata\\roaming\\python\\python311\\site-packages (from nbformat) (5.9.0)\n",
      "Requirement already satisfied: attrs>=17.4.0 in c:\\users\\paco\\appdata\\local\\programs\\python\\python311\\lib\\site-packages (from jsonschema!=2.5.0,>=2.4->nbformat) (23.1.0)\n",
      "Requirement already satisfied: pyrsistent!=0.17.0,!=0.17.1,!=0.17.2,>=0.14.0 in c:\\users\\paco\\appdata\\local\\programs\\python\\python311\\lib\\site-packages (from jsonschema!=2.5.0,>=2.4->nbformat) (0.19.3)\n",
      "Requirement already satisfied: platformdirs>=2.5 in c:\\users\\paco\\appdata\\roaming\\python\\python311\\site-packages (from jupyter-core->nbformat) (3.5.1)\n",
      "Requirement already satisfied: pywin32>=300 in c:\\users\\paco\\appdata\\roaming\\python\\python311\\site-packages (from jupyter-core->nbformat) (306)\n"
     ]
    },
    {
     "name": "stderr",
     "output_type": "stream",
     "text": [
      "\n",
      "[notice] A new release of pip available: 22.3.1 -> 23.1.2\n",
      "[notice] To update, run: python.exe -m pip install --upgrade pip\n"
     ]
    }
   ],
   "source": [
    "!pip install nbformat"
   ]
  },
  {
   "cell_type": "code",
   "execution_count": 30,
   "id": "6583b511",
   "metadata": {},
   "outputs": [
    {
     "data": {
      "text/html": [
       "        <script type=\"text/javascript\">\n",
       "        window.PlotlyConfig = {MathJaxConfig: 'local'};\n",
       "        if (window.MathJax && window.MathJax.Hub && window.MathJax.Hub.Config) {window.MathJax.Hub.Config({SVG: {font: \"STIX-Web\"}});}\n",
       "        if (typeof require !== 'undefined') {\n",
       "        require.undef(\"plotly\");\n",
       "        requirejs.config({\n",
       "            paths: {\n",
       "                'plotly': ['https://cdn.plot.ly/plotly-2.20.0.min']\n",
       "            }\n",
       "        });\n",
       "        require(['plotly'], function(Plotly) {\n",
       "            window._Plotly = Plotly;\n",
       "        });\n",
       "        }\n",
       "        </script>\n",
       "        "
      ]
     },
     "metadata": {},
     "output_type": "display_data"
    }
   ],
   "source": [
    "#Esto permite visualizar los graficos (similar a %matplolib inline)\n",
    "\n",
    "init_notebook_mode(connected=True)"
   ]
  },
  {
   "cell_type": "code",
   "execution_count": 31,
   "id": "732ea111",
   "metadata": {},
   "outputs": [],
   "source": [
    "import pandas as pd"
   ]
  },
  {
   "cell_type": "code",
   "execution_count": 32,
   "id": "48e0438c",
   "metadata": {},
   "outputs": [],
   "source": [
    "# tipo de visualizacion (type=), localizaciones[lista], locationmode =''\n",
    "\n",
    "\n",
    "datos = dict(type = 'choropleth',\n",
    "            locations = ['AZ','CA','NY'],\n",
    "            locationmode = 'USA-states',\n",
    "            colorscale= 'Portland',\n",
    "            text= ['text1','text2','text3'],\n",
    "            z=[1.0,2.0,3.0],\n",
    "            colorbar = {'title':'Colorbar Title'})"
   ]
  },
  {
   "cell_type": "code",
   "execution_count": 33,
   "id": "1ef5f4bf",
   "metadata": {},
   "outputs": [],
   "source": [
    "layout = dict(geo={'scope':'usa'})"
   ]
  },
  {
   "cell_type": "code",
   "execution_count": 34,
   "id": "83903902",
   "metadata": {},
   "outputs": [
    {
     "ename": "ValueError",
     "evalue": "Mime type rendering requires nbformat>=4.2.0 but it is not installed",
     "output_type": "error",
     "traceback": [
      "\u001b[1;31m---------------------------------------------------------------------------\u001b[0m",
      "\u001b[1;31mValueError\u001b[0m                                Traceback (most recent call last)",
      "Cell \u001b[1;32mIn[34], line 3\u001b[0m\n\u001b[0;32m      1\u001b[0m mapas \u001b[39m=\u001b[39m go\u001b[39m.\u001b[39mFigure(data\u001b[39m=\u001b[39m[datos], layout \u001b[39m=\u001b[39m layout)\n\u001b[1;32m----> 3\u001b[0m iplot(mapas)\n",
      "File \u001b[1;32mc:\\Users\\Paco\\AppData\\Local\\Programs\\Python\\Python311\\Lib\\site-packages\\plotly\\offline\\offline.py:392\u001b[0m, in \u001b[0;36miplot\u001b[1;34m(figure_or_data, show_link, link_text, validate, image, filename, image_width, image_height, config, auto_play, animation_opts)\u001b[0m\n\u001b[0;32m    387\u001b[0m post_script \u001b[39m=\u001b[39m build_save_image_post_script(\n\u001b[0;32m    388\u001b[0m     image, filename, image_height, image_width, \u001b[39m\"\u001b[39m\u001b[39miplot\u001b[39m\u001b[39m\"\u001b[39m\n\u001b[0;32m    389\u001b[0m )\n\u001b[0;32m    391\u001b[0m \u001b[39m# Show figure\u001b[39;00m\n\u001b[1;32m--> 392\u001b[0m pio\u001b[39m.\u001b[39;49mshow(\n\u001b[0;32m    393\u001b[0m     figure,\n\u001b[0;32m    394\u001b[0m     validate\u001b[39m=\u001b[39;49mvalidate,\n\u001b[0;32m    395\u001b[0m     config\u001b[39m=\u001b[39;49mconfig,\n\u001b[0;32m    396\u001b[0m     auto_play\u001b[39m=\u001b[39;49mauto_play,\n\u001b[0;32m    397\u001b[0m     post_script\u001b[39m=\u001b[39;49mpost_script,\n\u001b[0;32m    398\u001b[0m     animation_opts\u001b[39m=\u001b[39;49manimation_opts,\n\u001b[0;32m    399\u001b[0m )\n",
      "File \u001b[1;32mc:\\Users\\Paco\\AppData\\Local\\Programs\\Python\\Python311\\Lib\\site-packages\\plotly\\io\\_renderers.py:396\u001b[0m, in \u001b[0;36mshow\u001b[1;34m(fig, renderer, validate, **kwargs)\u001b[0m\n\u001b[0;32m    391\u001b[0m         \u001b[39mraise\u001b[39;00m \u001b[39mValueError\u001b[39;00m(\n\u001b[0;32m    392\u001b[0m             \u001b[39m\"\u001b[39m\u001b[39mMime type rendering requires ipython but it is not installed\u001b[39m\u001b[39m\"\u001b[39m\n\u001b[0;32m    393\u001b[0m         )\n\u001b[0;32m    395\u001b[0m     \u001b[39mif\u001b[39;00m \u001b[39mnot\u001b[39;00m nbformat \u001b[39mor\u001b[39;00m Version(nbformat\u001b[39m.\u001b[39m__version__) \u001b[39m<\u001b[39m Version(\u001b[39m\"\u001b[39m\u001b[39m4.2.0\u001b[39m\u001b[39m\"\u001b[39m):\n\u001b[1;32m--> 396\u001b[0m         \u001b[39mraise\u001b[39;00m \u001b[39mValueError\u001b[39;00m(\n\u001b[0;32m    397\u001b[0m             \u001b[39m\"\u001b[39m\u001b[39mMime type rendering requires nbformat>=4.2.0 but it is not installed\u001b[39m\u001b[39m\"\u001b[39m\n\u001b[0;32m    398\u001b[0m         )\n\u001b[0;32m    400\u001b[0m     ipython_display\u001b[39m.\u001b[39mdisplay(bundle, raw\u001b[39m=\u001b[39m\u001b[39mTrue\u001b[39;00m)\n\u001b[0;32m    402\u001b[0m \u001b[39m# external renderers\u001b[39;00m\n",
      "\u001b[1;31mValueError\u001b[0m: Mime type rendering requires nbformat>=4.2.0 but it is not installed"
     ]
    }
   ],
   "source": [
    "mapas = go.Figure(data=[datos], layout = layout)\n",
    "\n",
    "iplot(mapas)"
   ]
  },
  {
   "cell_type": "code",
   "execution_count": null,
   "id": "7b8afd89",
   "metadata": {},
   "outputs": [],
   "source": []
  }
 ],
 "metadata": {
  "kernelspec": {
   "display_name": "Python 3",
   "language": "python",
   "name": "python3"
  },
  "language_info": {
   "codemirror_mode": {
    "name": "ipython",
    "version": 3
   },
   "file_extension": ".py",
   "mimetype": "text/x-python",
   "name": "python",
   "nbconvert_exporter": "python",
   "pygments_lexer": "ipython3",
   "version": "3.11.2"
  }
 },
 "nbformat": 4,
 "nbformat_minor": 5
}
