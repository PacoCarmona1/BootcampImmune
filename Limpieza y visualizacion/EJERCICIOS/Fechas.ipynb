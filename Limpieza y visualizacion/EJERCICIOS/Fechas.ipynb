{
 "cells": [
  {
   "cell_type": "markdown",
   "id": "dcf64408",
   "metadata": {},
   "source": [
    "# Ejercicios Fechas"
   ]
  },
  {
   "cell_type": "code",
   "execution_count": 1,
   "id": "1e23de54",
   "metadata": {},
   "outputs": [],
   "source": [
    "#Primero de todo importamos las librerias \n",
    "\n",
    "from datetime import date, time, datetime, timedelta"
   ]
  },
  {
   "cell_type": "markdown",
   "id": "f6de45d4",
   "metadata": {},
   "source": [
    "## 1.Muestra la hora y el día actual"
   ]
  },
  {
   "cell_type": "code",
   "execution_count": 8,
   "id": "82b9accf",
   "metadata": {},
   "outputs": [
    {
     "name": "stdout",
     "output_type": "stream",
     "text": [
      "Hora actual: 18:01:28.497417\n",
      "Día actual: 2023-05-05\n"
     ]
    }
   ],
   "source": [
    "print(\"Hora actual:\", datetime.now().time())\n",
    "print(\"Día actual:\", date.today())"
   ]
  },
  {
   "cell_type": "markdown",
   "id": "c11be976",
   "metadata": {},
   "source": [
    "## 2. Convierte \"Feb 25 2020 4:20PM\"en datetime object"
   ]
  },
  {
   "cell_type": "code",
   "execution_count": 9,
   "id": "f8d8d9a3",
   "metadata": {},
   "outputs": [
    {
     "name": "stdout",
     "output_type": "stream",
     "text": [
      "2020-02-25 16:20:00\n"
     ]
    }
   ],
   "source": [
    "fecha_cadena = \"Feb 25 2020 4:20PM\"\n",
    "fecha_objeto = datetime.strptime(fecha_cadena, \"%b %d %Y %I:%M%p\")\n",
    "print(fecha_objeto)"
   ]
  },
  {
   "cell_type": "markdown",
   "id": "8a010241",
   "metadata": {},
   "source": [
    "## 3. Resta una semana de una fecha específica"
   ]
  },
  {
   "cell_type": "code",
   "execution_count": 10,
   "id": "4424f1e0",
   "metadata": {},
   "outputs": [
    {
     "name": "stdout",
     "output_type": "stream",
     "text": [
      "2023-04-24 00:00:00\n"
     ]
    }
   ],
   "source": [
    "#funcion especifica para la semana timedelta(week=x) donde x es el numero de semanas que quieres añadir o restar\n",
    "\n",
    "fecha = datetime(2023, 5, 1)  # Fecha específica\n",
    "semana_anterior = fecha - timedelta(weeks=1)\n",
    "print(semana_anterior)"
   ]
  },
  {
   "cell_type": "markdown",
   "id": "535c4bec",
   "metadata": {},
   "source": [
    "## 4. Imprime la fecha en el siguiente formato: nombre del día, número del día, nombre del mes, año"
   ]
  },
  {
   "cell_type": "code",
   "execution_count": 11,
   "id": "71634f32",
   "metadata": {},
   "outputs": [
    {
     "name": "stdout",
     "output_type": "stream",
     "text": [
      "Friday, 05 de May, 2023\n"
     ]
    }
   ],
   "source": [
    "fecha = datetime.now()\n",
    "formato = \"%A, %d de %B, %Y\"\n",
    "fecha_formateada = fecha.strftime(formato)\n",
    "print(fecha_formateada)"
   ]
  },
  {
   "cell_type": "markdown",
   "id": "05d09a74",
   "metadata": {},
   "source": [
    "## 5. Encuentra el día de la semana de esta fecha: 26 de julio de 2022"
   ]
  },
  {
   "cell_type": "code",
   "execution_count": 21,
   "id": "bf5539db",
   "metadata": {},
   "outputs": [
    {
     "name": "stdout",
     "output_type": "stream",
     "text": [
      "Tuesday\n",
      "1\n"
     ]
    }
   ],
   "source": [
    "fecha = datetime(2022, 7, 26)\n",
    "nombre_dia = fecha.strftime(\"%A\")\n",
    "print(nombre_dia)\n",
    "print(fecha.weekday())"
   ]
  },
  {
   "cell_type": "markdown",
   "id": "d3aaf50b",
   "metadata": {},
   "source": [
    "## 6. Añade una semana y 12 horas a una fecha"
   ]
  },
  {
   "cell_type": "code",
   "execution_count": 24,
   "id": "b92755b7",
   "metadata": {},
   "outputs": [
    {
     "name": "stdout",
     "output_type": "stream",
     "text": [
      "2023-05-13 07:38:26.155198\n"
     ]
    }
   ],
   "source": [
    "fecha = datetime.now()\n",
    "d = 7.5\n",
    "print(fecha + timedelta(d))"
   ]
  },
  {
   "cell_type": "markdown",
   "id": "b985046e",
   "metadata": {},
   "source": [
    "## 7. Muestra el tiempo actual en milisegundos"
   ]
  },
  {
   "cell_type": "code",
   "execution_count": 18,
   "id": "d6bc1154",
   "metadata": {},
   "outputs": [
    {
     "name": "stdout",
     "output_type": "stream",
     "text": [
      "834\n"
     ]
    }
   ],
   "source": [
    "# El tiempo acutal solo se puede mostrar en segundos y en microsegundos por lo que hay que dividir el tiempo entre 1000 para que nos de el resultado en milisegundos\n",
    "\n",
    "t = datetime.now().time()\n",
    "milisegundos = t.microsecond // 1000\n",
    "print(milisegundos)"
   ]
  },
  {
   "cell_type": "markdown",
   "id": "6f087374",
   "metadata": {},
   "source": [
    "## 8. Convierte la siguiente fecha al texto"
   ]
  },
  {
   "cell_type": "code",
   "execution_count": 19,
   "id": "eb2c3761",
   "metadata": {},
   "outputs": [
    {
     "name": "stdout",
     "output_type": "stream",
     "text": [
      "2023/05/01\n"
     ]
    }
   ],
   "source": [
    "fecha = datetime(2023, 5, 1)\n",
    "fecha_texto = fecha.strftime(\"%Y/%m/%d\")\n",
    "print(fecha_texto)"
   ]
  },
  {
   "cell_type": "markdown",
   "id": "55060f10",
   "metadata": {},
   "source": [
    "## 9. Calcula el número de días entre estas dos fechas: ‘2021/10/20’ y ‘2022/2/20’"
   ]
  },
  {
   "cell_type": "code",
   "execution_count": 20,
   "id": "38dfff9c",
   "metadata": {},
   "outputs": [
    {
     "name": "stdout",
     "output_type": "stream",
     "text": [
      "123\n"
     ]
    }
   ],
   "source": [
    "fecha1 = date(2021, 10, 20)\n",
    "fecha2 = date(2022, 2, 20)\n",
    "diferencia = fecha2 - fecha1\n",
    "numero_dias = diferencia.days\n",
    "print(numero_dias)"
   ]
  }
 ],
 "metadata": {
  "kernelspec": {
   "display_name": "Python 3 (ipykernel)",
   "language": "python",
   "name": "python3"
  },
  "language_info": {
   "codemirror_mode": {
    "name": "ipython",
    "version": 3
   },
   "file_extension": ".py",
   "mimetype": "text/x-python",
   "name": "python",
   "nbconvert_exporter": "python",
   "pygments_lexer": "ipython3",
   "version": "3.10.9"
  }
 },
 "nbformat": 4,
 "nbformat_minor": 5
}
